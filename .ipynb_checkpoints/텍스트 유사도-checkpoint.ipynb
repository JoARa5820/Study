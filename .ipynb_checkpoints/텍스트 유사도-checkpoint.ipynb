{
 "cells": [
  {
   "cell_type": "markdown",
   "id": "037b1886-8f12-4f2e-8d77-c9e02690dfd7",
   "metadata": {},
   "source": [
    "# - 텍스트 유사도"
   ]
  },
  {
   "cell_type": "markdown",
   "id": "b27e501d-c6d8-49cd-8480-ebab215d3147",
   "metadata": {},
   "source": [
    "-------"
   ]
  },
  {
   "cell_type": "markdown",
   "id": "f6348789-2cd5-4b2c-8db4-59ab52f0575a",
   "metadata": {},
   "source": [
    "## (1) 수치(벡터) 거리"
   ]
  },
  {
   "cell_type": "code",
   "execution_count": null,
   "id": "166a484e-abde-407e-86fc-1f13682a34c7",
   "metadata": {},
   "outputs": [],
   "source": [
    "# - 수치(벡터) 거리\n",
    "# 1. 코사인 유사도(Cosine Similarity)\n",
    "# 2. 유클리디언 거리 유사도(Euclidean Distance Similarity)\n",
    "# 3. 맨하탄 거리 유사도(Manhattan Distance Similarity)\n",
    "# 4. TS / SS / TS-SS (삼각형/부채꼴/혼합형)"
   ]
  },
  {
   "cell_type": "markdown",
   "id": "35f5563c-c930-4db5-bb36-6f395a7bdc84",
   "metadata": {},
   "source": [
    "## (2) 편집 거리"
   ]
  },
  {
   "cell_type": "code",
   "execution_count": null,
   "id": "52480c24-db50-4971-b7b4-bfa3a99fa5bf",
   "metadata": {},
   "outputs": [],
   "source": [
    "# - 편집 거리\n",
    "# 1. 해밍 거리 유사도(Hamming Distance Similarity)\n",
    "# 2. 자로윙클러 유사도(Jaro-Winkler Similarity)\n",
    "# 3. 레벤슈타인 유사도(levenshtein Similarity)"
   ]
  },
  {
   "cell_type": "markdown",
   "id": "eec2e979-1b58-402b-b6db-ca2ae6487741",
   "metadata": {},
   "source": [
    "-------"
   ]
  },
  {
   "cell_type": "code",
   "execution_count": null,
   "id": "0abc826f-c8ff-400a-9375-5d9f347d6fb3",
   "metadata": {},
   "outputs": [],
   "source": [
    "# 1. 코사인 유사도\n",
    "# - 두 문장을 각각 벡터값으로 변환 후 코사인 각도를 구해 유사도 측정\n",
    "# - 결과값 -1 ~ 1 : 1에 가까울수록 유사도가 높다고 해석\n",
    "# - 동일한 문장 길이가 아니어도 문장 길이를 정규화하여 비교하는 로직"
   ]
  },
  {
   "cell_type": "code",
   "execution_count": null,
   "id": "577cb2d9-65e4-4c16-9e40-4760fec7a804",
   "metadata": {},
   "outputs": [],
   "source": [
    "# 2. 유클리디언 거리 유사도\n",
    "# - 두 문장을 각각 벡터값으로 변환 후 n차원 공간에서 두 점 사이 최단거리를 구해 유사도 측정\n",
    "# - 결과값 0 ~ 무한대 : 0에 가까울수록 유사도가 높다고 해석\n",
    "# - 결과값을 0 ~ 1 사이의 값으로 정규화 시켜 해석 진행\n",
    "# - 수치 간 거리를 구하는 방식에는 좋지만, 정보간의 거리를 나타내는 것에는 좋지 않음"
   ]
  },
  {
   "cell_type": "code",
   "execution_count": null,
   "id": "0d5ad508-5d9c-44fa-87d5-c87ac22ff834",
   "metadata": {},
   "outputs": [],
   "source": [
    "# 3. 맨하탄 거리 유사도\n",
    "# - 유클리디언과 비슷한 로직이지만, 두 점 사이의 직선이 아닌 블록 단위의 최단거리를 구해 유사도 측정\n",
    "# - 타 알고리즘에 비해 정확도가 떨어진다는 의견이 많음"
   ]
  },
  {
   "cell_type": "code",
   "execution_count": null,
   "id": "cd6c7276-9977-46f8-a0fb-cc2fd626b62f",
   "metadata": {},
   "outputs": [],
   "source": [
    "# 4. 해밍 거리 유사도\n",
    "# - 두 개의 텍스트의 길이가 같을 때, 각 문자가 서로 다를 때마다 거리를 1씩 늘려나가는 방식으로 계산.\n",
    "#   즉, 같은 문자로 바꾸기 위해 몇 개의 글자를 바꿔줘야 하는지에 대한 계산 방식\n",
    "# - 결과값 0 ~ 무한대 : 0에 가까울수록 유사도가 높다고 해석"
   ]
  },
  {
   "cell_type": "code",
   "execution_count": null,
   "id": "42f4f7f2-9d27-47a2-b933-d6499ac3b67d",
   "metadata": {},
   "outputs": [],
   "source": [
    "# 5. 자로윙클러 유사도\n",
    "# - 두 텍스트간 편집 횟수를 카운팅(Transposition만 고려)\n",
    "# - 결과값 0 ~ 1 : 1에 가까울수록 유사도가 높다고 해석"
   ]
  },
  {
   "cell_type": "code",
   "execution_count": null,
   "id": "773af302-49ab-4c91-b07f-97d9d66e8ef1",
   "metadata": {},
   "outputs": [],
   "source": [
    "# 6. 레벤슈타인 유사도\n",
    "# - 두 텍스트간 편집 횟수를 카운팅(Transposition뿐만 아닌 삭제, 수정 등 고려)\n",
    "# - 결과값 0 ~ 무한대 : 0에 가까울수록 유사도가 높다고 해석"
   ]
  },
  {
   "cell_type": "code",
   "execution_count": null,
   "id": "1ef5196c-b37d-4e54-a1f5-d9105d620e00",
   "metadata": {},
   "outputs": [],
   "source": [
    "# - 편집 거리의 유사도 고려사항\n",
    "# ex. 미르건축사무소 & 아르건축사무소 => 유사도 80%\n",
    "#     (전처리 후) 미르 & 아르 => 유사도 50%\n",
    "# 즉, (전처리 이후 단어가 작아지므로) 한 단어라도 일치할 경우 편집 거리의 유사도는 높게 출력됨"
   ]
  },
  {
   "cell_type": "markdown",
   "id": "8fc3ece0-5a6d-4244-b35d-454372755500",
   "metadata": {},
   "source": [
    "-------"
   ]
  },
  {
   "cell_type": "markdown",
   "id": "c8b4d86b-20d3-4e7c-8462-b51a925bc3f5",
   "metadata": {},
   "source": [
    "## Library Import"
   ]
  },
  {
   "cell_type": "code",
   "execution_count": null,
   "id": "3eb367f4-d0e3-4048-a667-dfbf4cbbf87d",
   "metadata": {},
   "outputs": [],
   "source": [
    "from pyhive import hive\n",
    "from os import linesep, path, sep\n",
    "from requests import Session\n",
    "from requests.adapters import HTTPAdapter\n",
    "from requests.exceptions import *\n",
    "from sys import stdin, stderr, argv\n",
    "from urllib.parse import quote_plus\n",
    "import json\n",
    "import traceback\n",
    "import sys\n",
    "import pandas as pd\n",
    "import time\n",
    "import ctypes\n",
    "import multiprocessing\n",
    "import re\n",
    "from pyhive import hive\n",
    "import os\n",
    "import pickle\n",
    "import numpy as np\n",
    "from multiprocessing import Process, current_process, Pool\n",
    "from functools import reduce\n",
    "import pyspark.sql.functions as F\n",
    "from pyspark.sql.functions import udf,col\n",
    "from pyspark.sql.functions import lit\n",
    "\n",
    "import affinegap as affi\n",
    "import jellyfish as jell\n",
    "import textdistance as td\n",
    "# from korean_romanizer.romanizer import Romanizer\n",
    "\n",
    "from sklearn.preprocessing import StandardScaler\n",
    "scaler = StandardScaler()\n",
    "\n",
    "import warnings\n",
    "warnings.filterwarnings('ignore')\n",
    "\n",
    "from pyspark.sql import SparkSession\n",
    "from pyspark.sql import Row\n",
    "from pyspark.sql.type import *\n",
    "from pyspark.sql.functions import pandas_udf"
   ]
  },
  {
   "cell_type": "code",
   "execution_count": null,
   "id": "93f67fc1-c2d5-44d1-a846-47bf8f399aa8",
   "metadata": {},
   "outputs": [],
   "source": []
  },
  {
   "cell_type": "code",
   "execution_count": null,
   "id": "da6a5519-8ea2-41a6-bac9-50a26306c80b",
   "metadata": {},
   "outputs": [],
   "source": []
  },
  {
   "cell_type": "code",
   "execution_count": null,
   "id": "d0b6c588-2e7b-477c-8971-2305815ca206",
   "metadata": {},
   "outputs": [],
   "source": []
  }
 ],
 "metadata": {
  "kernelspec": {
   "display_name": "sep",
   "language": "python",
   "name": "sep"
  },
  "language_info": {
   "codemirror_mode": {
    "name": "ipython",
    "version": 3
   },
   "file_extension": ".py",
   "mimetype": "text/x-python",
   "name": "python",
   "nbconvert_exporter": "python",
   "pygments_lexer": "ipython3",
   "version": "3.8.6"
  }
 },
 "nbformat": 4,
 "nbformat_minor": 5
}
