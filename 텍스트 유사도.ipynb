{
 "cells": [
  {
   "cell_type": "markdown",
   "id": "38e810c9",
   "metadata": {},
   "source": [
    "# 텍스트 유사도"
   ]
  },
  {
   "cell_type": "markdown",
   "id": "dd76f1cd",
   "metadata": {},
   "source": [
    "-------\n",
    "## (1) 수치(벡터) 거리"
   ]
  },
  {
   "cell_type": "code",
   "execution_count": null,
   "id": "0347da97",
   "metadata": {},
   "outputs": [],
   "source": [
    "# - 수치(벡터) 거리\n",
    "# 1. 코사인 유사도(Cosine Similarity)\n",
    "# 2. 유클리디언 거리 유사도(Euclidean Distance Similarity)\n",
    "# 3. 맨하탄 거리 유사도(Manhattan Distance Similarity)\n",
    "# 4. TS / SS / TS-SS (삼각형/부채꼴/혼합형)"
   ]
  },
  {
   "cell_type": "markdown",
   "id": "0e5b7fa6",
   "metadata": {},
   "source": [
    "## (2) 편집 거리"
   ]
  },
  {
   "cell_type": "code",
   "execution_count": null,
   "id": "68d50e97",
   "metadata": {},
   "outputs": [],
   "source": [
    "# - 편집 거리\n",
    "# 1. 해밍 거리 유사도(Hamming Distance Similarity)\n",
    "# 2. 자로윙클러 유사도(Jaro-Winkler Similarity)\n",
    "# 3. 레벤슈타인 유사도(levenshtein Similarity)"
   ]
  },
  {
   "cell_type": "markdown",
   "id": "84b66906",
   "metadata": {},
   "source": [
    "-------"
   ]
  },
  {
   "cell_type": "code",
   "execution_count": null,
   "id": "4765ea25",
   "metadata": {},
   "outputs": [],
   "source": [
    "# 1. 코사인 유사도\n",
    "# - 두 문장을 각각 벡터값으로 변환 후 코사인 각도를 구해 유사도 측정\n",
    "# - 결과값 -1 ~ 1 : 1에 가까울수록 유사도가 높다고 해석\n",
    "# - 동일한 문장 길이가 아니어도 문장 길이를 정규화하여 비교하는 로직"
   ]
  },
  {
   "cell_type": "code",
   "execution_count": null,
   "id": "6d48be01",
   "metadata": {},
   "outputs": [],
   "source": [
    "# 2. 유클리디언 거리 유사도\n",
    "# - 두 문장을 각각 벡터값으로 변환 후 n차원 공간에서 두 점 사이 최단거리를 구해 유사도 측정\n",
    "# - 결과값 0 ~ 무한대 : 0에 가까울수록 유사도가 높다고 해석\n",
    "# - 결과값을 0 ~ 1 사이의 값으로 정규화 시켜 해석 진행\n",
    "# - 수치 간 거리를 구하는 방식에는 좋지만, 정보간의 거리를 나타내는 것에는 좋지 않음"
   ]
  },
  {
   "cell_type": "code",
   "execution_count": null,
   "id": "a0f87c93",
   "metadata": {},
   "outputs": [],
   "source": [
    "# 3. 맨하탄 거리 유사도\n",
    "# - 유클리디언과 비슷한 로직이지만, 두 점 사이의 직선이 아닌 블록 단위의 최단거리를 구해 유사도 측정\n",
    "# - 타 알고리즘에 비해 정확도가 떨어진다는 의견이 많음"
   ]
  },
  {
   "cell_type": "code",
   "execution_count": null,
   "id": "0932926f",
   "metadata": {},
   "outputs": [],
   "source": [
    "# 4. 해밍 거리 유사도\n",
    "# - 두 개의 텍스트의 길이가 같을 때, 각 문자가 서로 다를 때마다 거리를 1씩 늘려나가는 방식으로 계산.\n",
    "#   즉, 같은 문자로 바꾸기 위해 몇 개의 글자를 바꿔줘야 하는지에 대한 계산 방식\n",
    "# - 결과값 0 ~ 무한대 : 0에 가까울수록 유사도가 높다고 해석"
   ]
  },
  {
   "cell_type": "code",
   "execution_count": null,
   "id": "af8be1e0",
   "metadata": {},
   "outputs": [],
   "source": [
    "# 5. 자로윙클러 유사도\n",
    "# - 두 텍스트간 편집 횟수를 카운팅(Transposition만 고려)\n",
    "# - 결과값 0 ~ 1 : 1에 가까울수록 유사도가 높다고 해석"
   ]
  },
  {
   "cell_type": "code",
   "execution_count": null,
   "id": "0c455a34",
   "metadata": {},
   "outputs": [],
   "source": [
    "# 6. 레벤슈타인 유사도\n",
    "# - 두 텍스트간 편집 횟수를 카운팅(Transposition뿐만 아닌 삭제, 수정 등 고려)\n",
    "# - 결과값 0 ~ 무한대 : 0에 가까울수록 유사도가 높다고 해석"
   ]
  },
  {
   "cell_type": "code",
   "execution_count": null,
   "id": "a2b91d10",
   "metadata": {},
   "outputs": [],
   "source": [
    "# - 편집 거리의 유사도 고려사항\n",
    "# ex. 미르건축사무소 & 아르건축사무소 => 유사도 80%\n",
    "#     (전처리 후) 미르 & 아르 => 유사도 50%\n",
    "# 즉, (전처리 이후 단어가 작아지므로) 한 단어라도 일치할 경우 편집 거리의 유사도는 높게 출력됨"
   ]
  },
  {
   "cell_type": "markdown",
   "id": "8b317e2c",
   "metadata": {},
   "source": [
    "-------"
   ]
  }
 ],
 "metadata": {
  "kernelspec": {
   "display_name": "Python 3 (ipykernel)",
   "language": "python",
   "name": "python3"
  },
  "language_info": {
   "codemirror_mode": {
    "name": "ipython",
    "version": 3
   },
   "file_extension": ".py",
   "mimetype": "text/x-python",
   "name": "python",
   "nbconvert_exporter": "python",
   "pygments_lexer": "ipython3",
   "version": "3.9.7"
  }
 },
 "nbformat": 4,
 "nbformat_minor": 5
}
