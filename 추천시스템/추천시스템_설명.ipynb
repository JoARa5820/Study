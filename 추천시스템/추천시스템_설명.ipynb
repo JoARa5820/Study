{
 "cells": [
  {
   "cell_type": "markdown",
   "metadata": {},
   "source": [
    "# 추천시스템"
   ]
  },
  {
   "cell_type": "code",
   "execution_count": null,
   "metadata": {},
   "outputs": [],
   "source": [
    "# 추천시스템이란?\n",
    "사용자의 interest를 예측해서 흥미로워할 만한 상품을 추천해주는 것\n",
    "추천시스템에 사용되는 data는 Explicit data와 Implicit data가 있음\n",
    "\n",
    "- Explicit data : ex) 영화를 본 뒤 매기는 평점\n",
    "- Implicit data : ex) 사용자가 장바구니에 담거나 해당 아이템 페이지에 머무르거나 하는 함축적인 정보"
   ]
  },
  {
   "cell_type": "code",
   "execution_count": null,
   "metadata": {},
   "outputs": [],
   "source": [
    "# 추천시스템 종류 \n",
    "1. 협업 필터링 (Collaborative Filtering Systems) : user-item interactions\n",
    "2. 컨텐츠 기반 추천시스템 (Content-based Recommender Systems) : characteristic information\n",
    "3. 하이브리드 추천시스템 (Hybrid recommend systems) : 협업 필터링 + 컨텐츠 기반\n",
    "4. 지식 기반 추천시스템 (Knowledge-based Systems) : 사용자가 필요한 조건을 직접 입력, constraint-based 방법과 case-based 방법이 있음\n",
    " - constraint-based : (1) 사용자가 원하는 조건(이하 constraint,attribute,조건)을 입력한다.\n",
    "                      (2) 사용자의 결과를 향상시키기 위해 반복적인 interaction. \n",
    " - case-based : (1) 특정 item과 비슷한 top k items를 얻는다.\n",
    "                (2) 여기서 critiquing을 통해, attribute을 조절한다.\n",
    "                    (critiquing : catalog에서 좋아하는 특정 아이템에서 attribute만 바꾸게 하는 것)\n",
    "            \n",
    "# Content based는 아이템 자체의 특성(장르, 태그 등)을 이용하여 유사한 아이템을 추천하는 것이고\n",
    "# Collaborative Filtering의 item-based는 user-item rank matrix를 기반으로 유사한 아이템을 추천하는 것이다."
   ]
  },
  {
   "cell_type": "code",
   "execution_count": null,
   "metadata": {},
   "outputs": [],
   "source": [
    "# 추천시스템이 왜 필요한가?\n",
    "회사 입장에서 판매율을 높이기 위해 필요하다.\n",
    "각 고객의 취향을 고려한 추천으로 판매율을 높일 수 있다.\n",
    "회사는 수신자의 흥미에 맞는 상품들의 link를 e-mail로 보냄으로써 신규 고객을 얻고 기존 고객을 유지한다.\n",
    "\n",
    "또한 영화나 TV 쇼를 각 사용자의 프로파일에 맞춰 제안한다.\n",
    "이는 사용자가 흥미를 느끼는 컨텐츠를 검색하지않고도 더 쉽게 접근하도록 하며, 추천은 검색 속도를 높여준다.  \n",
    "\n",
    "이를 통해 사용자들은 추가적인 상품들을 구매하거나 컨텐츠를 소비하고,\n",
    "회사는 (사용자의 니즈를 앎으로써) 경쟁력을 얻어 이익을 얻고 고객을 유지한다."
   ]
  },
  {
   "cell_type": "code",
   "execution_count": null,
   "metadata": {},
   "outputs": [],
   "source": [
    "# 추천시스템 목표\n",
    "(1) Prediction version of Problem\n",
    "  - Matrix Completion Problem이라고도 함\n",
    "  - 학습데이터를 이용해 유저의 선호도를 정확하게 예측하는 것이 목적\n",
    "  - ex. A 유저는 1번 상품을 선호할 것이다\n",
    "(2) Ranking version of Problem\n",
    "  - 정확한 수치를 예측하는 것이 아니라 랭킹을 고려해 Top-k의 아이템을 선정하는 것이 목적\n",
    "  - ex. A 유저는 1,2,3번 상품순으로 선호할 것이다"
   ]
  },
  {
   "cell_type": "code",
   "execution_count": null,
   "metadata": {},
   "outputs": [],
   "source": [
    "# 실제 운영적/기술적 측면에서의 목적\n",
    "1. Relevance   : 추천된 아이템이 유저와 관련 있는가?\n",
    "2. Novelty     : 진부한 아이템(Sales Top 100)이 아닌 유저가 탐색하지 못한 색다른 아이템을 추천해주는가?\n",
    "3. Serendipity : 유저가 이전에 경험해보지 못한 완전 새로운 아이템을 추천해주는가?\n",
    "4. Diversity   : 추천된 Top-k 아이템에 다양한 아이템이 포함되는가?"
   ]
  },
  {
   "cell_type": "code",
   "execution_count": null,
   "metadata": {},
   "outputs": [],
   "source": [
    "# 추천시스템을 사용하기 위한 전제조건\n",
    "- DATA가 유일하게 그리고 엄청나게 중요\n",
    "- 만약 metadata만 가능하다면 컨텐츠 기반 추천시스템으로 시작할 수 있고\n",
    "  엄청난 interactions 정보가 있다면 더 강력한 추천시스템인 협업필터링 추천시스템이 적용 가능함"
   ]
  },
  {
   "cell_type": "code",
   "execution_count": null,
   "metadata": {},
   "outputs": [],
   "source": [
    "# user-items interactions을 사용할 때 주의할 점\n",
    "(1) 시스템에 따라 interactions을 정의해야함\n",
    "    예를 들어, 인터넷 쇼핑몰이라면 interactions은 아이템에 대한 클릭,방문,선호하는 아이템,구입,평점,장바구니에 담긴 상품들 또는 장바구니에서 삭제된 상품들과 같이 정의할 수 있음\n",
    "(2) interactions은 정보와 같이 explicit(명백함)과 implicit(절대적)으로 나눌 수 있음\n",
    "    Explicit : 리뷰나 평점\n",
    "    Implicit : 사용자의 actions(ex. 상품을 검색하거나 구입하는 등의 행동)\n",
    "(3) 사용자와 아이템의 interactions의 수가 많을수록 최종 추천 결과는 좋을 것\n",
    "(4) 많은 사용자들이 interact하는 인기 상품들이 있고 그렇지 않은 비인기 상품이 있음\n",
    "    추천시스템은 Popular products(인기 상품)들에서는 대부분 잘 작동하지만 사용자들이 이미 아는 상품일 가능성이 크므로 사용자에게 큰 흥미를 주지 않음\n",
    "    Long Tail의 아이템들(비인기 상품)은 추천되지 않으면 잘 모르는 흥미로운 상품들임\n",
    "    새로운 상품을 런칭하는 맥락에서, 추천시스템을 밑바닥부터 실행시키는 건 쉽지 않음\n",
    "    컨텐츠 기반의 추천은 사용자들이 interacting을 시작하면 편리해짐\n",
    "    아예 기존 히스토리가 없는 경우에는 사용자들에게 그들의 관심사를 물어볼 수 있음\n",
    "    사용자들과 아이템들의 interactions에 대한 정보가 풍부해지면 collaborative filtering을 시작할 수 있음(그러면 더 정밀한 추천이 가능)"
   ]
  },
  {
   "cell_type": "code",
   "execution_count": null,
   "metadata": {},
   "outputs": [],
   "source": [
    "# 추천시스템의 성능 평가\n",
    "추천시스템의 goal에 따라 평가 방법이 달라짐\n",
    "단지 Top-5 items에 관심이 있다면 나머지 아이템들에 대한 예측을 고려할 필요가 없음\n",
    "그러나 추천아이템 5개의 순서에 관심이 있다면 다음의 방법들을 고려해볼 것\n",
    "\n",
    "(1) Online methods : A/B testing이라고도 불림 (ex. 추천아이템에 대한 user clicks)\n",
    "                     이상적인 방법이지만, 이미 만들어진 시스템과 실시간으로 interacting 해야하기 때문에 실행하기 어려움\n",
    "(2) Offline methods : experimental stages(실험 단계)에서 이상적\n",
    "                      사용자가 직접적으로 포함되지 않기 때문에 + online methods와 다르게 system이 고려되지 않아도 됨\n",
    "                      Data는 training dataset과 validation dataset으로 나뉨\n",
    "                      즉, data의 일부분이 system을 만드는데 사용됨(training dataset)\n",
    "                      그리고 나머지 부분(validation dataset)은 이 시스템을 평가하는데에 사용됨\n",
    "                      offline methods를 사용할 때에는 결과에 영향을 미치는 factors가 있을 수 있으니 신중하게 다뤄야함\n",
    "                      (예를 들어, 시간 factor는 추천에서 매우 중요하므로 꼭 고려해야함)\n",
    "                      => 대부분 오프라인 방식을 사용하는듯 함"
   ]
  },
  {
   "cell_type": "markdown",
   "metadata": {},
   "source": [
    "-----------\n",
    "## 1. 협업 필터링 (Collaborative Filtering)"
   ]
  },
  {
   "cell_type": "code",
   "execution_count": null,
   "metadata": {},
   "outputs": [],
   "source": [
    "협업 필터링은 행렬의 빈 부분을 채우기 위해 다수가 협업하는 식으로 해결하는 모델\n",
    "정확한 추천을 만들기 위해 한 사용자에 대한 많은 양의 정보를 필요로 함\n",
    "사용자나 아이템의 비슷함(similarity)을 측정하는 데 사용\n",
    "주요 task는 (유저-아이템) 행렬의 빈 부분을 채우는 것이고 이를 Matrix Completion(행렬 완성)이라고 부름\n",
    "최근 가장 빈번하게 쓰이는 접근법 중 하나이고 컨텐츠 기반 시스템보다 대부분의 경우에서 나은 결과를 제공함\n",
    "\n",
    "Collaborative Filtering 접근법의 한 중요한 장점은 Machine Analyzable Content(기계 분석 가능한 콘텐츠)에 의존하고 있지 않다는 것임\n",
    "그래서 정확하게 아이템 그 자체를 이해하지 않고도 영화와 같은 복잡한 아이템들을 추천할 수 있음\n",
    "\n",
    "각 유저와 아이템은 특정 수준의 상관관계를 가진다고 가정함\n",
    "예를 들어, A와 B가 유사한 그룹으로 묶인다면 B가 선호하는 아이템을 A가 좋아할 것으로 예측함\n",
    "따라서 A가 구매한 아이템을 제외하고 B가 선호하는 아이템을 A에게 추천함\n",
    "\n",
    "- 분석 기법 : KNN, Pearson correlation(피어슨 상관분석)\n",
    "- 사용 예시 : Linkedin, Facebook과 같은 SNS는 Collaborative Filtering을 친구 추천 등에 사용\n",
    "              유튜브, 넷플릭스 그리고 스포티파이에서도 쓰임\n",
    "        \n",
    "- 단점 : (1) Cold start 문제 : 시스템이 작동하기 위해서는 user-item interactions에 대한 충분한 정보가 있어야함\n",
    "                               만약 인터넷 쇼핑몰을 새로 연다고 할 때 우리는 사용자들이 많은 아이템들과 interact 하기전에는 제대로 된 추천을 할 수 없음\n",
    "         (2) 신규 사용자/아이템 추가 시 문제 : 새로운 사용자나 아이템을 추가할 때 기존의 interactions이 없기 때문에\n",
    "                                               prior 정보를 갖고 있지 않음\n",
    "                                               => 이런 문제를 해결하기 위해 hybrid 시스템이 필요!"
   ]
  },
  {
   "cell_type": "markdown",
   "metadata": {},
   "source": [
    "### - 메모리 기반 방법 (Memory-Based methods) Vs. 모델 기반 방법 (Model-Based methods)"
   ]
  },
  {
   "cell_type": "code",
   "execution_count": null,
   "metadata": {},
   "outputs": [],
   "source": [
    "# 협업 필터링은 메모리 기반 방법과 모델 기반 방법으로 나누어짐\n",
    "나누는 기준은 parametric maching learning을 사용하는 방법은 Model-based라 할 수 있음\n",
    "즉, Gradient Descent와 같은 Optimization방법으로 parameter를 업데이트하는 방식이면 Model-based이고, 그렇지 않으면 Memory-based임"
   ]
  },
  {
   "cell_type": "markdown",
   "metadata": {},
   "source": [
    "### 1-1. 메모리 기반 방법 (Memory-Based methods)"
   ]
  },
  {
   "cell_type": "code",
   "execution_count": null,
   "metadata": {},
   "outputs": [],
   "source": [
    "- Memory-Based methods(메모리 기반 방법)은 Neighborhood-based Collaborative Filtering Algorithms(이웃 기반 협업 필터링)이라고도 불리며,\n",
    "  User-based collaborative filtering(유저 기반 협업 필터링)과 Item-based collaborative filtering(아이템 기반 협업 필터링)으로 구분됨\n",
    "- 알고리즘이 복잡하지는 않지만, 결과를 추적하려면 많은 메모리가 필요하기 때문에 메모리 기반이라고 부름\n",
    "- 메모리 기반 협업필터링은 user-item matrix의 sparsity라는 문제를 갖게 됨(너무 sparse하면 정확한 cluster를 형성하기 힘들기 때문에)\n",
    "\n",
    "(1) 유저 기반 협업필터링(User-based collaborative filtering)\n",
    "  - 유저간의 유사도가 높을수록 높은 가중치를 부여하는 방식\n",
    "  - 해당 유저가 아직 구매하지 않았고, 동질 그룹의 다른 유저가 선호하는 아이템을 추천해줌\n",
    "  - 일반적으로 A 유저와 유사한 Top-K 유저들로 동질 그룹을 구성하여 A 유저가 선호할만한 아이템을 선정함\n",
    "\n",
    "(2) 아이템 기반 협업필터링(Item-based collaborative filtering)\n",
    "  - B 아이템에 대한 A 유저의 선호도를 예측하기 위해 B와 가장 유사한 Top-K 아이템을 선정하여 item set을 구성함"
   ]
  },
  {
   "cell_type": "markdown",
   "metadata": {},
   "source": [
    "### 1-2. 모델 기반 방법 (Model-Based methods)"
   ]
  },
  {
   "cell_type": "code",
   "execution_count": null,
   "metadata": {},
   "outputs": [],
   "source": [
    "- 일종의 기계 학습 알고리즘을 사용\n",
    "- 모델 기반의 협업필터링은 머신러닝이나 데이터 마이닝 기술들을 기반으로 함\n",
    "  (모델 기반 방법은 머신러닝이나 데이터마이닝 방법에서 예측 모델의 문맥(context)을 기반으로 한 방법)\n",
    "- 모델이 파라미터화되어 있다면 이 모델의 파라미터는 문맥(context)내에서 학습됨\n",
    "- 의사결정나무, 베이지안 모델 등이 이 예시에 해당됨\n",
    "\n",
    "- 목표 : 모델을 training해서 예측하게 만들자!\n",
    "         예를 들어 기존의 user-item interactions의 히스토리를 이용하여 모델을 트레이닝하고 사용자가 좋아할 만한 top-5 items을 예측\n",
    "- 장점 : 메모리 기반의 협업필터링에 비해, 심지어 matrix가 sparse할 때도 많은 사용자들에게 많은 아이템들을 추천할 수 있다. \"large coverage\""
   ]
  },
  {
   "cell_type": "markdown",
   "metadata": {},
   "source": [
    "-----------\n",
    "## 2. 컨텐츠 기반 필터링 (Content-based Filtering)"
   ]
  },
  {
   "cell_type": "code",
   "execution_count": null,
   "metadata": {},
   "outputs": [],
   "source": [
    "과거에 선호했던 아이템을 미래에도 선호할 것이라는 가정을 기초로 두고 있음\n",
    "컨텐츠 기반 시스템의 단점은 색다른 컨텐츠를 추천하기가 어렵다는 것\n",
    "(유저가 A,B,C,D 카테고리에 관심이 있다고 판단되면 그 외의 카테고리 아이템은 추천하지 않음)\n",
    "또 다른 문제점은 새로운 사용자들은 기존의 정보가 없기 때문에 위와 같이 explicit(명백한)정보를 묻지 않는 한 추천이 힘들 수 있음\n",
    "\n",
    "이러한 문제점들에도 불구하고 컨텐츠 기반 시스템은 상대적으로 새로운 사용자들을 시스템에 추가하는 것이 쉽다는 장점이 있음\n",
    "(사용자의 취향에 따라 grouping만 하면 되기 때문에)\n",
    "\n",
    "- 장점 : 신규 사용자들을 추가하기 쉬움\n",
    "- 단점 : 신규 사용자들에게 직접 explicit data를 요구하지 않는 이상 추천을 할 수 없음\n",
    "         색다른 컨텐츠를 추천하기가 어려움"
   ]
  },
  {
   "cell_type": "code",
   "execution_count": null,
   "metadata": {},
   "outputs": [],
   "source": [
    "item에 대한 설명(description)과 사용자 선호에 대한 profile을 기반으로 함\n",
    "다양한 후보 items은 사용자에 의해 현재 평가되는 (rated) items과 비교되고 best-matching items이 추천됨\n",
    "이 접근법은 정보 검색(information retrieval)과 정보 필터링(information filtering)에 뿌리를 두고 있음\n",
    "\n",
    "- Information retrieval : 집합적 정보로부터 원하거나 관련된 정보를 가져오는 것\n",
    "- Information filtering : 필요없는 정보를 제거하는 것"
   ]
  },
  {
   "cell_type": "code",
   "execution_count": null,
   "metadata": {},
   "outputs": [],
   "source": [
    "협업필터링과 달리 사용자가 과거에 경험했던 아이템 중 비슷한 아이템을 현재 시점에서 추천해주는 것\n",
    "Information Retrieval(정보 검색)과 ML(머신러닝)의 중간에서 '정보를 찾는 과정과 과거 정보를 활용해서 유저의 성향을 배우는 문제'\n",
    "시작할 때 정보를 조금 필요로 하는 반면에 범위(scope)가 한정적임(원래의 정보에서 비슷한 추천만 만들 수 있음)\n",
    "\n",
    "# 순서\n",
    "- 1. 데이터 획득(유저,아이템 정보)\n",
    "- 2. 컨텐츠 분석(Content Analyzer) : 비정형 데이터로부터 관련 있는 정보를 추출하는 작업(feature extraction, vector representation 등)\n",
    "- 3. 유저 프로필 파악(Profile Learner) : 유저의 선호아이템과 취향 파악\n",
    "- 4. 유사 아이템 선택(Filtering Component) : cosine 유사도 등 이용\n",
    "- 5. 추천 리스트 생성\n",
    "\n",
    "ex. 유저가 떡볶이를 시켜먹었다면, 떡볶이의 특징(분식, 매운 음식)을 토대로 관련된 특징을 가진 음식을 추천하도록 학습"
   ]
  },
  {
   "cell_type": "code",
   "execution_count": null,
   "metadata": {},
   "outputs": [],
   "source": [
    "# TF-IDF\n",
    "- Items의 특징을 끌어내기 위해, TF-IDF 알고리즘이 많이 사용됨\n",
    "- TF-IDF(Term Frequency-Inverse Document Frequency) : TF-IDF는 정보 검색과 텍스트 마이닝에서 이용하는 가중치로,\n",
    "                                                      여러 문서로 이루어진 문서군이 있을 때\n",
    "                                                      어떤 단어가 특정 문서 내에서 얼마나 중요한 것인지를 나타내는 통계적 수치임\n",
    "- TF(Term-Frequency : 단어 빈도)가 높을수록 문서에서 중요하다고 생각될 수도 있지만, 단순히 흔하게 등장하는 것일 수도 있음\n",
    "  이를 DF(Document Frequency : 문서 빈도)라고 하며, 이 값의 역수를 IDF(Inverse)라고 한다. TF-IDF는 TF와 IDF를 곱한 값임"
   ]
  },
  {
   "cell_type": "markdown",
   "metadata": {},
   "source": [
    "--------\n",
    "## 3. 하이브리드 추천시스템(Hybrid recommend system):"
   ]
  },
  {
   "cell_type": "code",
   "execution_count": null,
   "metadata": {},
   "outputs": [],
   "source": [
    "- 협업 필터링과 컨텐츠 기반 추천시스템들을 결합하여 생성\n",
    "- cold start와 sparsity(희소성) 같은 문제를 극복할 수 있음\n",
    "- hybrid 추천시스템의 좋은 예 : Netflix\n",
    "  => 이 웹사이트는 사용자가 높게 평가했던(content-based)영화와 비슷한 특성을 띄는 영화를 추천하고,\n",
    "     비슷한 사용자(collaborate)들의 검색 습관과 시청을 비교함으로서 추천해줌\n",
    "  => 새로운 아이템에 대한 평점이 없으면 추천 성능이 떨어지게 되는 협업 필터링과\n",
    "     아이템 특징에 대한 정보를 이용할 수 있는 지식 기반 추천시스템을 결합"
   ]
  },
  {
   "cell_type": "markdown",
   "metadata": {},
   "source": [
    "----------\n",
    "## 4. 지식 기반 추천시스템(Knowledge based recommend system)"
   ]
  },
  {
   "cell_type": "code",
   "execution_count": null,
   "metadata": {},
   "outputs": [],
   "source": [
    "- 사용자들의 구매 이력이 적은 경우에 사용\n",
    "- 아이템을 추천하기 전에 아이템의 특징과 명시적인 질문을 통해 획득한 사용자 선호도와 추천 범위 등 아이템에 대한 정보를 고려하여 추천"
   ]
  },
  {
   "cell_type": "markdown",
   "metadata": {},
   "source": [
    "------\n",
    "### ※ 참고"
   ]
  },
  {
   "cell_type": "code",
   "execution_count": null,
   "metadata": {},
   "outputs": [],
   "source": [
    "- https://simonezz.tistory.com/34\n",
    "- https://simonezz.tistory.com/38\n",
    "- https://dsbook.tistory.com/334\n",
    "- https://ko.wikipedia.org/wiki/%EC%B6%94%EC%B2%9C_%EC%8B%9C%EC%8A%A4%ED%85%9C\n",
    "- https://blog.naver.com/PostView.naver?blogId=jamesoh0813&logNo=222461663923"
   ]
  }
 ],
 "metadata": {
  "kernelspec": {
   "display_name": "Python 3",
   "language": "python",
   "name": "python3"
  },
  "language_info": {
   "codemirror_mode": {
    "name": "ipython",
    "version": 3
   },
   "file_extension": ".py",
   "mimetype": "text/x-python",
   "name": "python",
   "nbconvert_exporter": "python",
   "pygments_lexer": "ipython3",
   "version": "3.8.5"
  }
 },
 "nbformat": 4,
 "nbformat_minor": 4
}
