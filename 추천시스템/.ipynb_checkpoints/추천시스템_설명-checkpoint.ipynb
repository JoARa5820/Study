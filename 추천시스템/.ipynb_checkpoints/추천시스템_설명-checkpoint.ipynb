{
 "cells": [
  {
   "cell_type": "markdown",
   "metadata": {},
   "source": [
    "# 추천 시스템"
   ]
  },
  {
   "cell_type": "code",
   "execution_count": null,
   "metadata": {},
   "outputs": [],
   "source": [
    "# 추천 시스템 종류 \n",
    "1. 협업 필터링 (Collaborative Filtering)\n",
    "2. 컨텐츠 기반 추천시스템 (Content-based Recommender Systems)\n",
    "3. 지식 기반 추천시스템 (Knowledge-based Systems)"
   ]
  },
  {
   "cell_type": "code",
   "execution_count": null,
   "metadata": {},
   "outputs": [],
   "source": [
    "# 추천 시스템 목적\n",
    "\n",
    "(1) Prediction version of Problem\n",
    "- Matrix Completion Problem이라고도 함\n",
    "- 학습데이터를 이용해 유저의 선호도를 정확하게 예측하는 것이 목적\n",
    "- ex. A 유저는 1번 상품을 선호할 것이다\n",
    "\n",
    "(2) Ranking version of Problem\n",
    "- 정확한 수치를 예측하는 것이 아니라 랭킹을 고려해 Top-k의 아이템을 선정하는 것이 목적\n",
    "- ex. A 유저는 1,2,3번 상품순으로 선호할 것이다"
   ]
  },
  {
   "cell_type": "code",
   "execution_count": null,
   "metadata": {},
   "outputs": [],
   "source": [
    "# 실제 운영적/기술적 측면에서의 목적\n",
    "1. Relevance   : 추천된 아이템이 유저와 관련 있는가?\n",
    "2. Novelty     : 진부한 아이템(Sales Top 100)이 아닌 유저가 탐색하지 못한 색다른 아이템을 추천해주는가?\n",
    "3. Serendipity : 유저가 이전에 경험해보지 못한 완전 새로운 아이템을 추천해주는가?\n",
    "4. Diversity   : 추천된 Top-k 아이템에 다양한 아이템이 포함되는가?"
   ]
  },
  {
   "cell_type": "markdown",
   "metadata": {},
   "source": [
    "-----------\n",
    "### 1. 협업 필터링 (Collaborative Filtering)"
   ]
  },
  {
   "cell_type": "code",
   "execution_count": null,
   "metadata": {},
   "outputs": [],
   "source": [
    "협업 필터링은 사용자의 행동/활동/선호도에 대해 많은 정보를 수집/분석하고,\n",
    "다른 사용자와 비슷함에 기초를 두고 사용자들이 무엇을 좋아할 지를 예측하는 것에 기초를 두고 있다. Collaborative Filtering 접근법의 한 중요한 장점은 machine analyzable content에 의존하고 있지 않다는 것이다. 그래서 정확하게 아이템 그 자체를 이해하지 않고도 영화와 같은 복잡한 아이템들을 추천 할 수 있다. 많은 알고리즘은 추천 시스템에서 사용자나 아이템의 비슷함(similarity)을 측정하는 데 사용되고 있다. 예를 들어, KNN[1]과 Pearson correlation이 있다.\n",
    "\n",
    "Collaborate filtering은 과거에 동의한 사람들이 미래에도 동의하고 그들이 그들이 과거에 좋아했던 것들을 좋아할것이라는 가정에 기초를 두고 있다.\n",
    "\n",
    "- Explicit data collection의 예) 사용자에게 item을 평가하게 하기, 검색하게 하기, 가장 선호하는 것과 가장 덜 선호하는 것을 순위매기게 하기 등\n",
    "- implicit data collection의 예) 사용자가 본 item을 관찰하고 분석하기, 사용자가 구매한 item을 기록하기, 사용자의 SNS를 분석하고 비슷한 likes와 dislikes를 찾아내기\n",
    "\n",
    "이 추천 시스템은 모아진 데이터를 다른 사람들로부터 모아진 비슷하고 안비슷한 데이터와 비교하고, 사용자의 추천된 items 목록을 계산한다.\n",
    "\n",
    "Linkedin, facebook과 같은 SNS는 collaboprative filtering을 친구 추천 등에 사용한다.\n",
    "\n",
    "추천시스템의 주요 task는 (유저-아이템) 행렬의 빈 부분을 채우는 것이고 이를 Matrix Completion이라고 부름\n",
    "이 모델은 행렬의 빈 부분을 채우기 위해 다수가 협업하는 식으로 해결하는 모델임\n",
    "즉, 각 유저와 아이템은 특정 수준의 상관관계를 가진다고 가정함\n",
    "예를 들어, A와 B가 유사한 그룹으로 묶인다면 B가 선호하는 아이템을 A가 좋아할 것으로 예측한다.\n",
    "따라서 A가 구매한 아이템을 제외하고 B가 선호하는 아이템을 A에게 추천한다.\n",
    "\n",
    "정확한 추천을 만들기 위해 한 사용자에 대한 많은 양의 정보를 필요로 함\n",
    "\n",
    "\n",
    "# 정보 기반 협업필터링 (Memory-Based methods)\n",
    "Memory-Based methods는 neighborhood-based collaborative filtering algorithms라고도 불리며\n",
    "User-based collaborative filtering(유저 기반 협업필터링)과 Item-based collaborative filtering(아이템 기반 협업필터링)으로 구분됨\n",
    "\n",
    "(1) 유저 기반 협업필터링(User-based collaborative filtering)\n",
    "유저간의 유사도가 높을수록 높은 가중치를 부여하는 방식\n",
    "특정 유저가 아직 구매하지 않았으나 동질 그룹의 다른 유저가 선호하는 아이템을 추천해줌\n",
    "일반적으로 A 유저와 유사한 Top K 유저들로 동질 그룹을 구성하여 A 유저가 선호할만한 아이템을 선정함\n",
    "\n",
    "(2) 아이템 기반 협업필터링(Item-based collaborative filtering)\n",
    "B 아이템에 대한 A 유저의 선호도를 예측하기 위해 B와 가장 유사한 Top K 아이템을 선정하여 item set을 구성함\n",
    "\n",
    "(3) 모델 기반 방법(Model-based methods)\n",
    "모델 기반 방법은 머신러닝이나 데이터마이닝 방법에서 예측 모델의 문맥(context)을 기반으로 한 방법\n",
    "모델이 파라미터화되어 있다면 이 모델의 파라미터는 문맥(context)내에서 학습됨\n",
    "의사결정나무, 베이지안모델 등이 이 예시에 해당됨\n",
    "\n",
    "ㅡㅡㅡㅡㅡㅡㅡㅡㅡㅡㅡㅡㅡㅡㅡㅡㅡㅡㅡㅡㅡㅡㅡㅡㅡㅡㅡㅡㅡㅡㅡㅡㅡㅡㅡㅡㅡㅡㅡㅡㅡㅡㅡㅡㅡㅡㅡㅡㅡㅡ\n",
    "\n",
    "### 2. 컨텐츠 기반 추천시스템 (Content-based filtering)\n",
    "\n",
    "item에 대한 설명(description)과 사용자 선호에 대한 profile을 기반으로 한다.\n",
    "다양한 후보 items은 사용자에 의해 현재 평가되는 (rated) items과 비교되고 best-matching items은 추천된다. 이 접근법은 정보 검색(information retrieval)과 정보 필터링(information filtering)에 뿌리를 두고 있다.\n",
    "\n",
    "- Information retrieval : 집합적 정보로부터 원하는 내용이나 관련되는 내용을 가져오는 것\n",
    "- Information filtering : 필요 없는 정보를 제거하는 것\n",
    "\n",
    "협업필터링과 달리 사용자가 과거에 경험했던 아이템 중 비슷한 아이템을 현재 시점에서 추천해주는 것\n",
    "Information Retrieval(정보 검색)과 ML의 중간에서 '정보를 찾는 과정과 과거 정보를 활용해서 유저의 성향을 배우는 문제'\n",
    "1. 데이터 획득(유저,아이템 정보)\n",
    "2. 컨텐츠 분석(Content Analyzer) : 비정형 데이터로부터 관련 있는 정보 추출하는 작업, feature extraction, vector representation\n",
    "3. 유저 프로필 파악(Profile Learner) : 유저의 선호아이템과 취향 파악\n",
    "4. 유사 아이템 선택(Filtering Component) : cosine 유사도 등 이용\n",
    "5. 추천 리스트 생성\n",
    "\n",
    "ex. 사용자가 떡볶이를 시켜먹었다면, 떡볶이와 관련된 특정(분식, 매운 음식)을 토대로 관련된 특징을 가진 음식을 추천하도록 학습\n",
    "\n",
    "시작할 때 정보를 조금 필요로 하는 반면에 범위(scope)가 한정적(원래의 정보에서 비슷한 추천만 만들 수 있음)\n",
    "\n",
    "\n",
    "지식 기반 추천시스템(Knowledge based recommend system) :\n",
    "사용자들의 구매 이력이 적은 경우에 사용\n",
    "아이템을 추천하기 전에 아이템의 특징과 명시적인 질문을 통해 획득한 사용자 선호도와 추천 범위 등 아이템에 대한 정보를 고려하여 추천\n",
    "\n",
    "\n",
    "\n",
    "하이브리드 추천 시스템(Hybrid recommend system):\n",
    "위에서 언급한 추천시스템들을 결합하여 생성\n",
    "cold start와 sparsity(희소성) 같은 문제를 극복할 수 있다고 한다.\n",
    "- Cold start : 충분한 정보가 없어서 필요한 정보를 얻지 못하는 것\n",
    "\n",
    "Netflix는 hybrid 추천 시스템의 좋은 예이다. 이 웹사이트는 사용자가 높게 평가했던(content-based)영화와 비슷한 특성을 띄는 영화를 추천 하고, 비슷한 사용자(collaborate)들의 검색 습관과 시청을 비교함으로서 추천을 한다.\n",
    "\n",
    "ex. 새로운 아이템에 대한 평점이 없으면 추천 성능이 떨어지게 되는 협업 필터링과\n",
    "아이템의 특징에 대한 정보를 이용할 수 있는 지식 기반 추천시스템을 결합\n",
    "\n",
    "ㅡㅡㅡㅡㅡㅡㅡㅡㅡㅡㅡㅡㅡㅡㅡㅡㅡㅡㅡㅡㅡㅡㅡㅡㅡㅡㅡㅡㅡㅡㅡㅡㅡㅡㅡㅡㅡㅡㅡㅡㅡㅡㅡㅡㅡㅡㅡㅡㅡㅡㅡㅡㅡㅡㅡ\n",
    "\n",
    "# 컨텐츠 기반 추천시스템 (Content-based filtering)은\n",
    "\n",
    "Items의 특징을 끌어내기 위해, tf-idf 알고리즘이 많이 사용된다.\n",
    "Tf-idf : Term frequency-inverse document frequency\n",
    "       : TF-IDF는 정보 검색과 텍스트 마이닝에서 이용하는 가중치로, 여러 문서로 이루어진 문서군이 있을 때 어떤 단어가 특정 문서 내에서 얼마나 중요한 것인지를 나타내는 통계적 수치이다\n",
    "\n",
    "TF(term-frequency 단어 빈도)가 높을 수록 문서에서 중요하다고 생각될 수도 있지만 단순히 흔하게 등장하는 것일 수도 있음. 이를 DF(document frequency 문서 빈도)라고 하며, 이 값의 역수를 IDF(inverse)라고 한다. TF-IDF는 TF와 IDF를 곱한 값이다.\n",
    "\n",
    "ㅡㅡㅡㅡㅡㅡㅡㅡㅡㅡㅡㅡㅡㅡㅡㅡㅡㅡㅡㅡㅡㅡㅡㅡㅡㅡㅡㅡㅡㅡㅡㅡㅡㅡㅡㅡㅡㅡㅡㅡㅡㅡㅡㅡㅡㅡㅡㅡㅡㅡㅡㅡㅡㅡㅡ"
   ]
  },
  {
   "cell_type": "code",
   "execution_count": null,
   "metadata": {},
   "outputs": [],
   "source": [
    "[참고]\n",
    "- https://dsbook.tistory.com/334\n",
    "- https://ko.wikipedia.org/wiki/%EC%B6%94%EC%B2%9C_%EC%8B%9C%EC%8A%A4%ED%85%9C"
   ]
  }
 ],
 "metadata": {
  "kernelspec": {
   "display_name": "Python 3",
   "language": "python",
   "name": "python3"
  },
  "language_info": {
   "codemirror_mode": {
    "name": "ipython",
    "version": 3
   },
   "file_extension": ".py",
   "mimetype": "text/x-python",
   "name": "python",
   "nbconvert_exporter": "python",
   "pygments_lexer": "ipython3",
   "version": "3.8.5"
  }
 },
 "nbformat": 4,
 "nbformat_minor": 4
}
