{
 "cells": [
  {
   "cell_type": "code",
   "execution_count": 1,
   "metadata": {
    "execution": {
     "iopub.execute_input": "2020-08-23T07:12:00.013052Z",
     "iopub.status.busy": "2020-08-23T07:12:00.006374Z",
     "iopub.status.idle": "2020-08-23T07:12:04.915881Z",
     "shell.execute_reply": "2020-08-23T07:12:04.914986Z"
    },
    "papermill": {
     "duration": 4.928906,
     "end_time": "2020-08-23T07:12:04.916047",
     "exception": false,
     "start_time": "2020-08-23T07:11:59.987141",
     "status": "completed"
    },
    "tags": []
   },
   "outputs": [],
   "source": [
    "import pickle\n",
    "import pandas as pd\n",
    "import numpy as np\n",
    "import os, sys, gc \n",
    "from plotnine import *\n",
    "import plotnine\n",
    "\n",
    "from tqdm import tqdm_notebook\n",
    "import seaborn as sns\n",
    "import warnings\n",
    "import matplotlib.pyplot as plt\n",
    "import matplotlib.font_manager as fm\n",
    "import matplotlib as mpl\n",
    "from matplotlib import rc\n",
    "import re\n",
    "from matplotlib.ticker import PercentFormatter\n",
    "import datetime\n",
    "from math import log # IDF 계산을 위해"
   ]
  },
  {
   "cell_type": "markdown",
   "execution_count": null,
   "metadata": {
    "papermill": {
     "duration": 0.008777,
     "end_time": "2020-08-23T07:12:04.935380",
     "exception": false,
     "start_time": "2020-08-23T07:12:04.926603",
     "status": "completed"
    },
    "tags": []
   },
   "source": [
    "## 베이스라인 모델 생성\n",
    "- Popular Based Recommendation\n",
    "- Popular Based Recommendation with following arthor"
   ]
  },
  {
   "cell_type": "code",
   "execution_count": 2,
   "metadata": {
    "execution": {
     "iopub.execute_input": "2020-08-23T07:12:04.962950Z",
     "iopub.status.busy": "2020-08-23T07:12:04.961945Z",
     "iopub.status.idle": "2020-08-23T07:12:04.965610Z",
     "shell.execute_reply": "2020-08-23T07:12:04.964937Z"
    },
    "papermill": {
     "duration": 0.021047,
     "end_time": "2020-08-23T07:12:04.965767",
     "exception": false,
     "start_time": "2020-08-23T07:12:04.944720",
     "status": "completed"
    },
    "tags": []
   },
   "outputs": [],
   "source": [
    "path = \"../input/t-academy-recommendation/\""
   ]
  },
  {
   "cell_type": "code",
   "execution_count": 3,
   "metadata": {
    "execution": {
     "iopub.execute_input": "2020-08-23T07:12:04.993575Z",
     "iopub.status.busy": "2020-08-23T07:12:04.992437Z",
     "iopub.status.idle": "2020-08-23T07:12:23.610435Z",
     "shell.execute_reply": "2020-08-23T07:12:23.611220Z"
    },
    "papermill": {
     "duration": 18.636633,
     "end_time": "2020-08-23T07:12:23.611399",
     "exception": false,
     "start_time": "2020-08-23T07:12:04.974766",
     "status": "completed"
    },
    "tags": []
   },
   "outputs": [],
   "source": [
    "# pd.read_json : json 형태의 파일을 dataframe 형태로 불러오는 코드 \n",
    "magazine = pd.read_json(path + 'magazine.json', lines=True) # lines = True : Read the file as a json object per line.\n",
    "metadata = pd.read_json(path + 'metadata.json', lines=True)\n",
    "users = pd.read_json(path + 'users.json', lines=True)"
   ]
  },
  {
   "cell_type": "code",
   "execution_count": 4,
   "metadata": {
    "execution": {
     "iopub.execute_input": "2020-08-23T07:12:23.640191Z",
     "iopub.status.busy": "2020-08-23T07:12:23.639270Z",
     "iopub.status.idle": "2020-08-23T07:12:55.398846Z",
     "shell.execute_reply": "2020-08-23T07:12:55.399632Z"
    },
    "papermill": {
     "duration": 31.779131,
     "end_time": "2020-08-23T07:12:55.399945",
     "exception": false,
     "start_time": "2020-08-23T07:12:23.620814",
     "status": "completed"
    },
    "tags": []
   },
   "outputs": [
    {
     "name": "stdout",
     "output_type": "stream",
     "text": [
      "CPU times: user 28.1 s, sys: 3.53 s, total: 31.7 s\n",
      "Wall time: 31.7 s\n"
     ]
    }
   ],
   "source": [
    "%%time \n",
    "import itertools\n",
    "from itertools import chain\n",
    "import glob\n",
    "import os \n",
    "\n",
    "def chainer(s):\n",
    "    return list(itertools.chain.from_iterable(s))\n",
    "\n",
    "read_rowwise = pd.read_csv(path + \"read_rowwise.csv\")"
   ]
  },
  {
   "cell_type": "code",
   "execution_count": 5,
   "metadata": {
    "execution": {
     "iopub.execute_input": "2020-08-23T07:12:55.429556Z",
     "iopub.status.busy": "2020-08-23T07:12:55.428649Z",
     "iopub.status.idle": "2020-08-23T07:12:57.624302Z",
     "shell.execute_reply": "2020-08-23T07:12:57.623420Z"
    },
    "papermill": {
     "duration": 2.215318,
     "end_time": "2020-08-23T07:12:57.624448",
     "exception": false,
     "start_time": "2020-08-23T07:12:55.409130",
     "status": "completed"
    },
    "tags": []
   },
   "outputs": [],
   "source": [
    "from datetime import datetime \n",
    "\n",
    "metadata['reg_datetime'] = metadata['reg_ts'].apply(lambda x : datetime.fromtimestamp(x/1000.0))\n",
    "metadata.loc[metadata['reg_datetime'] == metadata['reg_datetime'].min(), 'reg_datetime'] = datetime(2090, 12, 31)\n",
    "metadata['reg_dt'] = metadata['reg_datetime'].dt.date\n",
    "metadata['type'] = metadata['magazine_id'].apply(lambda x : '개인' if x == 0.0 else '매거진')\n",
    "metadata['reg_dt'] = pd.to_datetime(metadata['reg_dt'])"
   ]
  },
  {
   "cell_type": "markdown",
   "execution_count": null,
   "metadata": {
    "papermill": {
     "duration": 0.00916,
     "end_time": "2020-08-23T07:12:57.643567",
     "exception": false,
     "start_time": "2020-08-23T07:12:57.634407",
     "status": "completed"
    },
    "tags": []
   },
   "source": [
    "## Popular Based Recommendation\n",
    "- 2019년도 이후로 작성된 글중에서 상위 100건의 글을 추천 \n",
    "- 사용자가 읽은 글은 추천이 되지 않도록 후처리"
   ]
  },
  {
   "cell_type": "code",
   "execution_count": 6,
   "metadata": {
    "execution": {
     "iopub.execute_input": "2020-08-23T07:12:57.674659Z",
     "iopub.status.busy": "2020-08-23T07:12:57.673815Z",
     "iopub.status.idle": "2020-08-23T07:13:14.807191Z",
     "shell.execute_reply": "2020-08-23T07:13:14.806290Z"
    },
    "papermill": {
     "duration": 17.152565,
     "end_time": "2020-08-23T07:13:14.807340",
     "exception": false,
     "start_time": "2020-08-23T07:12:57.654775",
     "status": "completed"
    },
    "tags": []
   },
   "outputs": [],
   "source": [
    "# 2019년도 이후로 작성된 글중에서 상위 100건의 글을 추천 \n",
    "# 단, 이미 읽은 글의 경우는 추천에서 제외 \n",
    "read_rowwise = read_rowwise.merge(metadata[['id', 'reg_dt']], how='left', left_on='article_id', right_on='id')"
   ]
  },
  {
   "cell_type": "code",
   "execution_count": 7,
   "metadata": {
    "execution": {
     "iopub.execute_input": "2020-08-23T07:13:14.841274Z",
     "iopub.status.busy": "2020-08-23T07:13:14.840053Z",
     "iopub.status.idle": "2020-08-23T07:13:14.853757Z",
     "shell.execute_reply": "2020-08-23T07:13:14.854434Z"
    },
    "papermill": {
     "duration": 0.037196,
     "end_time": "2020-08-23T07:13:14.854614",
     "exception": false,
     "start_time": "2020-08-23T07:13:14.817418",
     "status": "completed"
    },
    "tags": []
   },
   "outputs": [
    {
     "data": {
      "text/html": [
       "<div>\n",
       "<style scoped>\n",
       "    .dataframe tbody tr th:only-of-type {\n",
       "        vertical-align: middle;\n",
       "    }\n",
       "\n",
       "    .dataframe tbody tr th {\n",
       "        vertical-align: top;\n",
       "    }\n",
       "\n",
       "    .dataframe thead th {\n",
       "        text-align: right;\n",
       "    }\n",
       "</style>\n",
       "<table border=\"1\" class=\"dataframe\">\n",
       "  <thead>\n",
       "    <tr style=\"text-align: right;\">\n",
       "      <th></th>\n",
       "      <th>from</th>\n",
       "      <th>to</th>\n",
       "      <th>user_id</th>\n",
       "      <th>article_id</th>\n",
       "      <th>id</th>\n",
       "      <th>reg_dt</th>\n",
       "    </tr>\n",
       "  </thead>\n",
       "  <tbody>\n",
       "    <tr>\n",
       "      <th>0</th>\n",
       "      <td>2018100100</td>\n",
       "      <td>2018100101</td>\n",
       "      <td>#e208be4ffea19b1ceb5cea2e3c4dc32c</td>\n",
       "      <td>@kty0613_91</td>\n",
       "      <td>@kty0613_91</td>\n",
       "      <td>2018-09-30</td>\n",
       "    </tr>\n",
       "    <tr>\n",
       "      <th>1</th>\n",
       "      <td>2018100100</td>\n",
       "      <td>2018100101</td>\n",
       "      <td>#e208be4ffea19b1ceb5cea2e3c4dc32c</td>\n",
       "      <td>NaN</td>\n",
       "      <td>NaN</td>\n",
       "      <td>NaT</td>\n",
       "    </tr>\n",
       "    <tr>\n",
       "      <th>2</th>\n",
       "      <td>2018100100</td>\n",
       "      <td>2018100101</td>\n",
       "      <td>#0a3d493f3b2318be80f391eaa00bfd1c</td>\n",
       "      <td>@miamiyoung_31</td>\n",
       "      <td>@miamiyoung_31</td>\n",
       "      <td>2018-09-02</td>\n",
       "    </tr>\n",
       "    <tr>\n",
       "      <th>3</th>\n",
       "      <td>2018100100</td>\n",
       "      <td>2018100101</td>\n",
       "      <td>#0a3d493f3b2318be80f391eaa00bfd1c</td>\n",
       "      <td>@banksalad_49</td>\n",
       "      <td>@banksalad_49</td>\n",
       "      <td>2016-11-30</td>\n",
       "    </tr>\n",
       "    <tr>\n",
       "      <th>4</th>\n",
       "      <td>2018100100</td>\n",
       "      <td>2018100101</td>\n",
       "      <td>#0a3d493f3b2318be80f391eaa00bfd1c</td>\n",
       "      <td>@rlfrjsdn_95</td>\n",
       "      <td>@rlfrjsdn_95</td>\n",
       "      <td>2018-06-04</td>\n",
       "    </tr>\n",
       "  </tbody>\n",
       "</table>\n",
       "</div>"
      ],
      "text/plain": [
       "         from          to                            user_id      article_id  \\\n",
       "0  2018100100  2018100101  #e208be4ffea19b1ceb5cea2e3c4dc32c     @kty0613_91   \n",
       "1  2018100100  2018100101  #e208be4ffea19b1ceb5cea2e3c4dc32c             NaN   \n",
       "2  2018100100  2018100101  #0a3d493f3b2318be80f391eaa00bfd1c  @miamiyoung_31   \n",
       "3  2018100100  2018100101  #0a3d493f3b2318be80f391eaa00bfd1c   @banksalad_49   \n",
       "4  2018100100  2018100101  #0a3d493f3b2318be80f391eaa00bfd1c    @rlfrjsdn_95   \n",
       "\n",
       "               id     reg_dt  \n",
       "0     @kty0613_91 2018-09-30  \n",
       "1             NaN        NaT  \n",
       "2  @miamiyoung_31 2018-09-02  \n",
       "3   @banksalad_49 2016-11-30  \n",
       "4    @rlfrjsdn_95 2018-06-04  "
      ]
     },
     "execution_count": 7,
     "metadata": {},
     "output_type": "execute_result"
    }
   ],
   "source": [
    "read_rowwise.head()"
   ]
  },
  {
   "cell_type": "code",
   "execution_count": 8,
   "metadata": {
    "execution": {
     "iopub.execute_input": "2020-08-23T07:13:16.915124Z",
     "iopub.status.busy": "2020-08-23T07:13:15.349348Z",
     "iopub.status.idle": "2020-08-23T07:14:03.787888Z",
     "shell.execute_reply": "2020-08-23T07:14:03.787195Z"
    },
    "papermill": {
     "duration": 48.92372,
     "end_time": "2020-08-23T07:14:03.788047",
     "exception": false,
     "start_time": "2020-08-23T07:13:14.864327",
     "status": "completed"
    },
    "tags": []
   },
   "outputs": [],
   "source": [
    "# 사용자가 읽은 글의 목록들을 저장 \n",
    "read_total = pd.DataFrame(read_rowwise.groupby(['user_id'])['article_id'].unique()).reset_index()\n",
    "read_total.columns = ['user_id', 'article_list']"
   ]
  },
  {
   "cell_type": "code",
   "execution_count": 9,
   "metadata": {
    "execution": {
     "iopub.execute_input": "2020-08-23T07:14:07.702532Z",
     "iopub.status.busy": "2020-08-23T07:14:07.701702Z",
     "iopub.status.idle": "2020-08-23T07:14:23.274934Z",
     "shell.execute_reply": "2020-08-23T07:14:23.275623Z"
    },
    "papermill": {
     "duration": 19.477952,
     "end_time": "2020-08-23T07:14:23.275840",
     "exception": false,
     "start_time": "2020-08-23T07:14:03.797888",
     "status": "completed"
    },
    "tags": []
   },
   "outputs": [],
   "source": [
    "# 1. article_id가 결측치인 경우는 삭제 (작가가 사라진 경우)\n",
    "# 2. reg_dt가 결측치인 경우는 삭제 (메타데이터에 자료가 없는 경우)\n",
    "read_rowwise = read_rowwise[read_rowwise['article_id'] != '']\n",
    "read_rowwise = read_rowwise[(read_rowwise['id'].notnull()) & (read_rowwise['reg_dt'].notnull())]\n",
    "read_rowwise = read_rowwise[(read_rowwise['reg_dt'] >= '2019-01-01') & (read_rowwise['reg_dt'] < '2090-12-31')].reset_index(drop=True)\n",
    "\n",
    "del read_rowwise['id']"
   ]
  },
  {
   "cell_type": "code",
   "execution_count": 10,
   "metadata": {
    "execution": {
     "iopub.execute_input": "2020-08-23T07:14:23.353253Z",
     "iopub.status.busy": "2020-08-23T07:14:23.352267Z",
     "iopub.status.idle": "2020-08-23T07:14:23.362320Z",
     "shell.execute_reply": "2020-08-23T07:14:23.361446Z"
    },
    "papermill": {
     "duration": 0.076297,
     "end_time": "2020-08-23T07:14:23.362469",
     "exception": false,
     "start_time": "2020-08-23T07:14:23.286172",
     "status": "completed"
    },
    "tags": []
   },
   "outputs": [],
   "source": [
    "valid = pd.read_csv(path + '/predict/dev.users', header=None)"
   ]
  },
  {
   "cell_type": "code",
   "execution_count": 11,
   "metadata": {
    "execution": {
     "iopub.execute_input": "2020-08-23T07:14:24.595417Z",
     "iopub.status.busy": "2020-08-23T07:14:24.578876Z",
     "iopub.status.idle": "2020-08-23T07:20:03.868975Z",
     "shell.execute_reply": "2020-08-23T07:20:03.868105Z"
    },
    "papermill": {
     "duration": 340.497328,
     "end_time": "2020-08-23T07:20:03.869737",
     "exception": false,
     "start_time": "2020-08-23T07:14:23.372409",
     "status": "completed"
    },
    "scrolled": true,
    "tags": []
   },
   "outputs": [
    {
     "name": "stderr",
     "output_type": "stream",
     "text": [
      "/opt/conda/lib/python3.7/site-packages/ipykernel_launcher.py:3: TqdmDeprecationWarning: This function will be removed in tqdm==5.0.0\n",
      "Please use `tqdm.notebook.tqdm` instead of `tqdm.tqdm_notebook`\n"
     ]
    },
    {
     "data": {
      "application/vnd.jupyter.widget-view+json": {
       "model_id": "12f761925dc4400482ecd1e6a9a5d197",
       "version_major": 2,
       "version_minor": 0
      },
      "text/plain": [
       "HBox(children=(FloatProgress(value=0.0, max=3000.0), HTML(value='')))"
      ]
     },
     "metadata": {},
     "output_type": "display_data"
    },
    {
     "name": "stdout",
     "output_type": "stream",
     "text": [
      "\n",
      "CPU times: user 5min 40s, sys: 2.94 s, total: 5min 43s\n",
      "Wall time: 5min 40s\n"
     ]
    }
   ],
   "source": [
    "%%time \n",
    "\n",
    "popular_rec_model = read_rowwise['article_id'].value_counts().index[0:1000]\n",
    "with open('recommend.txt', 'w') as f:\n",
    "    for user in tqdm_notebook(valid[0].values):\n",
    "        # 추천 후보 \n",
    "        seen = chainer(read_total[read_total['user_id'] == user]['article_list'].values)\n",
    "        recs = []\n",
    "        for r in popular_rec_model:\n",
    "            if len(recs) == 100: \n",
    "                break \n",
    "            else: \n",
    "                if r not in seen: recs.append(r)\n",
    "        f.write('%s %s\\n' % (user, ' '.join(recs)))"
   ]
  },
  {
   "cell_type": "markdown",
   "execution_count": null,
   "metadata": {
    "papermill": {
     "duration": 0.011237,
     "end_time": "2020-08-23T07:20:03.893436",
     "exception": false,
     "start_time": "2020-08-23T07:20:03.882199",
     "status": "completed"
    },
    "tags": []
   },
   "source": [
    "![](https://github.com/choco9966/T-academy-Recommendation/blob/master/figure/Popular_Based_score.PNG?raw=true)"
   ]
  },
  {
   "cell_type": "markdown",
   "execution_count": null,
   "metadata": {
    "papermill": {
     "duration": 0.010408,
     "end_time": "2020-08-23T07:20:03.914847",
     "exception": false,
     "start_time": "2020-08-23T07:20:03.904439",
     "status": "completed"
    },
    "tags": []
   },
   "source": [
    "## Popular Based Recommendation with following arthor\n",
    "- 2019년도 이후로 작성된 글중에서 구독작가의 글을 우선적으로 추천 \n",
    "- 사용자가 읽은 글은 추천이 되지 않도록 후처리"
   ]
  },
  {
   "cell_type": "markdown",
   "execution_count": null,
   "metadata": {
    "papermill": {
     "duration": 0.01055,
     "end_time": "2020-08-23T07:20:03.935889",
     "exception": false,
     "start_time": "2020-08-23T07:20:03.925339",
     "status": "completed"
    },
    "tags": []
   },
   "source": [
    "![](https://github.com/choco9966/T-academy-Recommendation/blob/master/figure/Following_popular.PNG?raw=true)"
   ]
  },
  {
   "cell_type": "code",
   "execution_count": 12,
   "metadata": {
    "execution": {
     "iopub.execute_input": "2020-08-23T07:20:03.979406Z",
     "iopub.status.busy": "2020-08-23T07:20:03.964754Z",
     "iopub.status.idle": "2020-08-23T07:20:04.993038Z",
     "shell.execute_reply": "2020-08-23T07:20:04.992120Z"
    },
    "papermill": {
     "duration": 1.046991,
     "end_time": "2020-08-23T07:20:04.993241",
     "exception": false,
     "start_time": "2020-08-23T07:20:03.946250",
     "status": "completed"
    },
    "tags": []
   },
   "outputs": [],
   "source": [
    "following_cnt_by_user = users['following_list'].map(len)\n",
    "following_rowwise = pd.DataFrame({'user_id': np.repeat(users['id'], following_cnt_by_user),\n",
    "                             'author_id': chainer(users['following_list'])})\n",
    "\n",
    "following_rowwise.reset_index(drop=True, inplace=True)"
   ]
  },
  {
   "cell_type": "code",
   "execution_count": 13,
   "metadata": {
    "execution": {
     "iopub.execute_input": "2020-08-23T07:20:05.518424Z",
     "iopub.status.busy": "2020-08-23T07:20:05.517149Z",
     "iopub.status.idle": "2020-08-23T07:20:05.598303Z",
     "shell.execute_reply": "2020-08-23T07:20:05.597038Z"
    },
    "papermill": {
     "duration": 0.593447,
     "end_time": "2020-08-23T07:20:05.598553",
     "exception": false,
     "start_time": "2020-08-23T07:20:05.005106",
     "status": "completed"
    },
    "tags": []
   },
   "outputs": [
    {
     "data": {
      "text/html": [
       "<div>\n",
       "<style scoped>\n",
       "    .dataframe tbody tr th:only-of-type {\n",
       "        vertical-align: middle;\n",
       "    }\n",
       "\n",
       "    .dataframe tbody tr th {\n",
       "        vertical-align: top;\n",
       "    }\n",
       "\n",
       "    .dataframe thead th {\n",
       "        text-align: right;\n",
       "    }\n",
       "</style>\n",
       "<table border=\"1\" class=\"dataframe\">\n",
       "  <thead>\n",
       "    <tr style=\"text-align: right;\">\n",
       "      <th></th>\n",
       "      <th>user_id</th>\n",
       "      <th>author_id</th>\n",
       "    </tr>\n",
       "  </thead>\n",
       "  <tbody>\n",
       "    <tr>\n",
       "      <th>310</th>\n",
       "      <td>#a6f7a5ff90a19ec4d583f0db1836844d</td>\n",
       "      <td>@potatohands</td>\n",
       "    </tr>\n",
       "    <tr>\n",
       "      <th>311</th>\n",
       "      <td>#a6f7a5ff90a19ec4d583f0db1836844d</td>\n",
       "      <td>@ggpodori</td>\n",
       "    </tr>\n",
       "    <tr>\n",
       "      <th>312</th>\n",
       "      <td>#a6f7a5ff90a19ec4d583f0db1836844d</td>\n",
       "      <td>@chae-pulib</td>\n",
       "    </tr>\n",
       "    <tr>\n",
       "      <th>313</th>\n",
       "      <td>#a6f7a5ff90a19ec4d583f0db1836844d</td>\n",
       "      <td>@roysday</td>\n",
       "    </tr>\n",
       "    <tr>\n",
       "      <th>314</th>\n",
       "      <td>#a6f7a5ff90a19ec4d583f0db1836844d</td>\n",
       "      <td>@lovebrander</td>\n",
       "    </tr>\n",
       "  </tbody>\n",
       "</table>\n",
       "</div>"
      ],
      "text/plain": [
       "                               user_id     author_id\n",
       "310  #a6f7a5ff90a19ec4d583f0db1836844d  @potatohands\n",
       "311  #a6f7a5ff90a19ec4d583f0db1836844d     @ggpodori\n",
       "312  #a6f7a5ff90a19ec4d583f0db1836844d   @chae-pulib\n",
       "313  #a6f7a5ff90a19ec4d583f0db1836844d      @roysday\n",
       "314  #a6f7a5ff90a19ec4d583f0db1836844d  @lovebrander"
      ]
     },
     "execution_count": 13,
     "metadata": {},
     "output_type": "execute_result"
    }
   ],
   "source": [
    "following_rowwise = following_rowwise[following_rowwise['user_id'].isin(valid[0].values)]\n",
    "following_rowwise.head()"
   ]
  },
  {
   "cell_type": "code",
   "execution_count": 14,
   "metadata": {
    "execution": {
     "iopub.execute_input": "2020-08-23T07:20:05.639335Z",
     "iopub.status.busy": "2020-08-23T07:20:05.638460Z",
     "iopub.status.idle": "2020-08-23T07:20:09.544087Z",
     "shell.execute_reply": "2020-08-23T07:20:09.545193Z"
    },
    "papermill": {
     "duration": 3.930238,
     "end_time": "2020-08-23T07:20:09.545446",
     "exception": false,
     "start_time": "2020-08-23T07:20:05.615208",
     "status": "completed"
    },
    "scrolled": true,
    "tags": []
   },
   "outputs": [
    {
     "name": "stdout",
     "output_type": "stream",
     "text": [
      "CPU times: user 3.43 s, sys: 436 ms, total: 3.86 s\n",
      "Wall time: 3.9 s\n"
     ]
    }
   ],
   "source": [
    "%%time \n",
    "metadata_ = metadata[['user_id', 'id', 'reg_dt']]\n",
    "metadata_.columns = ['author_id', 'article_id', 'reg_dt']\n",
    "following_popular_model = pd.merge(following_rowwise, metadata_, how='left', on='author_id')"
   ]
  },
  {
   "cell_type": "markdown",
   "execution_count": null,
   "metadata": {
    "papermill": {
     "duration": 0.012502,
     "end_time": "2020-08-23T07:20:09.571016",
     "exception": false,
     "start_time": "2020-08-23T07:20:09.558514",
     "status": "completed"
    },
    "tags": []
   },
   "source": [
    "위의 모델을 통해서 추천하려고 했더니 발생하는 문제점 \n",
    "1. 구독하는 작가가 없는 경우에는 어떤 식으로 추천해야할 지? \n",
    "2. 구독하는 작가가 여러명이고 작가의 글도 여러개인데 어떤 글을 위주로 추천해야할 지? \n",
    "\n",
    "단순한 해결책 \n",
    "1. Popular Based Model에서 상위 100건을 추천 \n",
    "2. 작가중에서 선호하는 작가를 선정하고 해당 작가의 인기글을 추천 \n",
    "    - 선호 : 해당 작가의 글을 가장 많이 읽음 \n",
    "    - 위의 정의 말고도 \"얼마나 많은 날에 찾아가서 읽었는 지\", \"작가의 글중에서 몇편의 글을 읽었는 지\" 등으로 다르게 정의도 가능"
   ]
  },
  {
   "cell_type": "code",
   "execution_count": 15,
   "metadata": {
    "execution": {
     "iopub.execute_input": "2020-08-23T07:20:09.605172Z",
     "iopub.status.busy": "2020-08-23T07:20:09.604243Z",
     "iopub.status.idle": "2020-08-23T07:20:18.211078Z",
     "shell.execute_reply": "2020-08-23T07:20:18.210181Z"
    },
    "papermill": {
     "duration": 8.627313,
     "end_time": "2020-08-23T07:20:18.211235",
     "exception": false,
     "start_time": "2020-08-23T07:20:09.583922",
     "status": "completed"
    },
    "scrolled": true,
    "tags": []
   },
   "outputs": [
    {
     "name": "stdout",
     "output_type": "stream",
     "text": [
      "CPU times: user 7.93 s, sys: 545 ms, total: 8.47 s\n",
      "Wall time: 8.6 s\n"
     ]
    }
   ],
   "source": [
    "%%time \n",
    "read_rowwise['author_id'] = read_rowwise['article_id'].apply(lambda x: x.split('_')[0])\n",
    "author_favor = read_rowwise.groupby(['user_id', 'author_id'])['author_id'].agg({'count'}).reset_index()"
   ]
  },
  {
   "cell_type": "code",
   "execution_count": 16,
   "metadata": {
    "execution": {
     "iopub.execute_input": "2020-08-23T07:20:19.506861Z",
     "iopub.status.busy": "2020-08-23T07:20:19.505742Z",
     "iopub.status.idle": "2020-08-23T07:20:20.136116Z",
     "shell.execute_reply": "2020-08-23T07:20:20.135253Z"
    },
    "papermill": {
     "duration": 1.913626,
     "end_time": "2020-08-23T07:20:20.136263",
     "exception": false,
     "start_time": "2020-08-23T07:20:18.222637",
     "status": "completed"
    },
    "tags": []
   },
   "outputs": [],
   "source": [
    "popular_model = pd.DataFrame(read_rowwise['article_id'].value_counts()).reset_index()\n",
    "popular_model.columns = ['article_id', 'count']"
   ]
  },
  {
   "cell_type": "code",
   "execution_count": 17,
   "metadata": {
    "execution": {
     "iopub.execute_input": "2020-08-23T07:20:20.168222Z",
     "iopub.status.busy": "2020-08-23T07:20:20.167184Z",
     "iopub.status.idle": "2020-08-23T07:20:33.060015Z",
     "shell.execute_reply": "2020-08-23T07:20:33.059288Z"
    },
    "papermill": {
     "duration": 12.912887,
     "end_time": "2020-08-23T07:20:33.060187",
     "exception": false,
     "start_time": "2020-08-23T07:20:20.147300",
     "status": "completed"
    },
    "tags": []
   },
   "outputs": [
    {
     "data": {
      "text/html": [
       "<div>\n",
       "<style scoped>\n",
       "    .dataframe tbody tr th:only-of-type {\n",
       "        vertical-align: middle;\n",
       "    }\n",
       "\n",
       "    .dataframe tbody tr th {\n",
       "        vertical-align: top;\n",
       "    }\n",
       "\n",
       "    .dataframe thead th {\n",
       "        text-align: right;\n",
       "    }\n",
       "</style>\n",
       "<table border=\"1\" class=\"dataframe\">\n",
       "  <thead>\n",
       "    <tr style=\"text-align: right;\">\n",
       "      <th></th>\n",
       "      <th>user_id</th>\n",
       "      <th>author_id</th>\n",
       "      <th>article_id</th>\n",
       "      <th>reg_dt</th>\n",
       "      <th>count_x</th>\n",
       "      <th>count_y</th>\n",
       "    </tr>\n",
       "  </thead>\n",
       "  <tbody>\n",
       "    <tr>\n",
       "      <th>0</th>\n",
       "      <td>#a6f7a5ff90a19ec4d583f0db1836844d</td>\n",
       "      <td>@potatohands</td>\n",
       "      <td>@potatohands_8</td>\n",
       "      <td>2019-03-01</td>\n",
       "      <td>2.0</td>\n",
       "      <td>NaN</td>\n",
       "    </tr>\n",
       "    <tr>\n",
       "      <th>1</th>\n",
       "      <td>#a6f7a5ff90a19ec4d583f0db1836844d</td>\n",
       "      <td>@potatohands</td>\n",
       "      <td>@potatohands_5</td>\n",
       "      <td>2019-02-04</td>\n",
       "      <td>2.0</td>\n",
       "      <td>410.0</td>\n",
       "    </tr>\n",
       "    <tr>\n",
       "      <th>2</th>\n",
       "      <td>#a6f7a5ff90a19ec4d583f0db1836844d</td>\n",
       "      <td>@potatohands</td>\n",
       "      <td>@potatohands_6</td>\n",
       "      <td>2019-02-21</td>\n",
       "      <td>2.0</td>\n",
       "      <td>105.0</td>\n",
       "    </tr>\n",
       "    <tr>\n",
       "      <th>3</th>\n",
       "      <td>#a6f7a5ff90a19ec4d583f0db1836844d</td>\n",
       "      <td>@ggpodori</td>\n",
       "      <td>@ggpodori_14</td>\n",
       "      <td>2019-01-28</td>\n",
       "      <td>2.0</td>\n",
       "      <td>2603.0</td>\n",
       "    </tr>\n",
       "    <tr>\n",
       "      <th>4</th>\n",
       "      <td>#a6f7a5ff90a19ec4d583f0db1836844d</td>\n",
       "      <td>@ggpodori</td>\n",
       "      <td>@ggpodori_12</td>\n",
       "      <td>2019-03-13</td>\n",
       "      <td>2.0</td>\n",
       "      <td>NaN</td>\n",
       "    </tr>\n",
       "  </tbody>\n",
       "</table>\n",
       "</div>"
      ],
      "text/plain": [
       "                             user_id     author_id      article_id     reg_dt  \\\n",
       "0  #a6f7a5ff90a19ec4d583f0db1836844d  @potatohands  @potatohands_8 2019-03-01   \n",
       "1  #a6f7a5ff90a19ec4d583f0db1836844d  @potatohands  @potatohands_5 2019-02-04   \n",
       "2  #a6f7a5ff90a19ec4d583f0db1836844d  @potatohands  @potatohands_6 2019-02-21   \n",
       "3  #a6f7a5ff90a19ec4d583f0db1836844d     @ggpodori    @ggpodori_14 2019-01-28   \n",
       "4  #a6f7a5ff90a19ec4d583f0db1836844d     @ggpodori    @ggpodori_12 2019-03-13   \n",
       "\n",
       "   count_x  count_y  \n",
       "0      2.0      NaN  \n",
       "1      2.0    410.0  \n",
       "2      2.0    105.0  \n",
       "3      2.0   2603.0  \n",
       "4      2.0      NaN  "
      ]
     },
     "execution_count": 17,
     "metadata": {},
     "output_type": "execute_result"
    }
   ],
   "source": [
    "following_popular_model = pd.merge(following_popular_model, author_favor, how='left', on=['user_id', 'author_id'])\n",
    "following_popular_model = following_popular_model[following_popular_model['count'].notnull()].reset_index(drop=True)\n",
    "following_popular_model = pd.merge(following_popular_model, popular_model, how='left', on='article_id')\n",
    "following_popular_model.head()"
   ]
  },
  {
   "cell_type": "markdown",
   "execution_count": null,
   "metadata": {
    "papermill": {
     "duration": 0.010768,
     "end_time": "2020-08-23T07:20:33.082839",
     "exception": false,
     "start_time": "2020-08-23T07:20:33.072071",
     "status": "completed"
    },
    "tags": []
   },
   "source": [
    "- count_x : 작가에 대한 개별 사용자의 선호도 \n",
    "- count_y : 글에 대한 전체 사용자의 선호도 "
   ]
  },
  {
   "cell_type": "code",
   "execution_count": 18,
   "metadata": {
    "execution": {
     "iopub.execute_input": "2020-08-23T07:20:33.113904Z",
     "iopub.status.busy": "2020-08-23T07:20:33.112761Z",
     "iopub.status.idle": "2020-08-23T07:20:34.285743Z",
     "shell.execute_reply": "2020-08-23T07:20:34.284565Z"
    },
    "papermill": {
     "duration": 1.191536,
     "end_time": "2020-08-23T07:20:34.285892",
     "exception": false,
     "start_time": "2020-08-23T07:20:33.094356",
     "status": "completed"
    },
    "tags": []
   },
   "outputs": [],
   "source": [
    "following_popular_model = following_popular_model.sort_values(by=['count_x', 'count_y', 'reg_dt'], ascending=[False, False, False])"
   ]
  },
  {
   "cell_type": "code",
   "execution_count": 19,
   "metadata": {
    "execution": {
     "iopub.execute_input": "2020-08-23T07:20:35.051105Z",
     "iopub.status.busy": "2020-08-23T07:20:35.050314Z",
     "iopub.status.idle": "2020-08-23T07:20:35.070391Z",
     "shell.execute_reply": "2020-08-23T07:20:35.069520Z"
    },
    "papermill": {
     "duration": 0.772543,
     "end_time": "2020-08-23T07:20:35.070543",
     "exception": false,
     "start_time": "2020-08-23T07:20:34.298000",
     "status": "completed"
    },
    "tags": []
   },
   "outputs": [
    {
     "data": {
      "text/html": [
       "<div>\n",
       "<style scoped>\n",
       "    .dataframe tbody tr th:only-of-type {\n",
       "        vertical-align: middle;\n",
       "    }\n",
       "\n",
       "    .dataframe tbody tr th {\n",
       "        vertical-align: top;\n",
       "    }\n",
       "\n",
       "    .dataframe thead th {\n",
       "        text-align: right;\n",
       "    }\n",
       "</style>\n",
       "<table border=\"1\" class=\"dataframe\">\n",
       "  <thead>\n",
       "    <tr style=\"text-align: right;\">\n",
       "      <th></th>\n",
       "      <th>user_id</th>\n",
       "      <th>author_id</th>\n",
       "      <th>article_id</th>\n",
       "      <th>reg_dt</th>\n",
       "      <th>count_x</th>\n",
       "      <th>count_y</th>\n",
       "    </tr>\n",
       "  </thead>\n",
       "  <tbody>\n",
       "    <tr>\n",
       "      <th>180</th>\n",
       "      <td>#a6f7a5ff90a19ec4d583f0db1836844d</td>\n",
       "      <td>@soo-log</td>\n",
       "      <td>@soo-log_169</td>\n",
       "      <td>2019-01-09</td>\n",
       "      <td>5.0</td>\n",
       "      <td>1882.0</td>\n",
       "    </tr>\n",
       "    <tr>\n",
       "      <th>181</th>\n",
       "      <td>#a6f7a5ff90a19ec4d583f0db1836844d</td>\n",
       "      <td>@soo-log</td>\n",
       "      <td>@soo-log_171</td>\n",
       "      <td>2019-01-16</td>\n",
       "      <td>5.0</td>\n",
       "      <td>1466.0</td>\n",
       "    </tr>\n",
       "    <tr>\n",
       "      <th>182</th>\n",
       "      <td>#a6f7a5ff90a19ec4d583f0db1836844d</td>\n",
       "      <td>@soo-log</td>\n",
       "      <td>@soo-log_174</td>\n",
       "      <td>2019-01-23</td>\n",
       "      <td>5.0</td>\n",
       "      <td>896.0</td>\n",
       "    </tr>\n",
       "    <tr>\n",
       "      <th>184</th>\n",
       "      <td>#a6f7a5ff90a19ec4d583f0db1836844d</td>\n",
       "      <td>@soo-log</td>\n",
       "      <td>@soo-log_178</td>\n",
       "      <td>2019-01-30</td>\n",
       "      <td>5.0</td>\n",
       "      <td>873.0</td>\n",
       "    </tr>\n",
       "    <tr>\n",
       "      <th>192</th>\n",
       "      <td>#a6f7a5ff90a19ec4d583f0db1836844d</td>\n",
       "      <td>@soo-log</td>\n",
       "      <td>@soo-log_184</td>\n",
       "      <td>2019-02-06</td>\n",
       "      <td>5.0</td>\n",
       "      <td>787.0</td>\n",
       "    </tr>\n",
       "  </tbody>\n",
       "</table>\n",
       "</div>"
      ],
      "text/plain": [
       "                               user_id author_id    article_id     reg_dt  \\\n",
       "180  #a6f7a5ff90a19ec4d583f0db1836844d  @soo-log  @soo-log_169 2019-01-09   \n",
       "181  #a6f7a5ff90a19ec4d583f0db1836844d  @soo-log  @soo-log_171 2019-01-16   \n",
       "182  #a6f7a5ff90a19ec4d583f0db1836844d  @soo-log  @soo-log_174 2019-01-23   \n",
       "184  #a6f7a5ff90a19ec4d583f0db1836844d  @soo-log  @soo-log_178 2019-01-30   \n",
       "192  #a6f7a5ff90a19ec4d583f0db1836844d  @soo-log  @soo-log_184 2019-02-06   \n",
       "\n",
       "     count_x  count_y  \n",
       "180      5.0   1882.0  \n",
       "181      5.0   1466.0  \n",
       "182      5.0    896.0  \n",
       "184      5.0    873.0  \n",
       "192      5.0    787.0  "
      ]
     },
     "execution_count": 19,
     "metadata": {},
     "output_type": "execute_result"
    }
   ],
   "source": [
    "following_popular_model[following_popular_model['user_id'] == '#a6f7a5ff90a19ec4d583f0db1836844d'].head()"
   ]
  },
  {
   "cell_type": "code",
   "execution_count": 20,
   "metadata": {
    "execution": {
     "iopub.execute_input": "2020-08-23T07:20:35.103886Z",
     "iopub.status.busy": "2020-08-23T07:20:35.102927Z",
     "iopub.status.idle": "2020-08-23T08:03:55.678027Z",
     "shell.execute_reply": "2020-08-23T08:03:55.678953Z"
    },
    "papermill": {
     "duration": 2600.597222,
     "end_time": "2020-08-23T08:03:55.679473",
     "exception": false,
     "start_time": "2020-08-23T07:20:35.082251",
     "status": "completed"
    },
    "tags": []
   },
   "outputs": [
    {
     "name": "stderr",
     "output_type": "stream",
     "text": [
      "/opt/conda/lib/python3.7/site-packages/ipykernel_launcher.py:2: TqdmDeprecationWarning: This function will be removed in tqdm==5.0.0\n",
      "Please use `tqdm.notebook.tqdm` instead of `tqdm.tqdm_notebook`\n"
     ]
    },
    {
     "data": {
      "application/vnd.jupyter.widget-view+json": {
       "model_id": "243c987a8a234c72876abc19f86e29d1",
       "version_major": 2,
       "version_minor": 0
      },
      "text/plain": [
       "HBox(children=(FloatProgress(value=0.0, max=3000.0), HTML(value='')))"
      ]
     },
     "metadata": {},
     "output_type": "display_data"
    },
    {
     "name": "stdout",
     "output_type": "stream",
     "text": [
      "\n",
      "CPU times: user 43min 21s, sys: 9.71 s, total: 43min 31s\n",
      "Wall time: 43min 20s\n"
     ]
    }
   ],
   "source": [
    "%%time \n",
    "\n",
    "with open('./recommend.txt', 'w') as f:\n",
    "    for user in tqdm_notebook(valid[0].values):\n",
    "        # 추천 후보 \n",
    "        seen = chainer(read_total[read_total['user_id'] == user]['article_list'].values)\n",
    "        following_rec_model = following_popular_model[following_popular_model['user_id'] == user]['article_id'].values\n",
    "        recs = []\n",
    "        for r in following_rec_model:\n",
    "            if len(recs) == 100:\n",
    "                break \n",
    "            else: \n",
    "                if r not in seen + recs: recs.append(r)\n",
    "        \n",
    "        if len(recs) < 100: \n",
    "            for r in popular_rec_model:\n",
    "                if len(recs) == 100: \n",
    "                    break \n",
    "                else: \n",
    "                    if r not in seen + recs: recs.append(r)            \n",
    "        f.write('%s %s\\n' % (user, ' '.join(recs)))"
   ]
  },
  {
   "cell_type": "markdown",
   "execution_count": null,
   "metadata": {
    "papermill": {
     "duration": 0.012829,
     "end_time": "2020-08-23T08:03:55.705881",
     "exception": false,
     "start_time": "2020-08-23T08:03:55.693052",
     "status": "completed"
    },
    "tags": []
   },
   "source": [
    "![](https://github.com/choco9966/T-academy-Recommendation/blob/master/figure/Following_Popular_Based_score.PNG?raw=true)"
   ]
  }
 ],
 "metadata": {
  "kernelspec": {
   "display_name": "Python 3",
   "language": "python",
   "name": "python3"
  },
  "language_info": {
   "codemirror_mode": {
    "name": "ipython",
    "version": 3
   },
   "file_extension": ".py",
   "mimetype": "text/x-python",
   "name": "python",
   "nbconvert_exporter": "python",
   "pygments_lexer": "ipython3",
   "version": "3.7.6"
  },
  "papermill": {
   "duration": 3122.070425,
   "end_time": "2020-08-23T08:03:55.934221",
   "environment_variables": {},
   "exception": null,
   "input_path": "__notebook__.ipynb",
   "output_path": "__notebook__.ipynb",
   "parameters": {},
   "start_time": "2020-08-23T07:11:53.863796",
   "version": "2.1.0"
  },
  "widgets": {
   "application/vnd.jupyter.widget-state+json": {
    "state": {
     "0d9a6170aef74f79a979ec06641c245b": {
      "model_module": "@jupyter-widgets/controls",
      "model_module_version": "1.5.0",
      "model_name": "FloatProgressModel",
      "state": {
       "_dom_classes": [],
       "_model_module": "@jupyter-widgets/controls",
       "_model_module_version": "1.5.0",
       "_model_name": "FloatProgressModel",
       "_view_count": null,
       "_view_module": "@jupyter-widgets/controls",
       "_view_module_version": "1.5.0",
       "_view_name": "ProgressView",
       "bar_style": "success",
       "description": "100%",
       "description_tooltip": null,
       "layout": "IPY_MODEL_9bd4591f6af841aaa779aaa7fe402800",
       "max": 3000.0,
       "min": 0.0,
       "orientation": "horizontal",
       "style": "IPY_MODEL_dc1af910ea8644eb956d4fb89ffad4dc",
       "value": 3000.0
      }
     },
     "12f761925dc4400482ecd1e6a9a5d197": {
      "model_module": "@jupyter-widgets/controls",
      "model_module_version": "1.5.0",
      "model_name": "HBoxModel",
      "state": {
       "_dom_classes": [],
       "_model_module": "@jupyter-widgets/controls",
       "_model_module_version": "1.5.0",
       "_model_name": "HBoxModel",
       "_view_count": null,
       "_view_module": "@jupyter-widgets/controls",
       "_view_module_version": "1.5.0",
       "_view_name": "HBoxView",
       "box_style": "",
       "children": [
        "IPY_MODEL_0d9a6170aef74f79a979ec06641c245b",
        "IPY_MODEL_bba5beefe27849ea875bf2e07c893192"
       ],
       "layout": "IPY_MODEL_5b3678d380d34d6e9c1aa4a61976ed21"
      }
     },
     "1d846727514748e1b6dd563f010ad622": {
      "model_module": "@jupyter-widgets/controls",
      "model_module_version": "1.5.0",
      "model_name": "HTMLModel",
      "state": {
       "_dom_classes": [],
       "_model_module": "@jupyter-widgets/controls",
       "_model_module_version": "1.5.0",
       "_model_name": "HTMLModel",
       "_view_count": null,
       "_view_module": "@jupyter-widgets/controls",
       "_view_module_version": "1.5.0",
       "_view_name": "HTMLView",
       "description": "",
       "description_tooltip": null,
       "layout": "IPY_MODEL_e5535f8f43f44725943edfa66e42e653",
       "placeholder": "​",
       "style": "IPY_MODEL_2d104b00317c477b922d3f74d61f6a59",
       "value": " 3000/3000 [43:20&lt;00:00,  1.15it/s]"
      }
     },
     "243c987a8a234c72876abc19f86e29d1": {
      "model_module": "@jupyter-widgets/controls",
      "model_module_version": "1.5.0",
      "model_name": "HBoxModel",
      "state": {
       "_dom_classes": [],
       "_model_module": "@jupyter-widgets/controls",
       "_model_module_version": "1.5.0",
       "_model_name": "HBoxModel",
       "_view_count": null,
       "_view_module": "@jupyter-widgets/controls",
       "_view_module_version": "1.5.0",
       "_view_name": "HBoxView",
       "box_style": "",
       "children": [
        "IPY_MODEL_cb56f33a6e9242d19561195f81875f0e",
        "IPY_MODEL_1d846727514748e1b6dd563f010ad622"
       ],
       "layout": "IPY_MODEL_a2ad64652c984de48a0b7502f4db07b1"
      }
     },
     "2d104b00317c477b922d3f74d61f6a59": {
      "model_module": "@jupyter-widgets/controls",
      "model_module_version": "1.5.0",
      "model_name": "DescriptionStyleModel",
      "state": {
       "_model_module": "@jupyter-widgets/controls",
       "_model_module_version": "1.5.0",
       "_model_name": "DescriptionStyleModel",
       "_view_count": null,
       "_view_module": "@jupyter-widgets/base",
       "_view_module_version": "1.2.0",
       "_view_name": "StyleView",
       "description_width": ""
      }
     },
     "5b3678d380d34d6e9c1aa4a61976ed21": {
      "model_module": "@jupyter-widgets/base",
      "model_module_version": "1.2.0",
      "model_name": "LayoutModel",
      "state": {
       "_model_module": "@jupyter-widgets/base",
       "_model_module_version": "1.2.0",
       "_model_name": "LayoutModel",
       "_view_count": null,
       "_view_module": "@jupyter-widgets/base",
       "_view_module_version": "1.2.0",
       "_view_name": "LayoutView",
       "align_content": null,
       "align_items": null,
       "align_self": null,
       "border": null,
       "bottom": null,
       "display": null,
       "flex": null,
       "flex_flow": null,
       "grid_area": null,
       "grid_auto_columns": null,
       "grid_auto_flow": null,
       "grid_auto_rows": null,
       "grid_column": null,
       "grid_gap": null,
       "grid_row": null,
       "grid_template_areas": null,
       "grid_template_columns": null,
       "grid_template_rows": null,
       "height": null,
       "justify_content": null,
       "justify_items": null,
       "left": null,
       "margin": null,
       "max_height": null,
       "max_width": null,
       "min_height": null,
       "min_width": null,
       "object_fit": null,
       "object_position": null,
       "order": null,
       "overflow": null,
       "overflow_x": null,
       "overflow_y": null,
       "padding": null,
       "right": null,
       "top": null,
       "visibility": null,
       "width": null
      }
     },
     "712fc62b3ead4573897e0a6b4da20584": {
      "model_module": "@jupyter-widgets/base",
      "model_module_version": "1.2.0",
      "model_name": "LayoutModel",
      "state": {
       "_model_module": "@jupyter-widgets/base",
       "_model_module_version": "1.2.0",
       "_model_name": "LayoutModel",
       "_view_count": null,
       "_view_module": "@jupyter-widgets/base",
       "_view_module_version": "1.2.0",
       "_view_name": "LayoutView",
       "align_content": null,
       "align_items": null,
       "align_self": null,
       "border": null,
       "bottom": null,
       "display": null,
       "flex": null,
       "flex_flow": null,
       "grid_area": null,
       "grid_auto_columns": null,
       "grid_auto_flow": null,
       "grid_auto_rows": null,
       "grid_column": null,
       "grid_gap": null,
       "grid_row": null,
       "grid_template_areas": null,
       "grid_template_columns": null,
       "grid_template_rows": null,
       "height": null,
       "justify_content": null,
       "justify_items": null,
       "left": null,
       "margin": null,
       "max_height": null,
       "max_width": null,
       "min_height": null,
       "min_width": null,
       "object_fit": null,
       "object_position": null,
       "order": null,
       "overflow": null,
       "overflow_x": null,
       "overflow_y": null,
       "padding": null,
       "right": null,
       "top": null,
       "visibility": null,
       "width": null
      }
     },
     "73d717e230934d228968e0eb39194229": {
      "model_module": "@jupyter-widgets/controls",
      "model_module_version": "1.5.0",
      "model_name": "DescriptionStyleModel",
      "state": {
       "_model_module": "@jupyter-widgets/controls",
       "_model_module_version": "1.5.0",
       "_model_name": "DescriptionStyleModel",
       "_view_count": null,
       "_view_module": "@jupyter-widgets/base",
       "_view_module_version": "1.2.0",
       "_view_name": "StyleView",
       "description_width": ""
      }
     },
     "9bd4591f6af841aaa779aaa7fe402800": {
      "model_module": "@jupyter-widgets/base",
      "model_module_version": "1.2.0",
      "model_name": "LayoutModel",
      "state": {
       "_model_module": "@jupyter-widgets/base",
       "_model_module_version": "1.2.0",
       "_model_name": "LayoutModel",
       "_view_count": null,
       "_view_module": "@jupyter-widgets/base",
       "_view_module_version": "1.2.0",
       "_view_name": "LayoutView",
       "align_content": null,
       "align_items": null,
       "align_self": null,
       "border": null,
       "bottom": null,
       "display": null,
       "flex": null,
       "flex_flow": null,
       "grid_area": null,
       "grid_auto_columns": null,
       "grid_auto_flow": null,
       "grid_auto_rows": null,
       "grid_column": null,
       "grid_gap": null,
       "grid_row": null,
       "grid_template_areas": null,
       "grid_template_columns": null,
       "grid_template_rows": null,
       "height": null,
       "justify_content": null,
       "justify_items": null,
       "left": null,
       "margin": null,
       "max_height": null,
       "max_width": null,
       "min_height": null,
       "min_width": null,
       "object_fit": null,
       "object_position": null,
       "order": null,
       "overflow": null,
       "overflow_x": null,
       "overflow_y": null,
       "padding": null,
       "right": null,
       "top": null,
       "visibility": null,
       "width": null
      }
     },
     "a2ad64652c984de48a0b7502f4db07b1": {
      "model_module": "@jupyter-widgets/base",
      "model_module_version": "1.2.0",
      "model_name": "LayoutModel",
      "state": {
       "_model_module": "@jupyter-widgets/base",
       "_model_module_version": "1.2.0",
       "_model_name": "LayoutModel",
       "_view_count": null,
       "_view_module": "@jupyter-widgets/base",
       "_view_module_version": "1.2.0",
       "_view_name": "LayoutView",
       "align_content": null,
       "align_items": null,
       "align_self": null,
       "border": null,
       "bottom": null,
       "display": null,
       "flex": null,
       "flex_flow": null,
       "grid_area": null,
       "grid_auto_columns": null,
       "grid_auto_flow": null,
       "grid_auto_rows": null,
       "grid_column": null,
       "grid_gap": null,
       "grid_row": null,
       "grid_template_areas": null,
       "grid_template_columns": null,
       "grid_template_rows": null,
       "height": null,
       "justify_content": null,
       "justify_items": null,
       "left": null,
       "margin": null,
       "max_height": null,
       "max_width": null,
       "min_height": null,
       "min_width": null,
       "object_fit": null,
       "object_position": null,
       "order": null,
       "overflow": null,
       "overflow_x": null,
       "overflow_y": null,
       "padding": null,
       "right": null,
       "top": null,
       "visibility": null,
       "width": null
      }
     },
     "bba5beefe27849ea875bf2e07c893192": {
      "model_module": "@jupyter-widgets/controls",
      "model_module_version": "1.5.0",
      "model_name": "HTMLModel",
      "state": {
       "_dom_classes": [],
       "_model_module": "@jupyter-widgets/controls",
       "_model_module_version": "1.5.0",
       "_model_name": "HTMLModel",
       "_view_count": null,
       "_view_module": "@jupyter-widgets/controls",
       "_view_module_version": "1.5.0",
       "_view_name": "HTMLView",
       "description": "",
       "description_tooltip": null,
       "layout": "IPY_MODEL_712fc62b3ead4573897e0a6b4da20584",
       "placeholder": "​",
       "style": "IPY_MODEL_73d717e230934d228968e0eb39194229",
       "value": " 3000/3000 [05:38&lt;00:00,  8.86it/s]"
      }
     },
     "cb56f33a6e9242d19561195f81875f0e": {
      "model_module": "@jupyter-widgets/controls",
      "model_module_version": "1.5.0",
      "model_name": "FloatProgressModel",
      "state": {
       "_dom_classes": [],
       "_model_module": "@jupyter-widgets/controls",
       "_model_module_version": "1.5.0",
       "_model_name": "FloatProgressModel",
       "_view_count": null,
       "_view_module": "@jupyter-widgets/controls",
       "_view_module_version": "1.5.0",
       "_view_name": "ProgressView",
       "bar_style": "success",
       "description": "100%",
       "description_tooltip": null,
       "layout": "IPY_MODEL_e954d8599c3147b5b73c13dbe00330ca",
       "max": 3000.0,
       "min": 0.0,
       "orientation": "horizontal",
       "style": "IPY_MODEL_fd33a4e4872b4867a003ccdfaf1ed155",
       "value": 3000.0
      }
     },
     "dc1af910ea8644eb956d4fb89ffad4dc": {
      "model_module": "@jupyter-widgets/controls",
      "model_module_version": "1.5.0",
      "model_name": "ProgressStyleModel",
      "state": {
       "_model_module": "@jupyter-widgets/controls",
       "_model_module_version": "1.5.0",
       "_model_name": "ProgressStyleModel",
       "_view_count": null,
       "_view_module": "@jupyter-widgets/base",
       "_view_module_version": "1.2.0",
       "_view_name": "StyleView",
       "bar_color": null,
       "description_width": "initial"
      }
     },
     "e5535f8f43f44725943edfa66e42e653": {
      "model_module": "@jupyter-widgets/base",
      "model_module_version": "1.2.0",
      "model_name": "LayoutModel",
      "state": {
       "_model_module": "@jupyter-widgets/base",
       "_model_module_version": "1.2.0",
       "_model_name": "LayoutModel",
       "_view_count": null,
       "_view_module": "@jupyter-widgets/base",
       "_view_module_version": "1.2.0",
       "_view_name": "LayoutView",
       "align_content": null,
       "align_items": null,
       "align_self": null,
       "border": null,
       "bottom": null,
       "display": null,
       "flex": null,
       "flex_flow": null,
       "grid_area": null,
       "grid_auto_columns": null,
       "grid_auto_flow": null,
       "grid_auto_rows": null,
       "grid_column": null,
       "grid_gap": null,
       "grid_row": null,
       "grid_template_areas": null,
       "grid_template_columns": null,
       "grid_template_rows": null,
       "height": null,
       "justify_content": null,
       "justify_items": null,
       "left": null,
       "margin": null,
       "max_height": null,
       "max_width": null,
       "min_height": null,
       "min_width": null,
       "object_fit": null,
       "object_position": null,
       "order": null,
       "overflow": null,
       "overflow_x": null,
       "overflow_y": null,
       "padding": null,
       "right": null,
       "top": null,
       "visibility": null,
       "width": null
      }
     },
     "e954d8599c3147b5b73c13dbe00330ca": {
      "model_module": "@jupyter-widgets/base",
      "model_module_version": "1.2.0",
      "model_name": "LayoutModel",
      "state": {
       "_model_module": "@jupyter-widgets/base",
       "_model_module_version": "1.2.0",
       "_model_name": "LayoutModel",
       "_view_count": null,
       "_view_module": "@jupyter-widgets/base",
       "_view_module_version": "1.2.0",
       "_view_name": "LayoutView",
       "align_content": null,
       "align_items": null,
       "align_self": null,
       "border": null,
       "bottom": null,
       "display": null,
       "flex": null,
       "flex_flow": null,
       "grid_area": null,
       "grid_auto_columns": null,
       "grid_auto_flow": null,
       "grid_auto_rows": null,
       "grid_column": null,
       "grid_gap": null,
       "grid_row": null,
       "grid_template_areas": null,
       "grid_template_columns": null,
       "grid_template_rows": null,
       "height": null,
       "justify_content": null,
       "justify_items": null,
       "left": null,
       "margin": null,
       "max_height": null,
       "max_width": null,
       "min_height": null,
       "min_width": null,
       "object_fit": null,
       "object_position": null,
       "order": null,
       "overflow": null,
       "overflow_x": null,
       "overflow_y": null,
       "padding": null,
       "right": null,
       "top": null,
       "visibility": null,
       "width": null
      }
     },
     "fd33a4e4872b4867a003ccdfaf1ed155": {
      "model_module": "@jupyter-widgets/controls",
      "model_module_version": "1.5.0",
      "model_name": "ProgressStyleModel",
      "state": {
       "_model_module": "@jupyter-widgets/controls",
       "_model_module_version": "1.5.0",
       "_model_name": "ProgressStyleModel",
       "_view_count": null,
       "_view_module": "@jupyter-widgets/base",
       "_view_module_version": "1.2.0",
       "_view_name": "StyleView",
       "bar_color": null,
       "description_width": "initial"
      }
     }
    },
    "version_major": 2,
    "version_minor": 0
   }
  }
 },
 "nbformat": 4,
 "nbformat_minor": 4
}
