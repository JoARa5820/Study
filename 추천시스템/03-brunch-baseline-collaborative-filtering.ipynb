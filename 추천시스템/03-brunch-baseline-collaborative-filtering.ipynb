{
 "cells": [
  {
   "cell_type": "code",
   "execution_count": 1,
   "metadata": {
    "execution": {
     "iopub.execute_input": "2020-08-23T15:55:24.540596Z",
     "iopub.status.busy": "2020-08-23T15:55:24.539670Z",
     "iopub.status.idle": "2020-08-23T15:55:28.011527Z",
     "shell.execute_reply": "2020-08-23T15:55:28.010785Z"
    },
    "papermill": {
     "duration": 3.494619,
     "end_time": "2020-08-23T15:55:28.011694",
     "exception": false,
     "start_time": "2020-08-23T15:55:24.517075",
     "status": "completed"
    },
    "tags": []
   },
   "outputs": [],
   "source": [
    "import pickle\n",
    "import pandas as pd\n",
    "import numpy as np\n",
    "import os, sys, gc \n",
    "from plotnine import *\n",
    "import plotnine\n",
    "\n",
    "from tqdm import tqdm_notebook\n",
    "import seaborn as sns\n",
    "import warnings\n",
    "import matplotlib.pyplot as plt\n",
    "import matplotlib.font_manager as fm\n",
    "import matplotlib as mpl\n",
    "from matplotlib import rc\n",
    "import re\n",
    "from matplotlib.ticker import PercentFormatter\n",
    "import datetime\n",
    "from math import log # IDF 계산을 위해"
   ]
  },
  {
   "cell_type": "code",
   "execution_count": 2,
   "metadata": {
    "execution": {
     "iopub.execute_input": "2020-08-23T15:55:28.042349Z",
     "iopub.status.busy": "2020-08-23T15:55:28.041187Z",
     "iopub.status.idle": "2020-08-23T15:55:28.044489Z",
     "shell.execute_reply": "2020-08-23T15:55:28.045091Z"
    },
    "papermill": {
     "duration": 0.021502,
     "end_time": "2020-08-23T15:55:28.045290",
     "exception": false,
     "start_time": "2020-08-23T15:55:28.023788",
     "status": "completed"
    },
    "tags": []
   },
   "outputs": [],
   "source": [
    "path = \"../input/t-academy-recommendation/\""
   ]
  },
  {
   "cell_type": "code",
   "execution_count": 3,
   "metadata": {
    "execution": {
     "iopub.execute_input": "2020-08-23T15:55:28.076115Z",
     "iopub.status.busy": "2020-08-23T15:55:28.075314Z",
     "iopub.status.idle": "2020-08-23T15:55:47.109962Z",
     "shell.execute_reply": "2020-08-23T15:55:47.110644Z"
    },
    "papermill": {
     "duration": 19.053594,
     "end_time": "2020-08-23T15:55:47.110847",
     "exception": false,
     "start_time": "2020-08-23T15:55:28.057253",
     "status": "completed"
    },
    "tags": []
   },
   "outputs": [],
   "source": [
    "# pd.read_json : json 형태의 파일을 dataframe 형태로 불러오는 코드 \n",
    "magazine = pd.read_json(path + 'magazine.json', lines=True) # lines = True : Read the file as a json object per line.\n",
    "metadata = pd.read_json(path + 'metadata.json', lines=True)\n",
    "users = pd.read_json(path + 'users.json', lines=True)"
   ]
  },
  {
   "cell_type": "code",
   "execution_count": 4,
   "metadata": {
    "execution": {
     "iopub.execute_input": "2020-08-23T15:55:47.143647Z",
     "iopub.status.busy": "2020-08-23T15:55:47.142530Z",
     "iopub.status.idle": "2020-08-23T15:55:47.146726Z",
     "shell.execute_reply": "2020-08-23T15:55:47.147268Z"
    },
    "papermill": {
     "duration": 0.024055,
     "end_time": "2020-08-23T15:55:47.147472",
     "exception": false,
     "start_time": "2020-08-23T15:55:47.123417",
     "status": "completed"
    },
    "tags": []
   },
   "outputs": [
    {
     "name": "stdout",
     "output_type": "stream",
     "text": [
      "CPU times: user 16 µs, sys: 4 µs, total: 20 µs\n",
      "Wall time: 24.3 µs\n"
     ]
    }
   ],
   "source": [
    "%%time \n",
    "import itertools\n",
    "from itertools import chain\n",
    "import glob\n",
    "import os \n",
    "\n",
    "\n",
    "def chainer(s):\n",
    "    return list(itertools.chain.from_iterable(s))"
   ]
  },
  {
   "cell_type": "code",
   "execution_count": 5,
   "metadata": {
    "execution": {
     "iopub.execute_input": "2020-08-23T15:55:47.192156Z",
     "iopub.status.busy": "2020-08-23T15:55:47.191365Z",
     "iopub.status.idle": "2020-08-23T15:56:16.521768Z",
     "shell.execute_reply": "2020-08-23T15:56:16.522639Z"
    },
    "papermill": {
     "duration": 29.362637,
     "end_time": "2020-08-23T15:56:16.522901",
     "exception": false,
     "start_time": "2020-08-23T15:55:47.160264",
     "status": "completed"
    },
    "tags": []
   },
   "outputs": [],
   "source": [
    "read_rowwise = pd.read_csv(path + \"read_rowwise.csv\")"
   ]
  },
  {
   "cell_type": "code",
   "execution_count": 6,
   "metadata": {
    "execution": {
     "iopub.execute_input": "2020-08-23T15:56:16.562055Z",
     "iopub.status.busy": "2020-08-23T15:56:16.560922Z",
     "iopub.status.idle": "2020-08-23T15:56:18.618651Z",
     "shell.execute_reply": "2020-08-23T15:56:18.617883Z"
    },
    "papermill": {
     "duration": 2.08109,
     "end_time": "2020-08-23T15:56:18.618798",
     "exception": false,
     "start_time": "2020-08-23T15:56:16.537708",
     "status": "completed"
    },
    "tags": []
   },
   "outputs": [],
   "source": [
    "from datetime import datetime \n",
    "\n",
    "metadata['reg_datetime'] = metadata['reg_ts'].apply(lambda x : datetime.fromtimestamp(x/1000.0))\n",
    "metadata.loc[metadata['reg_datetime'] == metadata['reg_datetime'].min(), 'reg_datetime'] = datetime(2090, 12, 31)\n",
    "metadata['reg_dt'] = metadata['reg_datetime'].dt.date\n",
    "metadata['type'] = metadata['magazine_id'].apply(lambda x : '개인' if x == 0.0 else '매거진')\n",
    "metadata['reg_dt'] = pd.to_datetime(metadata['reg_dt'])"
   ]
  },
  {
   "cell_type": "markdown",
   "execution_count": null,
   "metadata": {
    "papermill": {
     "duration": 0.012164,
     "end_time": "2020-08-23T15:56:18.643978",
     "exception": false,
     "start_time": "2020-08-23T15:56:18.631814",
     "status": "completed"
    },
    "tags": []
   },
   "source": [
    "## 협업필터링 기반의 모델\n",
    "- Implicit의 ALS 방법"
   ]
  },
  {
   "cell_type": "code",
   "execution_count": 7,
   "metadata": {
    "execution": {
     "iopub.execute_input": "2020-08-23T15:56:18.682047Z",
     "iopub.status.busy": "2020-08-23T15:56:18.680705Z",
     "iopub.status.idle": "2020-08-23T15:57:34.605561Z",
     "shell.execute_reply": "2020-08-23T15:57:34.604786Z"
    },
    "papermill": {
     "duration": 75.949057,
     "end_time": "2020-08-23T15:57:34.605733",
     "exception": false,
     "start_time": "2020-08-23T15:56:18.656676",
     "status": "completed"
    },
    "tags": []
   },
   "outputs": [],
   "source": [
    "read_rowwise = read_rowwise.merge(metadata[['id', 'reg_dt']], how='left', left_on='article_id', right_on='id')\n",
    "read_rowwise = read_rowwise[read_rowwise['article_id'] != '']\n",
    "\n",
    "# 사용자가 읽은 글의 목록들을 저장 \n",
    "read_total = pd.DataFrame(read_rowwise.groupby(['user_id'])['article_id'].unique()).reset_index()\n",
    "read_total.columns = ['user_id', 'article_list']"
   ]
  },
  {
   "cell_type": "code",
   "execution_count": 8,
   "metadata": {
    "execution": {
     "iopub.execute_input": "2020-08-23T15:57:38.593365Z",
     "iopub.status.busy": "2020-08-23T15:57:38.591781Z",
     "iopub.status.idle": "2020-08-23T15:57:43.337538Z",
     "shell.execute_reply": "2020-08-23T15:57:43.336722Z"
    },
    "papermill": {
     "duration": 8.718164,
     "end_time": "2020-08-23T15:57:43.337700",
     "exception": false,
     "start_time": "2020-08-23T15:57:34.619536",
     "status": "completed"
    },
    "tags": []
   },
   "outputs": [],
   "source": [
    "read_rowwise = read_rowwise[(read_rowwise['id'].notnull()) & (read_rowwise['reg_dt'].notnull())]\n",
    "read_rowwise = read_rowwise[(read_rowwise['reg_dt'] >= '2019-01-01') & (read_rowwise['reg_dt'] < '2090-12-31')].reset_index(drop=True)\n",
    "del read_rowwise['id']"
   ]
  },
  {
   "cell_type": "code",
   "execution_count": 9,
   "metadata": {
    "execution": {
     "iopub.execute_input": "2020-08-23T15:57:43.776672Z",
     "iopub.status.busy": "2020-08-23T15:57:43.775845Z",
     "iopub.status.idle": "2020-08-23T15:57:45.156344Z",
     "shell.execute_reply": "2020-08-23T15:57:45.155498Z"
    },
    "papermill": {
     "duration": 1.805392,
     "end_time": "2020-08-23T15:57:45.156485",
     "exception": false,
     "start_time": "2020-08-23T15:57:43.351093",
     "status": "completed"
    },
    "tags": []
   },
   "outputs": [],
   "source": [
    "user2idx = {}\n",
    "for i, l in enumerate(read_rowwise['user_id'].unique()):\n",
    "    user2idx[l] = i\n",
    "    \n",
    "article2idx = {}\n",
    "for i, l in enumerate(read_rowwise['article_id'].unique()):\n",
    "    article2idx[l] = i"
   ]
  },
  {
   "cell_type": "code",
   "execution_count": 10,
   "metadata": {
    "execution": {
     "iopub.execute_input": "2020-08-23T15:57:45.189022Z",
     "iopub.status.busy": "2020-08-23T15:57:45.188149Z",
     "iopub.status.idle": "2020-08-23T15:57:45.192731Z",
     "shell.execute_reply": "2020-08-23T15:57:45.191903Z"
    },
    "papermill": {
     "duration": 0.023369,
     "end_time": "2020-08-23T15:57:45.192870",
     "exception": false,
     "start_time": "2020-08-23T15:57:45.169501",
     "status": "completed"
    },
    "tags": []
   },
   "outputs": [
    {
     "name": "stdout",
     "output_type": "stream",
     "text": [
      "147854 48516\n"
     ]
    }
   ],
   "source": [
    "print(len(user2idx), len(article2idx))"
   ]
  },
  {
   "cell_type": "markdown",
   "execution_count": null,
   "metadata": {
    "papermill": {
     "duration": 0.012742,
     "end_time": "2020-08-23T15:57:45.218959",
     "exception": false,
     "start_time": "2020-08-23T15:57:45.206217",
     "status": "completed"
    },
    "tags": []
   },
   "source": [
    "협업필터링을 적용시에 발생가능한 문제점 \n",
    "- 사용자와 아이템의 수가 너무 많기에 메모리상의 문제가 발생\n",
    "- 148098 * 48649\n",
    "\n",
    "해결방안 \n",
    "- 유의미하지 않은 사용자와 아이템을 제거 \n",
    "    - 읽은 article의 갯수가 20개 이하인 user_id\n",
    "    - 사람들에게 읽힌 횟수가 20번 이하인 article_id 는 삭제\n",
    "- 추천할 대상자는 포함 + 추천하지 않은 대상자는 상위 10%만 선택"
   ]
  },
  {
   "cell_type": "code",
   "execution_count": 11,
   "metadata": {
    "execution": {
     "iopub.execute_input": "2020-08-23T15:57:45.266871Z",
     "iopub.status.busy": "2020-08-23T15:57:45.266052Z",
     "iopub.status.idle": "2020-08-23T15:57:45.278984Z",
     "shell.execute_reply": "2020-08-23T15:57:45.278169Z"
    },
    "papermill": {
     "duration": 0.046603,
     "end_time": "2020-08-23T15:57:45.279148",
     "exception": false,
     "start_time": "2020-08-23T15:57:45.232545",
     "status": "completed"
    },
    "tags": []
   },
   "outputs": [],
   "source": [
    "valid = pd.read_csv(path + '/predict/dev.users', header=None)"
   ]
  },
  {
   "cell_type": "code",
   "execution_count": 12,
   "metadata": {
    "execution": {
     "iopub.execute_input": "2020-08-23T15:57:45.429796Z",
     "iopub.status.busy": "2020-08-23T15:57:45.428952Z",
     "iopub.status.idle": "2020-08-23T15:57:45.646333Z",
     "shell.execute_reply": "2020-08-23T15:57:45.645534Z"
    },
    "papermill": {
     "duration": 0.354003,
     "end_time": "2020-08-23T15:57:45.646469",
     "exception": false,
     "start_time": "2020-08-23T15:57:45.292466",
     "status": "completed"
    },
    "tags": []
   },
   "outputs": [],
   "source": [
    "read_total_valid = read_total[read_total['user_id'].isin(valid[0])].reset_index(drop=True)\n",
    "read_total_train = read_total[~read_total['user_id'].isin(valid[0])].reset_index(drop=True)"
   ]
  },
  {
   "cell_type": "code",
   "execution_count": 13,
   "metadata": {
    "execution": {
     "iopub.execute_input": "2020-08-23T15:57:45.684654Z",
     "iopub.status.busy": "2020-08-23T15:57:45.683762Z",
     "iopub.status.idle": "2020-08-23T15:57:54.521487Z",
     "shell.execute_reply": "2020-08-23T15:57:54.522119Z"
    },
    "papermill": {
     "duration": 8.861993,
     "end_time": "2020-08-23T15:57:54.522348",
     "exception": false,
     "start_time": "2020-08-23T15:57:45.660355",
     "status": "completed"
    },
    "tags": []
   },
   "outputs": [],
   "source": [
    "read_total_train['article_len'] = read_total_train['article_list'].apply(lambda x: len(x))\n",
    "top10_percent = np.percentile(read_total_train['article_len'].values, 90)\n",
    "read_total_train = read_total_train[read_total_train['article_len'] >= top10_percent]\n",
    "hot_user = read_total_train['user_id'].unique()\n",
    "\n",
    "user_total = pd.DataFrame(read_rowwise.groupby(['article_id'])['user_id'].unique()).reset_index()\n",
    "user_total.columns = ['article_id', 'user_list']\n",
    "\n",
    "user_total['user_len'] = user_total['user_list'].apply(lambda x: len(x))\n",
    "cold_article = user_total[user_total['user_len'] <= 20]['article_id'].unique()"
   ]
  },
  {
   "cell_type": "code",
   "execution_count": 14,
   "metadata": {
    "execution": {
     "iopub.execute_input": "2020-08-23T15:57:55.476435Z",
     "iopub.status.busy": "2020-08-23T15:57:55.475591Z",
     "iopub.status.idle": "2020-08-23T15:57:56.330912Z",
     "shell.execute_reply": "2020-08-23T15:57:56.330259Z"
    },
    "papermill": {
     "duration": 1.795298,
     "end_time": "2020-08-23T15:57:56.331076",
     "exception": false,
     "start_time": "2020-08-23T15:57:54.535778",
     "status": "completed"
    },
    "scrolled": true,
    "tags": []
   },
   "outputs": [],
   "source": [
    "read_rowwise = read_rowwise[read_rowwise['user_id'].isin(np.append(hot_user, valid[0].values))]\n",
    "read_rowwise = read_rowwise[~read_rowwise['article_id'].isin(cold_article)]"
   ]
  },
  {
   "cell_type": "code",
   "execution_count": 15,
   "metadata": {
    "execution": {
     "iopub.execute_input": "2020-08-23T15:57:56.659497Z",
     "iopub.status.busy": "2020-08-23T15:57:56.658651Z",
     "iopub.status.idle": "2020-08-23T15:57:57.450994Z",
     "shell.execute_reply": "2020-08-23T15:57:57.450098Z"
    },
    "papermill": {
     "duration": 1.105799,
     "end_time": "2020-08-23T15:57:57.451193",
     "exception": false,
     "start_time": "2020-08-23T15:57:56.345394",
     "status": "completed"
    },
    "tags": []
   },
   "outputs": [],
   "source": [
    "user2idx = {}\n",
    "for i, l in enumerate(read_rowwise['user_id'].unique()):\n",
    "    user2idx[l] = i\n",
    "    \n",
    "article2idx = {}\n",
    "for i, l in enumerate(read_rowwise['article_id'].unique()):\n",
    "    article2idx[l] = i"
   ]
  },
  {
   "cell_type": "code",
   "execution_count": 16,
   "metadata": {
    "execution": {
     "iopub.execute_input": "2020-08-23T15:57:57.495295Z",
     "iopub.status.busy": "2020-08-23T15:57:57.494358Z",
     "iopub.status.idle": "2020-08-23T15:57:57.497338Z",
     "shell.execute_reply": "2020-08-23T15:57:57.497886Z"
    },
    "papermill": {
     "duration": 0.033167,
     "end_time": "2020-08-23T15:57:57.498063",
     "exception": false,
     "start_time": "2020-08-23T15:57:57.464896",
     "status": "completed"
    },
    "tags": []
   },
   "outputs": [],
   "source": [
    "idx2user = {i: user for user, i in user2idx.items()}\n",
    "idx2article = {i: item for item, i in article2idx.items()}"
   ]
  },
  {
   "cell_type": "code",
   "execution_count": 17,
   "metadata": {
    "execution": {
     "iopub.execute_input": "2020-08-23T15:57:57.531704Z",
     "iopub.status.busy": "2020-08-23T15:57:57.530700Z",
     "iopub.status.idle": "2020-08-23T15:57:57.534326Z",
     "shell.execute_reply": "2020-08-23T15:57:57.534913Z"
    },
    "papermill": {
     "duration": 0.023088,
     "end_time": "2020-08-23T15:57:57.535079",
     "exception": false,
     "start_time": "2020-08-23T15:57:57.511991",
     "status": "completed"
    },
    "tags": []
   },
   "outputs": [
    {
     "name": "stdout",
     "output_type": "stream",
     "text": [
      "29744 20477\n"
     ]
    }
   ],
   "source": [
    "print(len(user2idx), len(article2idx))"
   ]
  },
  {
   "cell_type": "code",
   "execution_count": 18,
   "metadata": {
    "execution": {
     "iopub.execute_input": "2020-08-23T15:57:57.571704Z",
     "iopub.status.busy": "2020-08-23T15:57:57.570849Z",
     "iopub.status.idle": "2020-08-23T15:58:03.542903Z",
     "shell.execute_reply": "2020-08-23T15:58:03.542202Z"
    },
    "papermill": {
     "duration": 5.994309,
     "end_time": "2020-08-23T15:58:03.543043",
     "exception": false,
     "start_time": "2020-08-23T15:57:57.548734",
     "status": "completed"
    },
    "tags": []
   },
   "outputs": [],
   "source": [
    "data = read_rowwise[['user_id', 'article_id']].reset_index(drop=True)\n",
    "useridx = data['useridx'] = read_rowwise['user_id'].apply(lambda x: user2idx[x]).values\n",
    "articleidx = data['articleidx'] = read_rowwise['article_id'].apply(lambda x: article2idx[x]).values\n",
    "rating = np.ones(len(data))"
   ]
  },
  {
   "cell_type": "code",
   "execution_count": 19,
   "metadata": {
    "execution": {
     "iopub.execute_input": "2020-08-23T15:58:06.113049Z",
     "iopub.status.busy": "2020-08-23T15:58:06.109076Z",
     "iopub.status.idle": "2020-08-23T15:58:06.393262Z",
     "shell.execute_reply": "2020-08-23T15:58:06.392430Z"
    },
    "papermill": {
     "duration": 2.836383,
     "end_time": "2020-08-23T15:58:06.393405",
     "exception": false,
     "start_time": "2020-08-23T15:58:03.557022",
     "status": "completed"
    },
    "tags": []
   },
   "outputs": [],
   "source": [
    "import scipy\n",
    "\n",
    "purchase_sparse = scipy.sparse.csr_matrix((rating, (useridx, articleidx)), shape=(len(set(useridx)), len(set(articleidx))))"
   ]
  },
  {
   "cell_type": "markdown",
   "execution_count": null,
   "metadata": {
    "papermill": {
     "duration": 0.014121,
     "end_time": "2020-08-23T15:58:06.421699",
     "exception": false,
     "start_time": "2020-08-23T15:58:06.407578",
     "status": "completed"
    },
    "tags": []
   },
   "source": [
    "### implicit의 ALS 방법"
   ]
  },
  {
   "cell_type": "code",
   "execution_count": 20,
   "metadata": {
    "execution": {
     "iopub.execute_input": "2020-08-23T15:58:06.455847Z",
     "iopub.status.busy": "2020-08-23T15:58:06.454970Z",
     "iopub.status.idle": "2020-08-23T15:58:06.503598Z",
     "shell.execute_reply": "2020-08-23T15:58:06.502774Z"
    },
    "papermill": {
     "duration": 0.06783,
     "end_time": "2020-08-23T15:58:06.503734",
     "exception": false,
     "start_time": "2020-08-23T15:58:06.435904",
     "status": "completed"
    },
    "tags": []
   },
   "outputs": [],
   "source": [
    "from implicit.evaluation import *\n",
    "from implicit.als import AlternatingLeastSquares as ALS"
   ]
  },
  {
   "cell_type": "code",
   "execution_count": 21,
   "metadata": {
    "execution": {
     "iopub.execute_input": "2020-08-23T15:58:06.539815Z",
     "iopub.status.busy": "2020-08-23T15:58:06.539004Z",
     "iopub.status.idle": "2020-08-23T15:58:16.968055Z",
     "shell.execute_reply": "2020-08-23T15:58:16.968862Z"
    },
    "papermill": {
     "duration": 10.451284,
     "end_time": "2020-08-23T15:58:16.969057",
     "exception": false,
     "start_time": "2020-08-23T15:58:06.517773",
     "status": "completed"
    },
    "tags": []
   },
   "outputs": [
    {
     "data": {
      "application/vnd.jupyter.widget-view+json": {
       "model_id": "299f64d868e047f4b132ae3ac1e83153",
       "version_major": 2,
       "version_minor": 0
      },
      "text/plain": [
       "HBox(children=(FloatProgress(value=0.0, max=20.0), HTML(value='')))"
      ]
     },
     "metadata": {},
     "output_type": "display_data"
    },
    {
     "name": "stdout",
     "output_type": "stream",
     "text": [
      "\n"
     ]
    }
   ],
   "source": [
    "als_model = ALS(factors=20, regularization=0.08, iterations = 20)\n",
    "als_model.fit(purchase_sparse.T)"
   ]
  },
  {
   "cell_type": "code",
   "execution_count": 22,
   "metadata": {
    "execution": {
     "iopub.execute_input": "2020-08-23T15:58:17.013327Z",
     "iopub.status.busy": "2020-08-23T15:58:17.012051Z",
     "iopub.status.idle": "2020-08-23T15:58:17.023960Z",
     "shell.execute_reply": "2020-08-23T15:58:17.023216Z"
    },
    "papermill": {
     "duration": 0.035949,
     "end_time": "2020-08-23T15:58:17.024122",
     "exception": false,
     "start_time": "2020-08-23T15:58:16.988173",
     "status": "completed"
    },
    "tags": []
   },
   "outputs": [
    {
     "data": {
      "text/plain": [
       "[(10998, 0.42527843),\n",
       " (9205, 0.30100185),\n",
       " (8684, 0.2996286),\n",
       " (10310, 0.29780388),\n",
       " (15978, 0.29192966),\n",
       " (7160, 0.2876506),\n",
       " (17964, 0.2850973),\n",
       " (17353, 0.2849923),\n",
       " (14621, 0.28072065),\n",
       " (14949, 0.27421725)]"
      ]
     },
     "execution_count": 22,
     "metadata": {},
     "output_type": "execute_result"
    }
   ],
   "source": [
    "als_model.recommend(0, purchase_sparse, N=150)[0:10]"
   ]
  },
  {
   "cell_type": "code",
   "execution_count": 23,
   "metadata": {
    "execution": {
     "iopub.execute_input": "2020-08-23T15:58:17.779935Z",
     "iopub.status.busy": "2020-08-23T15:58:17.771887Z",
     "iopub.status.idle": "2020-08-23T16:04:03.947564Z",
     "shell.execute_reply": "2020-08-23T16:04:03.946563Z"
    },
    "papermill": {
     "duration": 346.907439,
     "end_time": "2020-08-23T16:04:03.947881",
     "exception": false,
     "start_time": "2020-08-23T15:58:17.040442",
     "status": "completed"
    },
    "tags": []
   },
   "outputs": [
    {
     "name": "stderr",
     "output_type": "stream",
     "text": [
      "/opt/conda/lib/python3.7/site-packages/ipykernel_launcher.py:4: TqdmDeprecationWarning: This function will be removed in tqdm==5.0.0\n",
      "Please use `tqdm.notebook.tqdm` instead of `tqdm.tqdm_notebook`\n"
     ]
    },
    {
     "data": {
      "application/vnd.jupyter.widget-view+json": {
       "model_id": "340ba26a94f2466a8935aabed9b6f112",
       "version_major": 2,
       "version_minor": 0
      },
      "text/plain": [
       "HBox(children=(FloatProgress(value=0.0, max=3000.0), HTML(value='')))"
      ]
     },
     "metadata": {},
     "output_type": "display_data"
    },
    {
     "name": "stdout",
     "output_type": "stream",
     "text": [
      "\n"
     ]
    }
   ],
   "source": [
    "popular_rec_model = read_rowwise['article_id'].value_counts().index[0:1000]\n",
    "\n",
    "with open('recommend.txt', 'w') as f:\n",
    "    for user in tqdm_notebook(valid[0].values):\n",
    "        # 추천 후보 \n",
    "        seen = chainer(read_total[read_total['user_id'] == user]['article_list'].values)\n",
    "        \n",
    "        try:\n",
    "            recs = als_model.recommend(user2idx[user], purchase_sparse, N=150)\n",
    "            recs = [idx2article[x[0]] for x in recs][0:100]          \n",
    "            f.write('%s %s\\n' % (user, ' '.join(recs)))\n",
    "        except:\n",
    "            recs = popular_rec_model[0:100]\n",
    "            f.write('%s %s\\n' % (user, ' '.join(recs)))"
   ]
  },
  {
   "cell_type": "markdown",
   "execution_count": null,
   "metadata": {
    "papermill": {
     "duration": 0.0175,
     "end_time": "2020-08-23T16:04:03.983343",
     "exception": false,
     "start_time": "2020-08-23T16:04:03.965843",
     "status": "completed"
    },
    "tags": []
   },
   "source": [
    "![](https://github.com/choco9966/T-academy-Recommendation/blob/master/figure/Collaborative_Based_score.PNG?raw=true)"
   ]
  },
  {
   "cell_type": "code",
   "execution_count": null,
   "metadata": {
    "papermill": {
     "duration": 0.014508,
     "end_time": "2020-08-23T16:04:04.015716",
     "exception": false,
     "start_time": "2020-08-23T16:04:04.001208",
     "status": "completed"
    },
    "tags": []
   },
   "outputs": [],
   "source": []
  }
 ],
 "metadata": {
  "kernelspec": {
   "display_name": "Python 3",
   "language": "python",
   "name": "python3"
  },
  "language_info": {
   "codemirror_mode": {
    "name": "ipython",
    "version": 3
   },
   "file_extension": ".py",
   "mimetype": "text/x-python",
   "name": "python",
   "nbconvert_exporter": "python",
   "pygments_lexer": "ipython3",
   "version": "3.7.6"
  },
  "papermill": {
   "duration": 524.787323,
   "end_time": "2020-08-23T16:04:04.244047",
   "environment_variables": {},
   "exception": null,
   "input_path": "__notebook__.ipynb",
   "output_path": "__notebook__.ipynb",
   "parameters": {},
   "start_time": "2020-08-23T15:55:19.456724",
   "version": "2.1.0"
  },
  "widgets": {
   "application/vnd.jupyter.widget-state+json": {
    "state": {
     "1cccb1d8d46a47c7a99a9d0a5ecbe259": {
      "model_module": "@jupyter-widgets/base",
      "model_module_version": "1.2.0",
      "model_name": "LayoutModel",
      "state": {
       "_model_module": "@jupyter-widgets/base",
       "_model_module_version": "1.2.0",
       "_model_name": "LayoutModel",
       "_view_count": null,
       "_view_module": "@jupyter-widgets/base",
       "_view_module_version": "1.2.0",
       "_view_name": "LayoutView",
       "align_content": null,
       "align_items": null,
       "align_self": null,
       "border": null,
       "bottom": null,
       "display": null,
       "flex": null,
       "flex_flow": null,
       "grid_area": null,
       "grid_auto_columns": null,
       "grid_auto_flow": null,
       "grid_auto_rows": null,
       "grid_column": null,
       "grid_gap": null,
       "grid_row": null,
       "grid_template_areas": null,
       "grid_template_columns": null,
       "grid_template_rows": null,
       "height": null,
       "justify_content": null,
       "justify_items": null,
       "left": null,
       "margin": null,
       "max_height": null,
       "max_width": null,
       "min_height": null,
       "min_width": null,
       "object_fit": null,
       "object_position": null,
       "order": null,
       "overflow": null,
       "overflow_x": null,
       "overflow_y": null,
       "padding": null,
       "right": null,
       "top": null,
       "visibility": null,
       "width": null
      }
     },
     "1e66448ccf9a40b2972e07dce196f54f": {
      "model_module": "@jupyter-widgets/controls",
      "model_module_version": "1.5.0",
      "model_name": "ProgressStyleModel",
      "state": {
       "_model_module": "@jupyter-widgets/controls",
       "_model_module_version": "1.5.0",
       "_model_name": "ProgressStyleModel",
       "_view_count": null,
       "_view_module": "@jupyter-widgets/base",
       "_view_module_version": "1.2.0",
       "_view_name": "StyleView",
       "bar_color": null,
       "description_width": "initial"
      }
     },
     "299f64d868e047f4b132ae3ac1e83153": {
      "model_module": "@jupyter-widgets/controls",
      "model_module_version": "1.5.0",
      "model_name": "HBoxModel",
      "state": {
       "_dom_classes": [],
       "_model_module": "@jupyter-widgets/controls",
       "_model_module_version": "1.5.0",
       "_model_name": "HBoxModel",
       "_view_count": null,
       "_view_module": "@jupyter-widgets/controls",
       "_view_module_version": "1.5.0",
       "_view_name": "HBoxView",
       "box_style": "",
       "children": [
        "IPY_MODEL_cee232300a2f41d3813104fabbc3df32",
        "IPY_MODEL_b362bf4aab2945b18461e1a5cf24bd6f"
       ],
       "layout": "IPY_MODEL_79b6b80b5ffb4086b4dd82ef5c0385c9"
      }
     },
     "340ba26a94f2466a8935aabed9b6f112": {
      "model_module": "@jupyter-widgets/controls",
      "model_module_version": "1.5.0",
      "model_name": "HBoxModel",
      "state": {
       "_dom_classes": [],
       "_model_module": "@jupyter-widgets/controls",
       "_model_module_version": "1.5.0",
       "_model_name": "HBoxModel",
       "_view_count": null,
       "_view_module": "@jupyter-widgets/controls",
       "_view_module_version": "1.5.0",
       "_view_name": "HBoxView",
       "box_style": "",
       "children": [
        "IPY_MODEL_5b032f5866e3489293c568107df83ff8",
        "IPY_MODEL_d2ed941b5a2444ec9ca4822016ea2029"
       ],
       "layout": "IPY_MODEL_8488c391e15346c88bdfd0a2e9030a02"
      }
     },
     "5b032f5866e3489293c568107df83ff8": {
      "model_module": "@jupyter-widgets/controls",
      "model_module_version": "1.5.0",
      "model_name": "FloatProgressModel",
      "state": {
       "_dom_classes": [],
       "_model_module": "@jupyter-widgets/controls",
       "_model_module_version": "1.5.0",
       "_model_name": "FloatProgressModel",
       "_view_count": null,
       "_view_module": "@jupyter-widgets/controls",
       "_view_module_version": "1.5.0",
       "_view_name": "ProgressView",
       "bar_style": "success",
       "description": "100%",
       "description_tooltip": null,
       "layout": "IPY_MODEL_686fa79641094d6b911c0244154fe5b5",
       "max": 3000.0,
       "min": 0.0,
       "orientation": "horizontal",
       "style": "IPY_MODEL_1e66448ccf9a40b2972e07dce196f54f",
       "value": 3000.0
      }
     },
     "686fa79641094d6b911c0244154fe5b5": {
      "model_module": "@jupyter-widgets/base",
      "model_module_version": "1.2.0",
      "model_name": "LayoutModel",
      "state": {
       "_model_module": "@jupyter-widgets/base",
       "_model_module_version": "1.2.0",
       "_model_name": "LayoutModel",
       "_view_count": null,
       "_view_module": "@jupyter-widgets/base",
       "_view_module_version": "1.2.0",
       "_view_name": "LayoutView",
       "align_content": null,
       "align_items": null,
       "align_self": null,
       "border": null,
       "bottom": null,
       "display": null,
       "flex": null,
       "flex_flow": null,
       "grid_area": null,
       "grid_auto_columns": null,
       "grid_auto_flow": null,
       "grid_auto_rows": null,
       "grid_column": null,
       "grid_gap": null,
       "grid_row": null,
       "grid_template_areas": null,
       "grid_template_columns": null,
       "grid_template_rows": null,
       "height": null,
       "justify_content": null,
       "justify_items": null,
       "left": null,
       "margin": null,
       "max_height": null,
       "max_width": null,
       "min_height": null,
       "min_width": null,
       "object_fit": null,
       "object_position": null,
       "order": null,
       "overflow": null,
       "overflow_x": null,
       "overflow_y": null,
       "padding": null,
       "right": null,
       "top": null,
       "visibility": null,
       "width": null
      }
     },
     "79b6b80b5ffb4086b4dd82ef5c0385c9": {
      "model_module": "@jupyter-widgets/base",
      "model_module_version": "1.2.0",
      "model_name": "LayoutModel",
      "state": {
       "_model_module": "@jupyter-widgets/base",
       "_model_module_version": "1.2.0",
       "_model_name": "LayoutModel",
       "_view_count": null,
       "_view_module": "@jupyter-widgets/base",
       "_view_module_version": "1.2.0",
       "_view_name": "LayoutView",
       "align_content": null,
       "align_items": null,
       "align_self": null,
       "border": null,
       "bottom": null,
       "display": null,
       "flex": null,
       "flex_flow": null,
       "grid_area": null,
       "grid_auto_columns": null,
       "grid_auto_flow": null,
       "grid_auto_rows": null,
       "grid_column": null,
       "grid_gap": null,
       "grid_row": null,
       "grid_template_areas": null,
       "grid_template_columns": null,
       "grid_template_rows": null,
       "height": null,
       "justify_content": null,
       "justify_items": null,
       "left": null,
       "margin": null,
       "max_height": null,
       "max_width": null,
       "min_height": null,
       "min_width": null,
       "object_fit": null,
       "object_position": null,
       "order": null,
       "overflow": null,
       "overflow_x": null,
       "overflow_y": null,
       "padding": null,
       "right": null,
       "top": null,
       "visibility": null,
       "width": null
      }
     },
     "7b1e8ed760654ca695a2e3a89837e8a3": {
      "model_module": "@jupyter-widgets/controls",
      "model_module_version": "1.5.0",
      "model_name": "ProgressStyleModel",
      "state": {
       "_model_module": "@jupyter-widgets/controls",
       "_model_module_version": "1.5.0",
       "_model_name": "ProgressStyleModel",
       "_view_count": null,
       "_view_module": "@jupyter-widgets/base",
       "_view_module_version": "1.2.0",
       "_view_name": "StyleView",
       "bar_color": null,
       "description_width": "initial"
      }
     },
     "8488c391e15346c88bdfd0a2e9030a02": {
      "model_module": "@jupyter-widgets/base",
      "model_module_version": "1.2.0",
      "model_name": "LayoutModel",
      "state": {
       "_model_module": "@jupyter-widgets/base",
       "_model_module_version": "1.2.0",
       "_model_name": "LayoutModel",
       "_view_count": null,
       "_view_module": "@jupyter-widgets/base",
       "_view_module_version": "1.2.0",
       "_view_name": "LayoutView",
       "align_content": null,
       "align_items": null,
       "align_self": null,
       "border": null,
       "bottom": null,
       "display": null,
       "flex": null,
       "flex_flow": null,
       "grid_area": null,
       "grid_auto_columns": null,
       "grid_auto_flow": null,
       "grid_auto_rows": null,
       "grid_column": null,
       "grid_gap": null,
       "grid_row": null,
       "grid_template_areas": null,
       "grid_template_columns": null,
       "grid_template_rows": null,
       "height": null,
       "justify_content": null,
       "justify_items": null,
       "left": null,
       "margin": null,
       "max_height": null,
       "max_width": null,
       "min_height": null,
       "min_width": null,
       "object_fit": null,
       "object_position": null,
       "order": null,
       "overflow": null,
       "overflow_x": null,
       "overflow_y": null,
       "padding": null,
       "right": null,
       "top": null,
       "visibility": null,
       "width": null
      }
     },
     "a64ff326c21f4bdcbf84c6f807adfc58": {
      "model_module": "@jupyter-widgets/controls",
      "model_module_version": "1.5.0",
      "model_name": "DescriptionStyleModel",
      "state": {
       "_model_module": "@jupyter-widgets/controls",
       "_model_module_version": "1.5.0",
       "_model_name": "DescriptionStyleModel",
       "_view_count": null,
       "_view_module": "@jupyter-widgets/base",
       "_view_module_version": "1.2.0",
       "_view_name": "StyleView",
       "description_width": ""
      }
     },
     "ac5c37467077458ca5119528f4bc7f8b": {
      "model_module": "@jupyter-widgets/controls",
      "model_module_version": "1.5.0",
      "model_name": "DescriptionStyleModel",
      "state": {
       "_model_module": "@jupyter-widgets/controls",
       "_model_module_version": "1.5.0",
       "_model_name": "DescriptionStyleModel",
       "_view_count": null,
       "_view_module": "@jupyter-widgets/base",
       "_view_module_version": "1.2.0",
       "_view_name": "StyleView",
       "description_width": ""
      }
     },
     "b362bf4aab2945b18461e1a5cf24bd6f": {
      "model_module": "@jupyter-widgets/controls",
      "model_module_version": "1.5.0",
      "model_name": "HTMLModel",
      "state": {
       "_dom_classes": [],
       "_model_module": "@jupyter-widgets/controls",
       "_model_module_version": "1.5.0",
       "_model_name": "HTMLModel",
       "_view_count": null,
       "_view_module": "@jupyter-widgets/controls",
       "_view_module_version": "1.5.0",
       "_view_name": "HTMLView",
       "description": "",
       "description_tooltip": null,
       "layout": "IPY_MODEL_da8bed9f605b4c68831945dae76c7571",
       "placeholder": "​",
       "style": "IPY_MODEL_ac5c37467077458ca5119528f4bc7f8b",
       "value": " 20/20 [00:10&lt;00:00,  1.92it/s]"
      }
     },
     "bc5fabfb36374077a917edf0d8fa84be": {
      "model_module": "@jupyter-widgets/base",
      "model_module_version": "1.2.0",
      "model_name": "LayoutModel",
      "state": {
       "_model_module": "@jupyter-widgets/base",
       "_model_module_version": "1.2.0",
       "_model_name": "LayoutModel",
       "_view_count": null,
       "_view_module": "@jupyter-widgets/base",
       "_view_module_version": "1.2.0",
       "_view_name": "LayoutView",
       "align_content": null,
       "align_items": null,
       "align_self": null,
       "border": null,
       "bottom": null,
       "display": null,
       "flex": null,
       "flex_flow": null,
       "grid_area": null,
       "grid_auto_columns": null,
       "grid_auto_flow": null,
       "grid_auto_rows": null,
       "grid_column": null,
       "grid_gap": null,
       "grid_row": null,
       "grid_template_areas": null,
       "grid_template_columns": null,
       "grid_template_rows": null,
       "height": null,
       "justify_content": null,
       "justify_items": null,
       "left": null,
       "margin": null,
       "max_height": null,
       "max_width": null,
       "min_height": null,
       "min_width": null,
       "object_fit": null,
       "object_position": null,
       "order": null,
       "overflow": null,
       "overflow_x": null,
       "overflow_y": null,
       "padding": null,
       "right": null,
       "top": null,
       "visibility": null,
       "width": null
      }
     },
     "cee232300a2f41d3813104fabbc3df32": {
      "model_module": "@jupyter-widgets/controls",
      "model_module_version": "1.5.0",
      "model_name": "FloatProgressModel",
      "state": {
       "_dom_classes": [],
       "_model_module": "@jupyter-widgets/controls",
       "_model_module_version": "1.5.0",
       "_model_name": "FloatProgressModel",
       "_view_count": null,
       "_view_module": "@jupyter-widgets/controls",
       "_view_module_version": "1.5.0",
       "_view_name": "ProgressView",
       "bar_style": "success",
       "description": "100%",
       "description_tooltip": null,
       "layout": "IPY_MODEL_1cccb1d8d46a47c7a99a9d0a5ecbe259",
       "max": 20.0,
       "min": 0.0,
       "orientation": "horizontal",
       "style": "IPY_MODEL_7b1e8ed760654ca695a2e3a89837e8a3",
       "value": 20.0
      }
     },
     "d2ed941b5a2444ec9ca4822016ea2029": {
      "model_module": "@jupyter-widgets/controls",
      "model_module_version": "1.5.0",
      "model_name": "HTMLModel",
      "state": {
       "_dom_classes": [],
       "_model_module": "@jupyter-widgets/controls",
       "_model_module_version": "1.5.0",
       "_model_name": "HTMLModel",
       "_view_count": null,
       "_view_module": "@jupyter-widgets/controls",
       "_view_module_version": "1.5.0",
       "_view_name": "HTMLView",
       "description": "",
       "description_tooltip": null,
       "layout": "IPY_MODEL_bc5fabfb36374077a917edf0d8fa84be",
       "placeholder": "​",
       "style": "IPY_MODEL_a64ff326c21f4bdcbf84c6f807adfc58",
       "value": " 3000/3000 [05:45&lt;00:00,  8.68it/s]"
      }
     },
     "da8bed9f605b4c68831945dae76c7571": {
      "model_module": "@jupyter-widgets/base",
      "model_module_version": "1.2.0",
      "model_name": "LayoutModel",
      "state": {
       "_model_module": "@jupyter-widgets/base",
       "_model_module_version": "1.2.0",
       "_model_name": "LayoutModel",
       "_view_count": null,
       "_view_module": "@jupyter-widgets/base",
       "_view_module_version": "1.2.0",
       "_view_name": "LayoutView",
       "align_content": null,
       "align_items": null,
       "align_self": null,
       "border": null,
       "bottom": null,
       "display": null,
       "flex": null,
       "flex_flow": null,
       "grid_area": null,
       "grid_auto_columns": null,
       "grid_auto_flow": null,
       "grid_auto_rows": null,
       "grid_column": null,
       "grid_gap": null,
       "grid_row": null,
       "grid_template_areas": null,
       "grid_template_columns": null,
       "grid_template_rows": null,
       "height": null,
       "justify_content": null,
       "justify_items": null,
       "left": null,
       "margin": null,
       "max_height": null,
       "max_width": null,
       "min_height": null,
       "min_width": null,
       "object_fit": null,
       "object_position": null,
       "order": null,
       "overflow": null,
       "overflow_x": null,
       "overflow_y": null,
       "padding": null,
       "right": null,
       "top": null,
       "visibility": null,
       "width": null
      }
     }
    },
    "version_major": 2,
    "version_minor": 0
   }
  }
 },
 "nbformat": 4,
 "nbformat_minor": 4
}
