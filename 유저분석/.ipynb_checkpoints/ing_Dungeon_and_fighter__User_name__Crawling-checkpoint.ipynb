{
 "cells": [
  {
   "cell_type": "code",
   "execution_count": null,
   "metadata": {},
   "outputs": [],
   "source": [
    "import pandas as pd\n",
    "from collections import OrderedDict  # 리스트 중복 제거 & 순서 그대로 / 순서 뒤죽박죽 중복제거 : set\n",
    "import copy\n",
    "import time\n",
    "import pickle\n",
    "import gzip  # gzip을 이용하여 pickle로 저장된 데이터를 압축하고 해제하는 예제 - 당연히 대부분은 용량이 매우 줄어든다.\n",
    "import re\n",
    "import sys\n",
    "import chardet\n",
    "import warnings\n",
    "warnings.filterwarnings(action='ignore') \n",
    "\n",
    "from tqdm import tqdm\n",
    "\n",
    "from selenium import webdriver\n",
    "from selenium.webdriver.common.keys import Keys\n",
    "import re\n",
    "from time import sleep\n",
    "from selenium.webdriver.common.by import By\n",
    "from selenium.webdriver.common.action_chains import ActionChains\n",
    "import time \n",
    "import pandas as pd\n",
    "import os\n",
    "import time\n",
    "import subprocess\n",
    "import smtplib\n",
    "import email\n",
    "from email.mime.multipart import MIMEMultipart\n",
    "from email.mime.text import MIMEText\n",
    "from email.mime.base import MIMEBase\n",
    "from email.encoders import encode_base64\n",
    "from email.mime.image import MIMEImage\n",
    "import time\n",
    "import datetime\n",
    "\n",
    "from selenium.common.exceptions import NoSuchElementException,WebDriverException,StaleElementReferenceException\n",
    "\n",
    "# from bs4 import BeautifulSoup\n",
    "# import schedule"
   ]
  },
  {
   "cell_type": "markdown",
   "metadata": {},
   "source": [
    "----------"
   ]
  },
  {
   "cell_type": "code",
   "execution_count": null,
   "metadata": {},
   "outputs": [],
   "source": [
    "## implicitly_wait(10) 설명 :\n",
    "# 페이지이동 등의 명령어를 줬을 때 다음 웹페이지가 넘어올 때까지 기다리라는 뜻\n",
    "# 드라이버를 열고 나서 한번만 설정해주면 됨\n",
    "# 괄호 안에 숫자의 의미는 10초동안 웹페이지가 로딩될 때까지 기다리고 10초가 넘어가면 웹페이지가 로딩이 됐던 안됐던 다음 명령어를 실행하겠다는 것\n",
    "# 10초면 어지간한 웹페이지가 로딩되는데 충분한 시간(상황에 적정한 시간을 설정하면 됨)\n",
    "# 여기서 햇갈리지 말아야 할 것은 페이지가 넘어오기까지 최대 10초까지 기다리겠다는 의미이지\n",
    "# 요청하고나서 무조건 10초를 기다리겠다는 것이 아님(무조건 10초를 기다리려면 time.sleep을 쓰면 됨)"
   ]
  },
  {
   "cell_type": "markdown",
   "metadata": {},
   "source": [
    "## 유저 랭킹에 따른 유저명 크롤링"
   ]
  },
  {
   "cell_type": "code",
   "execution_count": null,
   "metadata": {},
   "outputs": [],
   "source": [
    "start_tm = time.time()\n",
    "\n",
    "# 누적 리스트 정의\n",
    "nujuk_user_rank = []  # 유저 순위 누적 리스트\n",
    "nujuk_user_nm = []  # 유저명 누적 리스트\n",
    "nujuk_server_nm = []  # 유저 서버 누적 리스트\n",
    "nujuk_job_nm = []  # 유저 직업 누적 리스트\n",
    "nujuk_fame = []  # 유저 명성치 누적 리스트\n",
    "\n",
    "# 드라이브 호출\n",
    "driver = webdriver.Chrome(executable_path='C:/Users/user/Desktop/GitHub/Study/유저분석/chromedriver_win32/chromedriver')\n",
    "driver.implicitly_wait(10)\n",
    "\n",
    "\n",
    "for page_num in tqdm(range(1,101), desc=\"진행 상태 \"):  # page_num : 몇번째 페이지까지 크롤링 할 것인지?\n",
    "\n",
    "    # 던파 랭킹 페이지 오픈 : 한 페이지당 30개의 랭킹 존재\n",
    "    # (순위는 순위 기준을 따르되, 캐릭터 순위는 직업,서버를 포함하지 않은 전체 던파 캐릭터에 대한 순위입니다.)\n",
    "    URL = 'https://dunfamoa.com/leaderboard/list?page=' + str(page_num)\n",
    "    driver.get(url=URL)\n",
    "\n",
    "    # 한 페이지에서 1번부터 30번까지 유저 정보 가져올 수 있음\n",
    "    for i in range(1,31):\n",
    "        # 유저 순위 누적 리스트\n",
    "        user_rank = str(i + (30 * (page_num-1)))\n",
    "        nujuk_user_rank.append(user_rank)\n",
    "        # 유저명 누적 리스트\n",
    "        user_nm_xpath = '//*[@id=\"Content\"]/div/div/div/div[3]/div[' + str(i) + ']/div[3]/a[2]'\n",
    "        id_input = driver.find_element_by_xpath(user_nm_xpath)\n",
    "        nujuk_user_nm.append(id_input.text)\n",
    "        # 유저 서버 누적 리스트\n",
    "        server_nm_xpath = '//*[@id=\"Content\"]/div/div/div/div[3]/div[' + str(i) + ']/div[3]/div[1]'\n",
    "        id_input = driver.find_element_by_xpath(server_nm_xpath)\n",
    "        nujuk_server_nm.append(id_input.text)\n",
    "        # 유저 직업 누적 리스트\n",
    "        job_nm_xpath = '//*[@id=\"Content\"]/div/div/div/div[3]/div[' + str(i) + ']/div[3]/div[2]'\n",
    "        id_input = driver.find_element_by_xpath(job_nm_xpath)\n",
    "        nujuk_job_nm.append(id_input.text)\n",
    "        # 유저 명성치 누적 리스트\n",
    "        fame_xpath = '//*[@id=\"Content\"]/div/div/div/div[3]/div[' + str(i) + ']/div[4]/div/div'\n",
    "        id_input = driver.find_element_by_xpath(fame_xpath)\n",
    "        nujuk_fame.append(id_input.text)\n",
    "    # time.sleep(1)\n",
    "    \n",
    "driver.close()\n",
    "\n",
    "print('소요시간 : ',time.time() - start_tm)"
   ]
  },
  {
   "cell_type": "code",
   "execution_count": null,
   "metadata": {},
   "outputs": [],
   "source": [
    "# 리스트 -> 데이터프레임으로 변환\n",
    "nujuk_user_rank = pd.DataFrame(nujuk_user_rank, columns = ['rank'])  # 유저 순위 누적 리스트\n",
    "nujuk_user_nm = pd.DataFrame(nujuk_user_nm, columns = ['user_nm'])  # 유저명 누적 리스트\n",
    "nujuk_server_nm = pd.DataFrame(nujuk_server_nm, columns = ['server_nm'])  # 유저 서버 누적 리스트\n",
    "nujuk_job_nm = pd.DataFrame(nujuk_job_nm, columns = ['job_nm'])  # 유저 직업 누적 리스트\n",
    "nujuk_fame = pd.DataFrame(nujuk_fame, columns = ['fame'])  # 유저 명성치 누적 리스트\n",
    "\n",
    "# 위의 결과 병합\n",
    "data_df = pd.concat([nujuk_user_rank, nujuk_user_nm, nujuk_server_nm, nujuk_job_nm, nujuk_fame], axis = 1)\n",
    "\n",
    "# 유저명/서버명/직업명 인코딩(UTF-8 변환)\n",
    "data_df['encoded_user_nm'] = data_df['user_nm'].map(lambda x : str(x.encode('utf-8')).replace(\"b'\",\"\").replace(\"\\\\x\",\"%\").replace(\"'\",\"\"))\n",
    "data_df['encoded_server_nm'] = data_df['server_nm'].map(lambda x : str(x.encode('utf-8')).replace(\"b'\",\"\").replace(\"\\\\x\",\"%\").replace(\"'\",\"\"))\n",
    "data_df['encoded_job_nm'] = data_df['job_nm'].map(lambda x : str(x.encode('utf-8')).replace(\"b'\",\"\").replace(\"\\\\x\",\"%\").replace(\"'\",\"\"))"
   ]
  },
  {
   "cell_type": "code",
   "execution_count": null,
   "metadata": {},
   "outputs": [],
   "source": [
    "# save and compress.\n",
    "with gzip.open('data/Crawling_user_rank.pickle', 'wb') as f:\n",
    "    pickle.dump(data_df, f)"
   ]
  },
  {
   "cell_type": "markdown",
   "metadata": {},
   "source": [
    "-------"
   ]
  },
  {
   "cell_type": "code",
   "execution_count": null,
   "metadata": {},
   "outputs": [],
   "source": [
    "# # load and uncompress.\n",
    "# with gzip.open('data/Crawling_user_rank.pickle','rb') as f:\n",
    "#     data_df = pickle.load(f)"
   ]
  },
  {
   "cell_type": "markdown",
   "metadata": {
    "tags": []
   },
   "source": [
    "---------\n",
    "# API 호출"
   ]
  },
  {
   "cell_type": "code",
   "execution_count": null,
   "metadata": {},
   "outputs": [],
   "source": [
    "# API key\n",
    "my_api_key = 'JcefnKuRK19hN4bWnFiRpvucjd3zwRCa'"
   ]
  },
  {
   "cell_type": "markdown",
   "metadata": {},
   "source": [
    "### 01. 서버 정보"
   ]
  },
  {
   "cell_type": "code",
   "execution_count": null,
   "metadata": {},
   "outputs": [],
   "source": [
    "# 01. 서버 정보\n",
    "driver = webdriver.Chrome(executable_path='C:/Users/user/Desktop/GitHub/Study/유저분석/chromedriver_win32/chromedriver')\n",
    "driver.implicitly_wait(10)\n",
    "\n",
    "URL = 'https://api.neople.co.kr/df/servers?apikey=' + my_api_key\n",
    "driver.get(url=URL)\n",
    "\n",
    "xpath = '/html/body'\n",
    "id_input = driver.find_element_by_xpath(xpath)\n",
    "info_servers = id_input.text  # str 타입\n",
    "info_servers = pd.DataFrame(info_servers.replace('\"','').replace('{rows:[{','').replace('}]}','').split('},{'), columns = ['servers'])\n",
    "info_servers['eng_servers'] = info_servers['servers'].map(lambda x : x.split(',')[0])\n",
    "info_servers['kor_servers'] = info_servers['servers'].map(lambda x : x.split(',')[1])\n",
    "info_servers['eng_servers'] = info_servers['eng_servers'].map(lambda x : x.split(':')[1])\n",
    "info_servers['kor_servers'] = info_servers['kor_servers'].map(lambda x : x.split(':')[1])\n",
    "info_servers = info_servers[['kor_servers','eng_servers']]"
   ]
  },
  {
   "cell_type": "code",
   "execution_count": null,
   "metadata": {},
   "outputs": [],
   "source": [
    "# 정보 병합(서버 영문명 추가)\n",
    "data_df = pd.merge(data_df, info_servers, left_on = 'server_nm', right_on = 'kor_servers', how = 'left')\n",
    "data_df = data_df[['rank', 'user_nm', 'kor_servers', 'eng_servers', 'job_nm', 'fame', 'encoded_server_nm', 'encoded_job_nm', 'encoded_user_nm']]"
   ]
  },
  {
   "cell_type": "code",
   "execution_count": null,
   "metadata": {},
   "outputs": [],
   "source": [
    "# 삭제 ㅇㅇㅇㅇㅇㅇㅇㅇㅇㅇㅇㅇㅇㅇㅇㅇㅇㅇㅇㅇㅇㅇㅇㅇㅇㅇㅇㅇㅇㅇㅇㅇㅇㅇㅇ\n",
    "data_df = data_df.iloc[:10]"
   ]
  },
  {
   "cell_type": "markdown",
   "metadata": {},
   "source": [
    "### 02. 캐릭터 검색"
   ]
  },
  {
   "cell_type": "code",
   "execution_count": null,
   "metadata": {},
   "outputs": [],
   "source": [
    "# 02. 캐릭터 검색\n",
    "for data_num in range(len(data_df)):\n",
    "    serverId = data_df['eng_servers'][data_num]\n",
    "    characterName = data_df['encoded_user_nm'][data_num]\n",
    "\n",
    "    URL = 'https://api.neople.co.kr/df/servers/' + serverId + '/characters?characterName=' + characterName + '&jobId=&jobGrowId=&limit=&wordType=&apikey=' + my_api_key\n",
    "    driver.get(url=URL)\n",
    "\n",
    "    xpath = '/html/body'\n",
    "    id_input = driver.find_element_by_xpath(xpath)\n",
    "    info_servers = id_input.text  # str 타입\n",
    "    info_servers = pd.DataFrame(info_servers.replace('\"','').replace('{rows:[{','').replace('}]}','').split(','), columns = ['user_info'])\n",
    "    info_servers['col_nm'] = info_servers['user_info'].map(lambda x : x.split(':')[0])\n",
    "    info_servers['col_info'] = info_servers['user_info'].map(lambda x : x.split(':')[1])\n",
    "    info_servers = info_servers[['col_nm','col_info']]\n",
    "    info_servers = info_servers.T.reset_index(drop=True)\n",
    "    info_servers.columns = info_servers.iloc[0]\n",
    "    info_servers = info_servers.iloc[1:].reset_index(drop=True)\n",
    "\n",
    "    if data_num == 0:\n",
    "        nujuk_info_df = info_servers\n",
    "    else:\n",
    "        nujuk_info_df = nujuk_info_df.append(info_servers)"
   ]
  },
  {
   "cell_type": "code",
   "execution_count": null,
   "metadata": {},
   "outputs": [],
   "source": [
    "# 정보 병합(캐릭터 정보)\n",
    "data_df = pd.merge(data_df, nujuk_info_df, left_on = ['user_nm','eng_servers'], right_on = ['characterName','serverId'], how = 'left')\n",
    "data_df = data_df[['rank', 'characterName', 'characterId', 'kor_servers', 'serverId', 'jobName', 'jobGrowName',\n",
    "                   'level', 'fame', 'jobId', 'jobGrowId', 'encoded_server_nm', 'encoded_job_nm', 'encoded_user_nm']]"
   ]
  },
  {
   "cell_type": "markdown",
   "metadata": {},
   "source": [
    "### 03. 캐릭터 기본정보 조회"
   ]
  },
  {
   "cell_type": "code",
   "execution_count": null,
   "metadata": {},
   "outputs": [],
   "source": [
    "# 03. 캐릭터 기본정보 조회\n",
    "for data_num in range(len(data_df)):\n",
    "    serverId = data_df['serverId'][data_num]\n",
    "    characterId = data_df['characterId'][data_num]\n",
    "\n",
    "    URL = 'https://api.neople.co.kr/df/servers/' + serverId + '/characters/' + characterId + '?apikey=' + my_api_key\n",
    "    driver.get(url=URL)\n",
    "\n",
    "    xpath = '/html/body'\n",
    "    id_input = driver.find_element_by_xpath(xpath)\n",
    "    info_servers = id_input.text  # str 타입\n",
    "    info_servers\n",
    "\n",
    "    info_servers = pd.DataFrame(info_servers.replace('{','').replace('}','').replace('\"','').split(','), columns = ['user_info'])\n",
    "    info_servers['col_nm'] = info_servers['user_info'].map(lambda x : x.split(':')[0])\n",
    "    info_servers['col_info'] = info_servers['user_info'].map(lambda x : x.split(':')[1])\n",
    "\n",
    "    info_servers = info_servers[['col_nm','col_info']]\n",
    "    info_servers = info_servers.T.reset_index(drop=True)\n",
    "    info_servers.columns = info_servers.iloc[0]\n",
    "    info_servers = info_servers.iloc[1:].reset_index(drop=True)\n",
    "\n",
    "    if data_num == 0:\n",
    "        nujuk_info_df = info_servers\n",
    "    else:\n",
    "        nujuk_info_df = nujuk_info_df.append(info_servers)\n",
    "        \n",
    "nujuk_info_df = nujuk_info_df[['characterId','characterName','adventureName','guildName','guildId']]\n",
    "nujuk_info_df = nujuk_info_df.dropna()"
   ]
  },
  {
   "cell_type": "code",
   "execution_count": null,
   "metadata": {},
   "outputs": [],
   "source": [
    "# 정보 병합(캐릭터 정보)\n",
    "data_df = pd.merge(data_df, nujuk_info_df, on = ['characterId','characterName'], how = 'left')"
   ]
  },
  {
   "cell_type": "markdown",
   "metadata": {
    "tags": []
   },
   "source": [
    "### 04. 캐릭터 타임라인 정보 조회"
   ]
  },
  {
   "cell_type": "code",
   "execution_count": null,
   "metadata": {},
   "outputs": [],
   "source": [
    "# 04. 캐릭터 타임라인 정보 조회\n",
    "# for data_num in range(len(data_df)):\n",
    "data_num = 0\n",
    "serverId = data_df['serverId'][data_num]\n",
    "characterId = data_df['characterId'][data_num]\n",
    "\n",
    "URL = 'https://api.neople.co.kr/df/servers/' + serverId + '/characters/' + characterId + '/timeline?limit=<limit>&code=<code>&startDate=<startDate>&endDate=<endDate>&next=<next>&apikey=' + my_api_key\n",
    "driver.get(url=URL)\n",
    "\n",
    "xpath = '/html/body'\n",
    "id_input = driver.find_element_by_xpath(xpath)\n",
    "info_servers = id_input.text  # str 타입\n",
    "info_servers = pd.DataFrame(info_servers.split('\",\"'), columns = ['user_info'])\n",
    "\n",
    "## 필요\n",
    "# characterId / characterName\n",
    "tmp_a = info_servers.iloc[0:2]\n",
    "tmp_a['col_nm'] = tmp_a['user_info'].map(lambda x : x.replace('\"','').replace('{','').split(':')[0])\n",
    "tmp_a['col_info'] = tmp_a['user_info'].map(lambda x : x.replace('\"','').replace('{','').split(':')[1])\n",
    "tmp_a = tmp_a[['col_nm','col_info']]\n",
    "tmp_a = tmp_a.T.reset_index(drop=True)\n",
    "tmp_a.columns = tmp_a.iloc[0]\n",
    "tmp_a = tmp_a.iloc[1:].reset_index(drop=True)\n",
    "\n",
    "# timeline\n",
    "timeline = info_servers['user_info'][9]\n",
    "timeline = timeline.replace('timeline\":{','').replace('\"','').replace(',next:null,rows:[]}}','')\n",
    "timeline = timeline.split('{')[1].split('}')[0]\n",
    "timeline_start = timeline.split(',')[0].split(':')[1]\n",
    "timeline_end = timeline.split(',')[1].split(':')[1]\n",
    "timeline_start = pd.DataFrame({'timeline_start' : [timeline_start]})\n",
    "timeline_end = pd.DataFrame({'timeline_end' : [timeline_end]})\n",
    "timeline = pd.concat([timeline_start,timeline_end], axis = 1)\n",
    "\n",
    "# characterId / characterName + timeline\n",
    "info_servers = pd.concat([tmp_a, timeline], axis = 1)"
   ]
  },
  {
   "cell_type": "code",
   "execution_count": null,
   "metadata": {},
   "outputs": [],
   "source": [
    "# 정보 병합(캐릭터 정보)\n",
    "data_df = pd.merge(data_df, info_servers, on = ['characterId','characterName'], how = 'left')"
   ]
  },
  {
   "cell_type": "markdown",
   "metadata": {
    "tags": []
   },
   "source": [
    "### 05. 캐릭터 타임라인 정보 조회"
   ]
  },
  {
   "cell_type": "code",
   "execution_count": null,
   "metadata": {},
   "outputs": [],
   "source": []
  },
  {
   "cell_type": "code",
   "execution_count": null,
   "metadata": {},
   "outputs": [],
   "source": []
  },
  {
   "cell_type": "code",
   "execution_count": null,
   "metadata": {},
   "outputs": [],
   "source": []
  },
  {
   "cell_type": "code",
   "execution_count": null,
   "metadata": {},
   "outputs": [],
   "source": []
  },
  {
   "cell_type": "code",
   "execution_count": null,
   "metadata": {},
   "outputs": [],
   "source": []
  },
  {
   "cell_type": "code",
   "execution_count": null,
   "metadata": {},
   "outputs": [],
   "source": [
    "info_servers['user_info'][9]"
   ]
  },
  {
   "cell_type": "code",
   "execution_count": null,
   "metadata": {},
   "outputs": [],
   "source": [
    "info_servers['col_nm'] = info_servers['user_info'].map(lambda x : x.split(':')[0])\n",
    "info_servers['col_info'] = info_servers['user_info'].map(lambda x : x.split(':')[1])\n",
    "\n",
    "info_servers = info_servers[['col_nm','col_info']]\n",
    "info_servers = info_servers.T.reset_index(drop=True)\n",
    "info_servers.columns = info_servers.iloc[0]\n",
    "info_servers = info_servers.iloc[1:].reset_index(drop=True)\n",
    "\n",
    "if data_num == 0:\n",
    "    nujuk_info_df = info_servers\n",
    "else:\n",
    "    nujuk_info_df = nujuk_info_df.append(info_servers)\n",
    "\n",
    "nujuk_info_df = nujuk_info_df[['characterId','characterName','adventureName','guildName','guildId']]\n",
    "nujuk_info_df = nujuk_info_df.dropna()"
   ]
  },
  {
   "cell_type": "code",
   "execution_count": null,
   "metadata": {},
   "outputs": [],
   "source": []
  },
  {
   "cell_type": "code",
   "execution_count": null,
   "metadata": {},
   "outputs": [],
   "source": []
  },
  {
   "cell_type": "markdown",
   "metadata": {},
   "source": [
    "--------------------------------------------------------------------------------------------------"
   ]
  }
 ],
 "metadata": {
  "kernelspec": {
   "display_name": "Python 3 (ipykernel)",
   "language": "python",
   "name": "python3"
  },
  "language_info": {
   "codemirror_mode": {
    "name": "ipython",
    "version": 3
   },
   "file_extension": ".py",
   "mimetype": "text/x-python",
   "name": "python",
   "nbconvert_exporter": "python",
   "pygments_lexer": "ipython3",
   "version": "3.9.7"
  }
 },
 "nbformat": 4,
 "nbformat_minor": 4
}
