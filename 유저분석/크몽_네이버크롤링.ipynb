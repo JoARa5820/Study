{
 "cells": [
  {
   "cell_type": "code",
   "execution_count": 1,
   "metadata": {},
   "outputs": [],
   "source": [
    "import os\n",
    "import subprocess\n",
    "import smtplib\n",
    "import email\n",
    "import copy\n",
    "import time\n",
    "import pickle\n",
    "import re\n",
    "import warnings\n",
    "import datetime\n",
    "warnings.filterwarnings(action='ignore') \n",
    "\n",
    "import pandas as pd\n",
    "from time import sleep\n",
    "from collections import OrderedDict  # 리스트 중복 제거 & 순서 그대로 / 순서 뒤죽박죽 중복제거 : set\n",
    "\n",
    "from selenium import webdriver\n",
    "from selenium.webdriver.common.keys import Keys\n",
    "from selenium.webdriver.common.by import By\n",
    "from selenium.webdriver.common.action_chains import ActionChains\n",
    "from email.mime.multipart import MIMEMultipart\n",
    "from email.mime.text import MIMEText\n",
    "from email.mime.base import MIMEBase\n",
    "from email.mime.image import MIMEImage\n",
    "from email.encoders import encode_base64\n",
    "\n",
    "from selenium.common.exceptions import NoSuchElementException,WebDriverException,StaleElementReferenceException\n",
    "\n",
    "from bs4 import BeautifulSoup\n",
    "import schedule"
   ]
  },
  {
   "cell_type": "code",
   "execution_count": null,
   "metadata": {},
   "outputs": [],
   "source": [
    "# ### 비식별화 데이터 불러오기\n",
    "# with open('nujuk_mody_piece.pickle', 'rb') as f:\n",
    "#     nujuk_mody_piece = pickle.load(f)\n",
    "    \n",
    "# ### 원본 데이터 불러오기\n",
    "# with open('nujuk_org_piece.pickle', 'rb') as f:\n",
    "#     nujuk_org_piece = pickle.load(f)"
   ]
  },
  {
   "cell_type": "code",
   "execution_count": 2,
   "metadata": {},
   "outputs": [],
   "source": [
    "# 크롬드라이버를 경로를 입력해서 연결합니다.\n",
    "# 현재 스크립트와 같은 폴더에 있다면 경로를 따로 입력하지 않아도 됩니다.\n",
    "URL = 'https://movie.naver.com/'\n",
    "driver = webdriver.Chrome(executable_path='C:/Users/User/Desktop/chromedriver_win32/chromedriver')\n",
    "driver.implicitly_wait(5)\n",
    "driver.get(url=URL)"
   ]
  },
  {
   "cell_type": "code",
   "execution_count": 3,
   "metadata": {},
   "outputs": [],
   "source": [
    "# 클릭하기 (검색어 입력창 클릭)\n",
    "click_target = '/html/body/div/div[2]/div/div/fieldset/div/span/input'\n",
    "id_input=driver.find_element_by_xpath(click_target)\n",
    "id_input.click()"
   ]
  },
  {
   "cell_type": "code",
   "execution_count": 6,
   "metadata": {},
   "outputs": [],
   "source": [
    "# 텍스트 지우기\n",
    "id_input.clear()"
   ]
  },
  {
   "cell_type": "code",
   "execution_count": 7,
   "metadata": {},
   "outputs": [],
   "source": [
    "# 텍스트 입력\n",
    "enter_text = '극장판 바이올렛에버가든'\n",
    "id_input.send_keys(enter_text)\n",
    "time.sleep(1)"
   ]
  },
  {
   "cell_type": "code",
   "execution_count": 8,
   "metadata": {},
   "outputs": [],
   "source": [
    "# 클릭하기 (검색어 입력 후 검색 클릭)\n",
    "click_target = '/html/body/div/div[2]/div/div/fieldset/div/button'\n",
    "id_input=driver.find_element_by_xpath(click_target)\n",
    "id_input.click()"
   ]
  },
  {
   "cell_type": "code",
   "execution_count": 9,
   "metadata": {},
   "outputs": [],
   "source": [
    "# 클릭하기 (바이올렛 에버가든 2종 중 1종 선택)\n",
    "click_target = '/html/body/div/div[4]/div/div/div/div/div[1]/ul[2]/li[1]/dl/dt/a/strong'\n",
    "id_input=driver.find_element_by_xpath(click_target)\n",
    "id_input.click()"
   ]
  },
  {
   "cell_type": "code",
   "execution_count": 10,
   "metadata": {},
   "outputs": [],
   "source": [
    "# 클릭하기 (평점 클릭)\n",
    "click_target = '/html/body/div/div[4]/div[3]/div[1]/div[3]/ul/li[5]/a/em'\n",
    "id_input=driver.find_element_by_xpath(click_target)\n",
    "id_input.click()"
   ]
  },
  {
   "cell_type": "code",
   "execution_count": null,
   "metadata": {},
   "outputs": [],
   "source": [
    "## 상대경로 : 경로의 중간단계부터 시작 가능하고, //로 시작함\n",
    "//*[@class = 'bar']//*[text()='Testing']  # 절대경로가 아닌 상대경로로, class = bar 아래의 글자가 'Testing'인 요소를 가져옴\n",
    "# => 즉, 두단계를 설정하는 것\n",
    "//*[@class = 'bar' or @name = 'bttnReset']   # OR 또는 AND 사용가능\n",
    "//*[contains(text(), 'here')]  # 글자의 일부만 매칭\n",
    "//*[contains(@href, 'guru99.com')]  # '=' 값의 일부만 매칭\n",
    "//label [starts-with (@id, 'message')] # ID의 초기 텍스트가 동일한 경우 : message12,message342...\n",
    "//td[text() = 'UserID']  # 표현식에서 텍스트 기능을 사용해서 정확한 텍스트가 일치하는 요소를 찾음\n",
    "//*[@type='text']//following::input  # 특정 요소에 중점을 두려면 following 사용(암호,로그인,재설정-3개의 '입력'노드가 일치할때)\n",
    "//*[text() = 'Enterprise Testing']//ancestor::div  # 현재 노드의 모든 조상 요소 선택 : 현재 Enterprise Testing 노드의 조상 요소 중 n개의 div 노드가 있음\n",
    "//*[text() = 'Enterprise Testing']//ancestor::div[1]  # 조상 노드 : 특정 요소에 초점을 맞출때\n",
    "//*[@id = 'java_technologies']/child::li  # 자식 축의 n개의 li 노드가 일치함\n",
    "//*[@id = 'java_technologies']/child::li[1]  # 자식 노드 : 특정 요소에 초점을 맞출때   \n",
    "// * [@ type = 'submit'] // preceding :: input  # 현재 노드 앞에 오는 모든 노드를 선택함(preceding)\n",
    "// * [@ type = 'submit'] // following-sibling :: input  # 현재 노드 뒤의 요소를 찾아서 선택(type='submit'이 있는 곳이 LOGIN이였다면, 다음 텍스트가 input인 곳은 RESET 부분임)\n",
    "// * [@ id = 'rt-feature'] // parent :: div  # 현재 노드의 부모 노드 선택\n",
    "// * [@ id = 'rt-feature'] // parent :: div[1]  # 부모 노드 : 특정 요소에 초점을 맞출때 \n",
    "// * [@ type = 'password'] // self :: input  # 노드 자체 축, 자체 요소를 나타내기 때문에 항상 하나의 노드만 찾음\n",
    "// * [@ id = 'rt-feature'] // descendant :: a  # 현재 노드의 자손을 선택, 모든 요소 자손을 식별\n",
    "// * [@ id = 'rt-feature'] // descendant :: a[1]  # 모든 자손 노드 : 특정 요소에 초점을 맞출때 "
   ]
  },
  {
   "cell_type": "code",
   "execution_count": null,
   "metadata": {},
   "outputs": [],
   "source": [
    "/html/body/div/div/div[5]/ul/li[1]/div[1]/em\n",
    "\n",
    "/html/body/div/div/div[5]/ul/li[1]/div[2]\n",
    "\n"
   ]
  },
  {
   "cell_type": "code",
   "execution_count": null,
   "metadata": {},
   "outputs": [],
   "source": []
  },
  {
   "cell_type": "code",
   "execution_count": 23,
   "metadata": {},
   "outputs": [
    {
     "ename": "NoSuchElementException",
     "evalue": "Message: no such element: Unable to locate element: {\"method\":\"xpath\",\"selector\":\"/html/body/div/div/div/div/*[@class = \"article\"]\"}\n  (Session info: chrome=89.0.4389.82)\n",
     "output_type": "error",
     "traceback": [
      "\u001b[1;31m---------------------------------------------------------------------------\u001b[0m",
      "\u001b[1;31mNoSuchElementException\u001b[0m                    Traceback (most recent call last)",
      "\u001b[1;32m<ipython-input-23-d639fede8d20>\u001b[0m in \u001b[0;36m<module>\u001b[1;34m\u001b[0m\n\u001b[0;32m      1\u001b[0m \u001b[1;31m# 점수\u001b[0m\u001b[1;33m\u001b[0m\u001b[1;33m\u001b[0m\u001b[1;33m\u001b[0m\u001b[0m\n\u001b[0;32m      2\u001b[0m \u001b[0mscore\u001b[0m \u001b[1;33m=\u001b[0m \u001b[1;34m'/html/body/div/div/div/div/*[@class = \"article\"]'\u001b[0m\u001b[1;33m\u001b[0m\u001b[1;33m\u001b[0m\u001b[0m\n\u001b[1;32m----> 3\u001b[1;33m \u001b[0mscore\u001b[0m \u001b[1;33m=\u001b[0m \u001b[0mdriver\u001b[0m\u001b[1;33m.\u001b[0m\u001b[0mfind_element_by_xpath\u001b[0m\u001b[1;33m(\u001b[0m\u001b[0mscore\u001b[0m\u001b[1;33m)\u001b[0m\u001b[1;33m\u001b[0m\u001b[1;33m\u001b[0m\u001b[0m\n\u001b[0m\u001b[0;32m      4\u001b[0m \u001b[0mscore\u001b[0m \u001b[1;33m=\u001b[0m \u001b[0mscore\u001b[0m\u001b[1;33m.\u001b[0m\u001b[0mtext\u001b[0m\u001b[1;33m\u001b[0m\u001b[1;33m\u001b[0m\u001b[0m\n\u001b[0;32m      5\u001b[0m \u001b[0mscore\u001b[0m\u001b[1;33m\u001b[0m\u001b[1;33m\u001b[0m\u001b[0m\n",
      "\u001b[1;32mC:\\ProgramData\\Anaconda3\\envs\\bingsu_jupyter\\lib\\site-packages\\selenium\\webdriver\\remote\\webdriver.py\u001b[0m in \u001b[0;36mfind_element_by_xpath\u001b[1;34m(self, xpath)\u001b[0m\n\u001b[0;32m    392\u001b[0m             \u001b[0melement\u001b[0m \u001b[1;33m=\u001b[0m \u001b[0mdriver\u001b[0m\u001b[1;33m.\u001b[0m\u001b[0mfind_element_by_xpath\u001b[0m\u001b[1;33m(\u001b[0m\u001b[1;34m'//div/td[1]'\u001b[0m\u001b[1;33m)\u001b[0m\u001b[1;33m\u001b[0m\u001b[1;33m\u001b[0m\u001b[0m\n\u001b[0;32m    393\u001b[0m         \"\"\"\n\u001b[1;32m--> 394\u001b[1;33m         \u001b[1;32mreturn\u001b[0m \u001b[0mself\u001b[0m\u001b[1;33m.\u001b[0m\u001b[0mfind_element\u001b[0m\u001b[1;33m(\u001b[0m\u001b[0mby\u001b[0m\u001b[1;33m=\u001b[0m\u001b[0mBy\u001b[0m\u001b[1;33m.\u001b[0m\u001b[0mXPATH\u001b[0m\u001b[1;33m,\u001b[0m \u001b[0mvalue\u001b[0m\u001b[1;33m=\u001b[0m\u001b[0mxpath\u001b[0m\u001b[1;33m)\u001b[0m\u001b[1;33m\u001b[0m\u001b[1;33m\u001b[0m\u001b[0m\n\u001b[0m\u001b[0;32m    395\u001b[0m \u001b[1;33m\u001b[0m\u001b[0m\n\u001b[0;32m    396\u001b[0m     \u001b[1;32mdef\u001b[0m \u001b[0mfind_elements_by_xpath\u001b[0m\u001b[1;33m(\u001b[0m\u001b[0mself\u001b[0m\u001b[1;33m,\u001b[0m \u001b[0mxpath\u001b[0m\u001b[1;33m)\u001b[0m\u001b[1;33m:\u001b[0m\u001b[1;33m\u001b[0m\u001b[1;33m\u001b[0m\u001b[0m\n",
      "\u001b[1;32mC:\\ProgramData\\Anaconda3\\envs\\bingsu_jupyter\\lib\\site-packages\\selenium\\webdriver\\remote\\webdriver.py\u001b[0m in \u001b[0;36mfind_element\u001b[1;34m(self, by, value)\u001b[0m\n\u001b[0;32m    976\u001b[0m         return self.execute(Command.FIND_ELEMENT, {\n\u001b[0;32m    977\u001b[0m             \u001b[1;34m'using'\u001b[0m\u001b[1;33m:\u001b[0m \u001b[0mby\u001b[0m\u001b[1;33m,\u001b[0m\u001b[1;33m\u001b[0m\u001b[1;33m\u001b[0m\u001b[0m\n\u001b[1;32m--> 978\u001b[1;33m             'value': value})['value']\n\u001b[0m\u001b[0;32m    979\u001b[0m \u001b[1;33m\u001b[0m\u001b[0m\n\u001b[0;32m    980\u001b[0m     \u001b[1;32mdef\u001b[0m \u001b[0mfind_elements\u001b[0m\u001b[1;33m(\u001b[0m\u001b[0mself\u001b[0m\u001b[1;33m,\u001b[0m \u001b[0mby\u001b[0m\u001b[1;33m=\u001b[0m\u001b[0mBy\u001b[0m\u001b[1;33m.\u001b[0m\u001b[0mID\u001b[0m\u001b[1;33m,\u001b[0m \u001b[0mvalue\u001b[0m\u001b[1;33m=\u001b[0m\u001b[1;32mNone\u001b[0m\u001b[1;33m)\u001b[0m\u001b[1;33m:\u001b[0m\u001b[1;33m\u001b[0m\u001b[1;33m\u001b[0m\u001b[0m\n",
      "\u001b[1;32mC:\\ProgramData\\Anaconda3\\envs\\bingsu_jupyter\\lib\\site-packages\\selenium\\webdriver\\remote\\webdriver.py\u001b[0m in \u001b[0;36mexecute\u001b[1;34m(self, driver_command, params)\u001b[0m\n\u001b[0;32m    319\u001b[0m         \u001b[0mresponse\u001b[0m \u001b[1;33m=\u001b[0m \u001b[0mself\u001b[0m\u001b[1;33m.\u001b[0m\u001b[0mcommand_executor\u001b[0m\u001b[1;33m.\u001b[0m\u001b[0mexecute\u001b[0m\u001b[1;33m(\u001b[0m\u001b[0mdriver_command\u001b[0m\u001b[1;33m,\u001b[0m \u001b[0mparams\u001b[0m\u001b[1;33m)\u001b[0m\u001b[1;33m\u001b[0m\u001b[1;33m\u001b[0m\u001b[0m\n\u001b[0;32m    320\u001b[0m         \u001b[1;32mif\u001b[0m \u001b[0mresponse\u001b[0m\u001b[1;33m:\u001b[0m\u001b[1;33m\u001b[0m\u001b[1;33m\u001b[0m\u001b[0m\n\u001b[1;32m--> 321\u001b[1;33m             \u001b[0mself\u001b[0m\u001b[1;33m.\u001b[0m\u001b[0merror_handler\u001b[0m\u001b[1;33m.\u001b[0m\u001b[0mcheck_response\u001b[0m\u001b[1;33m(\u001b[0m\u001b[0mresponse\u001b[0m\u001b[1;33m)\u001b[0m\u001b[1;33m\u001b[0m\u001b[1;33m\u001b[0m\u001b[0m\n\u001b[0m\u001b[0;32m    322\u001b[0m             response['value'] = self._unwrap_value(\n\u001b[0;32m    323\u001b[0m                 response.get('value', None))\n",
      "\u001b[1;32mC:\\ProgramData\\Anaconda3\\envs\\bingsu_jupyter\\lib\\site-packages\\selenium\\webdriver\\remote\\errorhandler.py\u001b[0m in \u001b[0;36mcheck_response\u001b[1;34m(self, response)\u001b[0m\n\u001b[0;32m    240\u001b[0m                 \u001b[0malert_text\u001b[0m \u001b[1;33m=\u001b[0m \u001b[0mvalue\u001b[0m\u001b[1;33m[\u001b[0m\u001b[1;34m'alert'\u001b[0m\u001b[1;33m]\u001b[0m\u001b[1;33m.\u001b[0m\u001b[0mget\u001b[0m\u001b[1;33m(\u001b[0m\u001b[1;34m'text'\u001b[0m\u001b[1;33m)\u001b[0m\u001b[1;33m\u001b[0m\u001b[1;33m\u001b[0m\u001b[0m\n\u001b[0;32m    241\u001b[0m             \u001b[1;32mraise\u001b[0m \u001b[0mexception_class\u001b[0m\u001b[1;33m(\u001b[0m\u001b[0mmessage\u001b[0m\u001b[1;33m,\u001b[0m \u001b[0mscreen\u001b[0m\u001b[1;33m,\u001b[0m \u001b[0mstacktrace\u001b[0m\u001b[1;33m,\u001b[0m \u001b[0malert_text\u001b[0m\u001b[1;33m)\u001b[0m\u001b[1;33m\u001b[0m\u001b[1;33m\u001b[0m\u001b[0m\n\u001b[1;32m--> 242\u001b[1;33m         \u001b[1;32mraise\u001b[0m \u001b[0mexception_class\u001b[0m\u001b[1;33m(\u001b[0m\u001b[0mmessage\u001b[0m\u001b[1;33m,\u001b[0m \u001b[0mscreen\u001b[0m\u001b[1;33m,\u001b[0m \u001b[0mstacktrace\u001b[0m\u001b[1;33m)\u001b[0m\u001b[1;33m\u001b[0m\u001b[1;33m\u001b[0m\u001b[0m\n\u001b[0m\u001b[0;32m    243\u001b[0m \u001b[1;33m\u001b[0m\u001b[0m\n\u001b[0;32m    244\u001b[0m     \u001b[1;32mdef\u001b[0m \u001b[0m_value_or_default\u001b[0m\u001b[1;33m(\u001b[0m\u001b[0mself\u001b[0m\u001b[1;33m,\u001b[0m \u001b[0mobj\u001b[0m\u001b[1;33m,\u001b[0m \u001b[0mkey\u001b[0m\u001b[1;33m,\u001b[0m \u001b[0mdefault\u001b[0m\u001b[1;33m)\u001b[0m\u001b[1;33m:\u001b[0m\u001b[1;33m\u001b[0m\u001b[1;33m\u001b[0m\u001b[0m\n",
      "\u001b[1;31mNoSuchElementException\u001b[0m: Message: no such element: Unable to locate element: {\"method\":\"xpath\",\"selector\":\"/html/body/div/div/div/div/*[@class = \"article\"]\"}\n  (Session info: chrome=89.0.4389.82)\n"
     ]
    }
   ],
   "source": [
    "# 점수\n",
    "score = '/html/body/div/div/div/div/*[@class = \"article\"]'\n",
    "score = driver.find_element_by_xpath(score)\n",
    "score = score.text\n",
    "score"
   ]
  },
  {
   "cell_type": "code",
   "execution_count": null,
   "metadata": {},
   "outputs": [],
   "source": []
  },
  {
   "cell_type": "code",
   "execution_count": 51,
   "metadata": {},
   "outputs": [
    {
     "ename": "NoSuchElementException",
     "evalue": "Message: no such element: Unable to locate element: {\"method\":\"xpath\",\"selector\":\"/html/body/div[@id = \"wrap\"]/div[@id = \"container\"]/div[@id = \"content\"]\n           /div[@class = \"article\"]/*/div[@class=\"score_result\"]\"}\n  (Session info: chrome=89.0.4389.82)\n",
     "output_type": "error",
     "traceback": [
      "\u001b[1;31m---------------------------------------------------------------------------\u001b[0m",
      "\u001b[1;31mNoSuchElementException\u001b[0m                    Traceback (most recent call last)",
      "\u001b[1;32m<ipython-input-51-989af1623670>\u001b[0m in \u001b[0;36m<module>\u001b[1;34m\u001b[0m\n\u001b[0;32m      5\u001b[0m score = '''/html/body/div[@id = \"wrap\"]/div[@id = \"container\"]/div[@id = \"content\"]\n\u001b[0;32m      6\u001b[0m            /div[@class = \"article\"]/*/div[@class=\"score_result\"]'''\n\u001b[1;32m----> 7\u001b[1;33m \u001b[0mscore\u001b[0m \u001b[1;33m=\u001b[0m \u001b[0mdriver\u001b[0m\u001b[1;33m.\u001b[0m\u001b[0mfind_element_by_xpath\u001b[0m\u001b[1;33m(\u001b[0m\u001b[0mscore\u001b[0m\u001b[1;33m)\u001b[0m\u001b[1;33m\u001b[0m\u001b[1;33m\u001b[0m\u001b[0m\n\u001b[0m\u001b[0;32m      8\u001b[0m \u001b[0mscore\u001b[0m \u001b[1;33m=\u001b[0m \u001b[0mscore\u001b[0m\u001b[1;33m.\u001b[0m\u001b[0mtext\u001b[0m\u001b[1;33m\u001b[0m\u001b[1;33m\u001b[0m\u001b[0m\n\u001b[0;32m      9\u001b[0m \u001b[0mscore\u001b[0m\u001b[1;33m\u001b[0m\u001b[1;33m\u001b[0m\u001b[0m\n",
      "\u001b[1;32mC:\\ProgramData\\Anaconda3\\envs\\bingsu_jupyter\\lib\\site-packages\\selenium\\webdriver\\remote\\webdriver.py\u001b[0m in \u001b[0;36mfind_element_by_xpath\u001b[1;34m(self, xpath)\u001b[0m\n\u001b[0;32m    392\u001b[0m             \u001b[0melement\u001b[0m \u001b[1;33m=\u001b[0m \u001b[0mdriver\u001b[0m\u001b[1;33m.\u001b[0m\u001b[0mfind_element_by_xpath\u001b[0m\u001b[1;33m(\u001b[0m\u001b[1;34m'//div/td[1]'\u001b[0m\u001b[1;33m)\u001b[0m\u001b[1;33m\u001b[0m\u001b[1;33m\u001b[0m\u001b[0m\n\u001b[0;32m    393\u001b[0m         \"\"\"\n\u001b[1;32m--> 394\u001b[1;33m         \u001b[1;32mreturn\u001b[0m \u001b[0mself\u001b[0m\u001b[1;33m.\u001b[0m\u001b[0mfind_element\u001b[0m\u001b[1;33m(\u001b[0m\u001b[0mby\u001b[0m\u001b[1;33m=\u001b[0m\u001b[0mBy\u001b[0m\u001b[1;33m.\u001b[0m\u001b[0mXPATH\u001b[0m\u001b[1;33m,\u001b[0m \u001b[0mvalue\u001b[0m\u001b[1;33m=\u001b[0m\u001b[0mxpath\u001b[0m\u001b[1;33m)\u001b[0m\u001b[1;33m\u001b[0m\u001b[1;33m\u001b[0m\u001b[0m\n\u001b[0m\u001b[0;32m    395\u001b[0m \u001b[1;33m\u001b[0m\u001b[0m\n\u001b[0;32m    396\u001b[0m     \u001b[1;32mdef\u001b[0m \u001b[0mfind_elements_by_xpath\u001b[0m\u001b[1;33m(\u001b[0m\u001b[0mself\u001b[0m\u001b[1;33m,\u001b[0m \u001b[0mxpath\u001b[0m\u001b[1;33m)\u001b[0m\u001b[1;33m:\u001b[0m\u001b[1;33m\u001b[0m\u001b[1;33m\u001b[0m\u001b[0m\n",
      "\u001b[1;32mC:\\ProgramData\\Anaconda3\\envs\\bingsu_jupyter\\lib\\site-packages\\selenium\\webdriver\\remote\\webdriver.py\u001b[0m in \u001b[0;36mfind_element\u001b[1;34m(self, by, value)\u001b[0m\n\u001b[0;32m    976\u001b[0m         return self.execute(Command.FIND_ELEMENT, {\n\u001b[0;32m    977\u001b[0m             \u001b[1;34m'using'\u001b[0m\u001b[1;33m:\u001b[0m \u001b[0mby\u001b[0m\u001b[1;33m,\u001b[0m\u001b[1;33m\u001b[0m\u001b[1;33m\u001b[0m\u001b[0m\n\u001b[1;32m--> 978\u001b[1;33m             'value': value})['value']\n\u001b[0m\u001b[0;32m    979\u001b[0m \u001b[1;33m\u001b[0m\u001b[0m\n\u001b[0;32m    980\u001b[0m     \u001b[1;32mdef\u001b[0m \u001b[0mfind_elements\u001b[0m\u001b[1;33m(\u001b[0m\u001b[0mself\u001b[0m\u001b[1;33m,\u001b[0m \u001b[0mby\u001b[0m\u001b[1;33m=\u001b[0m\u001b[0mBy\u001b[0m\u001b[1;33m.\u001b[0m\u001b[0mID\u001b[0m\u001b[1;33m,\u001b[0m \u001b[0mvalue\u001b[0m\u001b[1;33m=\u001b[0m\u001b[1;32mNone\u001b[0m\u001b[1;33m)\u001b[0m\u001b[1;33m:\u001b[0m\u001b[1;33m\u001b[0m\u001b[1;33m\u001b[0m\u001b[0m\n",
      "\u001b[1;32mC:\\ProgramData\\Anaconda3\\envs\\bingsu_jupyter\\lib\\site-packages\\selenium\\webdriver\\remote\\webdriver.py\u001b[0m in \u001b[0;36mexecute\u001b[1;34m(self, driver_command, params)\u001b[0m\n\u001b[0;32m    319\u001b[0m         \u001b[0mresponse\u001b[0m \u001b[1;33m=\u001b[0m \u001b[0mself\u001b[0m\u001b[1;33m.\u001b[0m\u001b[0mcommand_executor\u001b[0m\u001b[1;33m.\u001b[0m\u001b[0mexecute\u001b[0m\u001b[1;33m(\u001b[0m\u001b[0mdriver_command\u001b[0m\u001b[1;33m,\u001b[0m \u001b[0mparams\u001b[0m\u001b[1;33m)\u001b[0m\u001b[1;33m\u001b[0m\u001b[1;33m\u001b[0m\u001b[0m\n\u001b[0;32m    320\u001b[0m         \u001b[1;32mif\u001b[0m \u001b[0mresponse\u001b[0m\u001b[1;33m:\u001b[0m\u001b[1;33m\u001b[0m\u001b[1;33m\u001b[0m\u001b[0m\n\u001b[1;32m--> 321\u001b[1;33m             \u001b[0mself\u001b[0m\u001b[1;33m.\u001b[0m\u001b[0merror_handler\u001b[0m\u001b[1;33m.\u001b[0m\u001b[0mcheck_response\u001b[0m\u001b[1;33m(\u001b[0m\u001b[0mresponse\u001b[0m\u001b[1;33m)\u001b[0m\u001b[1;33m\u001b[0m\u001b[1;33m\u001b[0m\u001b[0m\n\u001b[0m\u001b[0;32m    322\u001b[0m             response['value'] = self._unwrap_value(\n\u001b[0;32m    323\u001b[0m                 response.get('value', None))\n",
      "\u001b[1;32mC:\\ProgramData\\Anaconda3\\envs\\bingsu_jupyter\\lib\\site-packages\\selenium\\webdriver\\remote\\errorhandler.py\u001b[0m in \u001b[0;36mcheck_response\u001b[1;34m(self, response)\u001b[0m\n\u001b[0;32m    240\u001b[0m                 \u001b[0malert_text\u001b[0m \u001b[1;33m=\u001b[0m \u001b[0mvalue\u001b[0m\u001b[1;33m[\u001b[0m\u001b[1;34m'alert'\u001b[0m\u001b[1;33m]\u001b[0m\u001b[1;33m.\u001b[0m\u001b[0mget\u001b[0m\u001b[1;33m(\u001b[0m\u001b[1;34m'text'\u001b[0m\u001b[1;33m)\u001b[0m\u001b[1;33m\u001b[0m\u001b[1;33m\u001b[0m\u001b[0m\n\u001b[0;32m    241\u001b[0m             \u001b[1;32mraise\u001b[0m \u001b[0mexception_class\u001b[0m\u001b[1;33m(\u001b[0m\u001b[0mmessage\u001b[0m\u001b[1;33m,\u001b[0m \u001b[0mscreen\u001b[0m\u001b[1;33m,\u001b[0m \u001b[0mstacktrace\u001b[0m\u001b[1;33m,\u001b[0m \u001b[0malert_text\u001b[0m\u001b[1;33m)\u001b[0m\u001b[1;33m\u001b[0m\u001b[1;33m\u001b[0m\u001b[0m\n\u001b[1;32m--> 242\u001b[1;33m         \u001b[1;32mraise\u001b[0m \u001b[0mexception_class\u001b[0m\u001b[1;33m(\u001b[0m\u001b[0mmessage\u001b[0m\u001b[1;33m,\u001b[0m \u001b[0mscreen\u001b[0m\u001b[1;33m,\u001b[0m \u001b[0mstacktrace\u001b[0m\u001b[1;33m)\u001b[0m\u001b[1;33m\u001b[0m\u001b[1;33m\u001b[0m\u001b[0m\n\u001b[0m\u001b[0;32m    243\u001b[0m \u001b[1;33m\u001b[0m\u001b[0m\n\u001b[0;32m    244\u001b[0m     \u001b[1;32mdef\u001b[0m \u001b[0m_value_or_default\u001b[0m\u001b[1;33m(\u001b[0m\u001b[0mself\u001b[0m\u001b[1;33m,\u001b[0m \u001b[0mobj\u001b[0m\u001b[1;33m,\u001b[0m \u001b[0mkey\u001b[0m\u001b[1;33m,\u001b[0m \u001b[0mdefault\u001b[0m\u001b[1;33m)\u001b[0m\u001b[1;33m:\u001b[0m\u001b[1;33m\u001b[0m\u001b[1;33m\u001b[0m\u001b[0m\n",
      "\u001b[1;31mNoSuchElementException\u001b[0m: Message: no such element: Unable to locate element: {\"method\":\"xpath\",\"selector\":\"/html/body/div[@id = \"wrap\"]/div[@id = \"container\"]/div[@id = \"content\"]\n           /div[@class = \"article\"]/*/div[@class=\"score_result\"]\"}\n  (Session info: chrome=89.0.4389.82)\n"
     ]
    }
   ],
   "source": [
    "# 점수\n",
    "# score = '''/html/body/div[@id = \"wrap\"]/div[@id = \"container\"]/div[@id = \"content\"]\n",
    "#            /div[@class = \"article\"]/div[@class = \"section_group section_group_frst\"]\n",
    "#            /div[@class = \"obj_section noline\"]/div[@class = \"ifr_module2\"]/iframe'''\n",
    "score = '''/html/body/div[@id = \"wrap\"]/div[@id = \"container\"]/div[@id = \"content\"]\n",
    "           /div[@class = \"article\"]/*/div[@class=\"score_result\"]'''\n",
    "score = driver.find_element_by_xpath(score)\n",
    "score = score.text\n",
    "score"
   ]
  },
  {
   "cell_type": "code",
   "execution_count": 14,
   "metadata": {},
   "outputs": [
    {
     "ename": "NoSuchElementException",
     "evalue": "Message: no such element: Unable to locate element: {\"method\":\"xpath\",\"selector\":\"/html/body/div/div/div[5]/ul/li[1]\"}\n  (Session info: chrome=89.0.4389.82)\n",
     "output_type": "error",
     "traceback": [
      "\u001b[1;31m---------------------------------------------------------------------------\u001b[0m",
      "\u001b[1;31mNoSuchElementException\u001b[0m                    Traceback (most recent call last)",
      "\u001b[1;32m<ipython-input-14-c5bbd5d18f44>\u001b[0m in \u001b[0;36m<module>\u001b[1;34m\u001b[0m\n\u001b[1;32m----> 1\u001b[1;33m \u001b[0mscore\u001b[0m \u001b[1;33m=\u001b[0m \u001b[0mdriver\u001b[0m\u001b[1;33m.\u001b[0m\u001b[0mfind_element_by_xpath\u001b[0m\u001b[1;33m(\u001b[0m\u001b[0mscore\u001b[0m\u001b[1;33m)\u001b[0m\u001b[1;33m\u001b[0m\u001b[1;33m\u001b[0m\u001b[0m\n\u001b[0m",
      "\u001b[1;32mC:\\ProgramData\\Anaconda3\\envs\\bingsu_jupyter\\lib\\site-packages\\selenium\\webdriver\\remote\\webdriver.py\u001b[0m in \u001b[0;36mfind_element_by_xpath\u001b[1;34m(self, xpath)\u001b[0m\n\u001b[0;32m    392\u001b[0m             \u001b[0melement\u001b[0m \u001b[1;33m=\u001b[0m \u001b[0mdriver\u001b[0m\u001b[1;33m.\u001b[0m\u001b[0mfind_element_by_xpath\u001b[0m\u001b[1;33m(\u001b[0m\u001b[1;34m'//div/td[1]'\u001b[0m\u001b[1;33m)\u001b[0m\u001b[1;33m\u001b[0m\u001b[1;33m\u001b[0m\u001b[0m\n\u001b[0;32m    393\u001b[0m         \"\"\"\n\u001b[1;32m--> 394\u001b[1;33m         \u001b[1;32mreturn\u001b[0m \u001b[0mself\u001b[0m\u001b[1;33m.\u001b[0m\u001b[0mfind_element\u001b[0m\u001b[1;33m(\u001b[0m\u001b[0mby\u001b[0m\u001b[1;33m=\u001b[0m\u001b[0mBy\u001b[0m\u001b[1;33m.\u001b[0m\u001b[0mXPATH\u001b[0m\u001b[1;33m,\u001b[0m \u001b[0mvalue\u001b[0m\u001b[1;33m=\u001b[0m\u001b[0mxpath\u001b[0m\u001b[1;33m)\u001b[0m\u001b[1;33m\u001b[0m\u001b[1;33m\u001b[0m\u001b[0m\n\u001b[0m\u001b[0;32m    395\u001b[0m \u001b[1;33m\u001b[0m\u001b[0m\n\u001b[0;32m    396\u001b[0m     \u001b[1;32mdef\u001b[0m \u001b[0mfind_elements_by_xpath\u001b[0m\u001b[1;33m(\u001b[0m\u001b[0mself\u001b[0m\u001b[1;33m,\u001b[0m \u001b[0mxpath\u001b[0m\u001b[1;33m)\u001b[0m\u001b[1;33m:\u001b[0m\u001b[1;33m\u001b[0m\u001b[1;33m\u001b[0m\u001b[0m\n",
      "\u001b[1;32mC:\\ProgramData\\Anaconda3\\envs\\bingsu_jupyter\\lib\\site-packages\\selenium\\webdriver\\remote\\webdriver.py\u001b[0m in \u001b[0;36mfind_element\u001b[1;34m(self, by, value)\u001b[0m\n\u001b[0;32m    976\u001b[0m         return self.execute(Command.FIND_ELEMENT, {\n\u001b[0;32m    977\u001b[0m             \u001b[1;34m'using'\u001b[0m\u001b[1;33m:\u001b[0m \u001b[0mby\u001b[0m\u001b[1;33m,\u001b[0m\u001b[1;33m\u001b[0m\u001b[1;33m\u001b[0m\u001b[0m\n\u001b[1;32m--> 978\u001b[1;33m             'value': value})['value']\n\u001b[0m\u001b[0;32m    979\u001b[0m \u001b[1;33m\u001b[0m\u001b[0m\n\u001b[0;32m    980\u001b[0m     \u001b[1;32mdef\u001b[0m \u001b[0mfind_elements\u001b[0m\u001b[1;33m(\u001b[0m\u001b[0mself\u001b[0m\u001b[1;33m,\u001b[0m \u001b[0mby\u001b[0m\u001b[1;33m=\u001b[0m\u001b[0mBy\u001b[0m\u001b[1;33m.\u001b[0m\u001b[0mID\u001b[0m\u001b[1;33m,\u001b[0m \u001b[0mvalue\u001b[0m\u001b[1;33m=\u001b[0m\u001b[1;32mNone\u001b[0m\u001b[1;33m)\u001b[0m\u001b[1;33m:\u001b[0m\u001b[1;33m\u001b[0m\u001b[1;33m\u001b[0m\u001b[0m\n",
      "\u001b[1;32mC:\\ProgramData\\Anaconda3\\envs\\bingsu_jupyter\\lib\\site-packages\\selenium\\webdriver\\remote\\webdriver.py\u001b[0m in \u001b[0;36mexecute\u001b[1;34m(self, driver_command, params)\u001b[0m\n\u001b[0;32m    319\u001b[0m         \u001b[0mresponse\u001b[0m \u001b[1;33m=\u001b[0m \u001b[0mself\u001b[0m\u001b[1;33m.\u001b[0m\u001b[0mcommand_executor\u001b[0m\u001b[1;33m.\u001b[0m\u001b[0mexecute\u001b[0m\u001b[1;33m(\u001b[0m\u001b[0mdriver_command\u001b[0m\u001b[1;33m,\u001b[0m \u001b[0mparams\u001b[0m\u001b[1;33m)\u001b[0m\u001b[1;33m\u001b[0m\u001b[1;33m\u001b[0m\u001b[0m\n\u001b[0;32m    320\u001b[0m         \u001b[1;32mif\u001b[0m \u001b[0mresponse\u001b[0m\u001b[1;33m:\u001b[0m\u001b[1;33m\u001b[0m\u001b[1;33m\u001b[0m\u001b[0m\n\u001b[1;32m--> 321\u001b[1;33m             \u001b[0mself\u001b[0m\u001b[1;33m.\u001b[0m\u001b[0merror_handler\u001b[0m\u001b[1;33m.\u001b[0m\u001b[0mcheck_response\u001b[0m\u001b[1;33m(\u001b[0m\u001b[0mresponse\u001b[0m\u001b[1;33m)\u001b[0m\u001b[1;33m\u001b[0m\u001b[1;33m\u001b[0m\u001b[0m\n\u001b[0m\u001b[0;32m    322\u001b[0m             response['value'] = self._unwrap_value(\n\u001b[0;32m    323\u001b[0m                 response.get('value', None))\n",
      "\u001b[1;32mC:\\ProgramData\\Anaconda3\\envs\\bingsu_jupyter\\lib\\site-packages\\selenium\\webdriver\\remote\\errorhandler.py\u001b[0m in \u001b[0;36mcheck_response\u001b[1;34m(self, response)\u001b[0m\n\u001b[0;32m    240\u001b[0m                 \u001b[0malert_text\u001b[0m \u001b[1;33m=\u001b[0m \u001b[0mvalue\u001b[0m\u001b[1;33m[\u001b[0m\u001b[1;34m'alert'\u001b[0m\u001b[1;33m]\u001b[0m\u001b[1;33m.\u001b[0m\u001b[0mget\u001b[0m\u001b[1;33m(\u001b[0m\u001b[1;34m'text'\u001b[0m\u001b[1;33m)\u001b[0m\u001b[1;33m\u001b[0m\u001b[1;33m\u001b[0m\u001b[0m\n\u001b[0;32m    241\u001b[0m             \u001b[1;32mraise\u001b[0m \u001b[0mexception_class\u001b[0m\u001b[1;33m(\u001b[0m\u001b[0mmessage\u001b[0m\u001b[1;33m,\u001b[0m \u001b[0mscreen\u001b[0m\u001b[1;33m,\u001b[0m \u001b[0mstacktrace\u001b[0m\u001b[1;33m,\u001b[0m \u001b[0malert_text\u001b[0m\u001b[1;33m)\u001b[0m\u001b[1;33m\u001b[0m\u001b[1;33m\u001b[0m\u001b[0m\n\u001b[1;32m--> 242\u001b[1;33m         \u001b[1;32mraise\u001b[0m \u001b[0mexception_class\u001b[0m\u001b[1;33m(\u001b[0m\u001b[0mmessage\u001b[0m\u001b[1;33m,\u001b[0m \u001b[0mscreen\u001b[0m\u001b[1;33m,\u001b[0m \u001b[0mstacktrace\u001b[0m\u001b[1;33m)\u001b[0m\u001b[1;33m\u001b[0m\u001b[1;33m\u001b[0m\u001b[0m\n\u001b[0m\u001b[0;32m    243\u001b[0m \u001b[1;33m\u001b[0m\u001b[0m\n\u001b[0;32m    244\u001b[0m     \u001b[1;32mdef\u001b[0m \u001b[0m_value_or_default\u001b[0m\u001b[1;33m(\u001b[0m\u001b[0mself\u001b[0m\u001b[1;33m,\u001b[0m \u001b[0mobj\u001b[0m\u001b[1;33m,\u001b[0m \u001b[0mkey\u001b[0m\u001b[1;33m,\u001b[0m \u001b[0mdefault\u001b[0m\u001b[1;33m)\u001b[0m\u001b[1;33m:\u001b[0m\u001b[1;33m\u001b[0m\u001b[1;33m\u001b[0m\u001b[0m\n",
      "\u001b[1;31mNoSuchElementException\u001b[0m: Message: no such element: Unable to locate element: {\"method\":\"xpath\",\"selector\":\"/html/body/div/div/div[5]/ul/li[1]\"}\n  (Session info: chrome=89.0.4389.82)\n"
     ]
    }
   ],
   "source": [
    "score = driver.find_element_by_xpath(score)"
   ]
  },
  {
   "cell_type": "code",
   "execution_count": null,
   "metadata": {},
   "outputs": [],
   "source": [
    "score = score.text"
   ]
  },
  {
   "cell_type": "code",
   "execution_count": 48,
   "metadata": {},
   "outputs": [],
   "source": [
    "# 점수\n",
    "score = '/html/body/div'\n",
    "# /html/body/div/div/div[5]/ul/li[1]/div[2]/p/span[2]\n",
    "score = driver.find_element_by_xpath(score)\n",
    "score = score.text"
   ]
  },
  {
   "cell_type": "code",
   "execution_count": 49,
   "metadata": {},
   "outputs": [
    {
     "data": {
      "text/plain": [
       "'사용자 링크\\n로그인\\n서비스 더보기\\n영화검색 영역\\n영화검색\\n검색\\n본문 바로가기\\n영화홈\\n상영작·예정작\\n현재 상영영화\\n개봉 예정영화\\n예고편\\n영화랭킹\\n예매\\n평점·리뷰\\n다운로드\\n인디극장 UP\\n보기옵션\\n기본보기\\n넓게보기\\n원하시는 영화를 선택해보세요.\\n화제가 되고 있는 최신영화 정보를 한 눈에 확인하실 수 있습니다.\\n닫기\\n상영작 예매순위\\n상영예매순위, 예정작 개봉일순 더보기\\n\\n\\n\\n\\n\\n\\n\\n\\n\\n\\n\\n\\n\\n\\n\\n\\n극장판 바이올렛 에버가든\\n상영중\\n劇場版 ヴァイオレット・エヴァーガーデン, Violet Evergarden: The Movie, 202...\\n관람객 평점\\n관람객 평점 도움말\\n\\n\\n관람객 평점 9.69점\\n9.69\\n기자 · 평론가 평점\\n6.50\\n네티즌 평점\\n네티즌 평점 도움말\\n\\n\\n\\n9.50\\n내 평점\\n등록\\n애니메이션, 드라마, 판타지 일본 140분 2020 .11.12 개봉\\n이시다테 타이치\\n이시카와 유이(바이올렛 에버가든 목소리), 나미카와 다이스케(길베르트 부겐빌리아 목소리)\\n더보기\\n[국내] 전체 관람가\\n누적관객누적관객 도움말\\n59,987명(03.02 기준)\\n성별·나이별 관람추이\\n68%\\n32%\\n남자\\n여자\\n18%\\n10대\\n56%\\n20대\\n17%\\n30대\\n8%\\n40대\\n2%\\n50대\\n이상\\n예매하기\\n2,085\\n블로그\\n카페\\nKeep\\n메모\\n보내기\\n\\n\\n\\n\\n\\n\\n\\n\\n\\n\\n\\n포스터 크게보기\\n주요정보\\n배우/제작진\\n포토\\n동영상\\n평점\\n리뷰\\n상영시간표\\n명대사/연관영화\\n\\n네티즌 평점\\n도움말\\n\\n\\n9.50\\n참여\\n993명\\n이 영화는 20대 남성이 좋아하는 영상미가 뛰어난 영화입니다.\\n성별·나이별 만족도\\n9.28\\n남자\\n9.56\\n여자\\n10대\\n9.60\\n20대\\n9.20\\n30대\\n9.15\\n40대\\n9.17\\n50대\\n이상\\n9.73\\n감상포인트\\n21%\\n15%\\n21%\\n25%\\n18%\\n연출\\n21%\\n연기\\n15%\\n스토리\\n21%\\n영상미\\n25%\\nOST\\n18%\\n관람객 평점\\n도움말\\n\\n9.69\\n참여\\n418명\\n그래프는 5분 주기로 업데이트 됩니다.\\n\\n기자 · 평론가 평점\\n별점 - 총 10점 중\\n6.50\\n참여 2 명\\n7\\n진심을 전하는, 애틋하고 아름다운 마무리\\n씨네21\\n| 송경원\\n6\\n발화된 말의 온기가 마음을 따뜻하게 데운다\\n씨네21\\n| 조현나\\nMOIVE RANKING\\n2021.03.02 기준\\n영화 인기검색어\\n1위\\n미션 파서블\\n보합\\n0\\n2위\\n극장판 귀멸의 칼날: 무한열차편\\n보합\\n0\\n3위\\n톰과 제리\\n보합\\n0\\n4위\\n카오스 워킹\\n상승\\n1\\n5위\\n소울\\n하락\\n1\\n6위\\n미나리\\n상승\\n2\\n7위\\n퍼펙트 케어\\n하락\\n1\\n8위\\n워 위드 그랜파\\n하락\\n1\\n9위\\n더 레이서\\n보합\\n0\\n10위\\n라스트 레터\\n보합\\n0\\n영화인 인기검색어\\n1위\\n전여빈\\n보합\\n0\\n2위\\n클로이 모레츠\\n상승\\n1\\n3위\\n조성희\\n하락\\n1\\n4위\\n김태리\\n보합\\n0\\n5위\\n톰 하디\\n보합\\n0\\n6위\\n이병헌\\n보합\\n0\\n7위\\n마동석\\n보합\\n0\\n8위\\n오인혜\\n보합\\n0\\n9위\\n레오나르도 디카프리오\\n보합\\n0\\n10위\\n이선빈\\n상승\\n1\\n티켓 예매순\\n1위\\n미나리\\n37.22%\\n2위\\n극장판 귀멸의 칼날: 무한열차편\\n13.93%\\n3위\\n라야와 마지막 드래곤\\n11.67%\\n4위\\n중경삼림\\n5.42%\\n5위\\n소울\\n5.31%\\n6위\\n더 레이서\\n2.95%\\n7위\\n미션 파서블\\n2.51%\\n8위\\n톰과 제리\\n2.51%\\n9위\\n카오스 워킹\\n2.20%\\n10위\\n더블패티\\n1.95%\\n영화정보의 수정이나 신규생성이 필요한 경우 고객센터 DB제보로 문의해주세요.고객센터 DB제보 문의하기\\n본 페이지는 나눔글꼴에 최적화 되어있습니다.나눔글꼴설치\\n이용약관 개인정보처리방침 책임의 한계와 법적고지 영화 고객센터\\n본 콘텐츠의 저작권은 저작권자 또는 제공처에 있으며, 이를 무단 이용하는 경우 저작권법 등에 따라 법적 책임을 질 수 있습니다.\\n사업자등록번호 : 220-81-62517통신판매업 신고번호 : 경기성남 제 2006 - 692호대표이사 : 한성숙사업자등록정보 확인\\n주소 : 경기도 성남시 분당구 불정로 6 네이버 그린팩토리 대표전화 : 1588-3820\\nCopyright © NAVER Corp. All Rights Reserved.'"
      ]
     },
     "execution_count": 49,
     "metadata": {},
     "output_type": "execute_result"
    }
   ],
   "source": [
    "score"
   ]
  },
  {
   "cell_type": "code",
   "execution_count": null,
   "metadata": {},
   "outputs": [],
   "source": [
    "# 관람평\n",
    "Review = '/html/body/div/div/div[5]/ul/li[1]/div[2]/p/span[2]'\n",
    "score = driver.find_element_by_xpath(score)\n",
    "score = score.text\n",
    "\n",
    "# 평점 입력시간\n",
    "time = '/html/body/div/div/div[5]/ul/li[1]/div[2]/dl/dt/em[2]'\n",
    "score = driver.find_element_by_xpath(score)\n",
    "score = score.text"
   ]
  },
  {
   "cell_type": "code",
   "execution_count": null,
   "metadata": {},
   "outputs": [],
   "source": [
    "browser.find_elements_by_css_selector(locates)"
   ]
  },
  {
   "cell_type": "code",
   "execution_count": null,
   "metadata": {},
   "outputs": [],
   "source": []
  },
  {
   "cell_type": "code",
   "execution_count": null,
   "metadata": {},
   "outputs": [],
   "source": []
  },
  {
   "cell_type": "code",
   "execution_count": null,
   "metadata": {},
   "outputs": [],
   "source": [
    "# 텍스트 가져오기\n",
    "table = driver.find_element_by_xpath(\"//table[@class='default']\")\n",
    "table_data = table.text"
   ]
  },
  {
   "cell_type": "markdown",
   "metadata": {},
   "source": [
    "--------------------------------------------------------------------------------------------------------------------------------\n",
    "--------------------------------------------------------------------------------------------------------------------------------\n",
    "--------------------------------------------------------------------------------------------------------------------------------"
   ]
  },
  {
   "cell_type": "code",
   "execution_count": null,
   "metadata": {},
   "outputs": [],
   "source": [
    "# # 클릭하기\n",
    "# id_input=driver.find_element_by_xpath('/html/body/div[2]/div[3]/div[2]/div[1]/div[5]/div[1]/div/input')\n",
    "# id_input.click()\n",
    "\n",
    "# # 텍스트 입력\n",
    "# id_input.send_keys(mody_kakao)\n",
    "# time.sleep(1)\n",
    "\n",
    "# # 텍스트 가져오기\n",
    "# table = driver.find_element_by_xpath(\"//table[@class='default']\")\n",
    "# table_data = table.text"
   ]
  },
  {
   "cell_type": "code",
   "execution_count": null,
   "metadata": {},
   "outputs": [],
   "source": [
    "# 해당 태그 존재 여부를 확인하기까지 3초 정지\n",
    "element = WebDriverWait(driver, 3).until(EC.presence_of_element_located((By.CLASS_NAME, 'list_title'))) \n",
    "\n",
    "theater_list = []\n",
    "pageNum = int(driver.find_element_by_class_name('_totalCount').text)\n",
    "count = 0\n",
    "\n",
    "for i in range(1, pageNum):\n",
    "    theater_data = driver.find_elements_by_class_name('list_title')\n",
    "    img_data = driver.find_elements_by_class_name('list_thumb')\n",
    "\n",
    "    for k in theater_data:\n",
    "        theater_list.append(k.text.split('\\n'))\n",
    "\n",
    "    for j in img_data:  # 이미지 크롤링\n",
    "        count += 1\n",
    "        j.screenshot(f'img/{count}.png')\n",
    "\n",
    "    driver.find_element_by_xpath(\"//a[@class='btn_page_next _btnNext on']\").click()\n",
    "    time.sleep(2) # 웹페이지를 불러오기 위해 2초 정지"
   ]
  },
  {
   "cell_type": "code",
   "execution_count": null,
   "metadata": {},
   "outputs": [],
   "source": [
    "# 페이지 소스 가져오기\n",
    "html = driver.page_source\n",
    "\n",
    "# 객체 생성\n",
    "soup = BeautifulSoup(html)"
   ]
  },
  {
   "cell_type": "code",
   "execution_count": null,
   "metadata": {},
   "outputs": [],
   "source": [
    "#xpath\n",
    "id_input=driver.find_element_by_xpath('/html/body/div[2]/div[1]/ul/li[2]/a')\n",
    "id_input.click()\n",
    "\n",
    "#time.sleep(5)\n",
    "\n",
    "id_input=driver.find_element_by_xpath('/html/body/div[2]/div[3]/div[2]/div[1]/div[5]/div[1]/div/input')\n",
    "id_input.click()\n",
    "\n",
    "id_input.send_keys(str(champ))\n",
    "\n",
    "id_input=driver.find_element_by_xpath(\"/html/body/div[2]/div[3]/div[2]/div[1]/div[5]/div[3]/div[\" + str(dict1[str(champ)]) +\"]/a/div[1]/i\")\n",
    "id_input.click()\n",
    "\n",
    "#/html/body/div[2]/div[3]/div[2]/div[1]/div[5]/div[3]/div[1]/a/div[1]/i\n",
    "#/html/body/div[2]/div[3]/div[2]/div[1]/div[5]/div[3]/div[2]/a/div[1]/i\n",
    "#/html/body/div[2]/div[3]/div[2]/div[1]/div[5]/div[3]/div[20]/a/div[1]/i\n",
    "\n",
    "aa=driver.page_source\n",
    "\n",
    "prod_soup = BeautifulSoup(aa, 'html.parser')\n",
    "result=prod_soup.find_all('td', attrs={'class': 'champion-overview__stats champion-overview__stats--pick'})[0]('strong')[0].text\n",
    "\n",
    "\n",
    "\n",
    "dict1 = {\"럭스\" : 20,\n",
    "         \"가렌\" : 1}\n"
   ]
  },
  {
   "cell_type": "code",
   "execution_count": null,
   "metadata": {},
   "outputs": [],
   "source": []
  },
  {
   "cell_type": "code",
   "execution_count": null,
   "metadata": {},
   "outputs": [],
   "source": []
  },
  {
   "cell_type": "code",
   "execution_count": null,
   "metadata": {},
   "outputs": [],
   "source": [
    "options = webdriver.ChromeOptions()\n",
    "options.add_argument('headless')    # 웹 브라우저를 띄우지 않는 headless chrome 옵션 적용\n",
    "options.add_argument('disable-gpu')    # GPU 사용 안함\n",
    "options.add_argument('lang=ko_KR')    # 언어 설정\n",
    "driver = webdriver.Chrome(chromedriver, options=options)\n",
    "\n",
    "driver.get(url)"
   ]
  },
  {
   "cell_type": "code",
   "execution_count": null,
   "metadata": {},
   "outputs": [],
   "source": [
    "for i in range(1, pageNum):\n",
    "        theater_data = driver.find_elements_by_class_name('list_title')\n",
    "\n",
    "        for k in theater_data:\n",
    "            theater_list.append(k.text.split('\\n'))\n",
    "\n",
    "        driver.find_element_by_xpath(\"//a[@class='btn_page_next _btnNext on']\").click()\n",
    "        time.sleep(2)\n",
    "        \n",
    "# 비어있는 리스트(theater_list)를 생성합니다.\n",
    "# pageNum은 다음으로 넘어가는 페이지의 최대 수를 class name으로 가져와서 해당 숫자만큼 for문으로 반복합니다.\n",
    "# list_title에 해당하는 모든 데이터를 리스트로 가져와서 비어있던 리스트에 append 시킵니다. (.text를 적용하면 텍스트 형태로 추출이 가능합니다.)\n",
    "# 첫 페이지를 크롤링 했다면 다음 페이지로 넘어가기 위해 해당 태그를 찾아서 .click()을 적용하여 마우스를 자동화 시킨 후 새로운 내용이 업로드 될 때 까지 time.sleep(2)를 적용하여 2초 동안 기다리게 합니다."
   ]
  },
  {
   "cell_type": "code",
   "execution_count": null,
   "metadata": {},
   "outputs": [],
   "source": [
    "from selenium.common.exceptions import TimeoutException\n",
    "\n",
    "except TimeoutException:    # 예외 처리\n",
    "    print('해당 페이지에 연극 정보가 존재하지 않습니다.')\n",
    "    \n",
    "# 예외 처리 기능 : 해당 태그를 찾을 때 없다면 except TimeoutException만 실행 시킴"
   ]
  },
  {
   "cell_type": "code",
   "execution_count": null,
   "metadata": {},
   "outputs": [],
   "source": [
    "finally:\n",
    "    driver.quit() # 종료\n",
    "    \n",
    "# 반드시 실행 시키는 기능 : 정상, 예외 처리 둘 중 하나여도 반드시 실행시킴"
   ]
  },
  {
   "cell_type": "code",
   "execution_count": null,
   "metadata": {},
   "outputs": [],
   "source": [
    "img_data = driver.find_elements_by_class_name('list_thumb')\n",
    "\n",
    "for j in img_data:\n",
    "            count += 1\n",
    "            j.screenshot(f'img/{count}.png')\n",
    "            \n",
    "# 이미지 크롤링 png 파일 저장"
   ]
  },
  {
   "cell_type": "code",
   "execution_count": null,
   "metadata": {},
   "outputs": [],
   "source": [
    "# theater_list를 Pandas.DataFrame으로 다음과 같이 표현할 수 있다.\n",
    "\n",
    "import pandas as pd\n",
    "\n",
    "theater_df = pd.DataFrame(theater_list,\n",
    "                          columns=['연극명', '기간', '장소', '개막일', '폐막일', '오픈런'])\n",
    "theater_df.index = theater_df.index + 1    # 인덱스 초기값 1로 변경\n",
    "theater_df['개막일'] = pd.to_datetime(theater_df['개막일'], format='%y.%m.%d.')\n",
    "theater_df['폐막일'] = pd.to_datetime(theater_df['폐막일'], format='%y.%m.%d.')"
   ]
  },
  {
   "cell_type": "code",
   "execution_count": null,
   "metadata": {},
   "outputs": [],
   "source": [
    "from urllib.parse import quote_plus    # 한글 텍스트를 퍼센트 인코딩으로 변환\n",
    "from selenium import webdriver\n",
    "from selenium.webdriver.common.by import By\n",
    "from selenium.webdriver.support.ui import WebDriverWait   # 해당 태그를 기다림\n",
    "from selenium.webdriver.support import expected_conditions as EC\n",
    "from selenium.common.exceptions import TimeoutException    # 태그가 없는 예외 처리\n",
    "import time\n",
    "import pandas as pd\n",
    "\n",
    "_input = input('''-월--일, -월, 이번주, 이번주말 중 선택하여 입력해주세요.\n",
    "                                 (-은 숫자 입력, 이번년도만 가능) : ''')\n",
    "user_input = quote_plus(_input)\n",
    "\n",
    "url = f'https://search.naver.com/search.naver?where=nexearch&sm=tab_etc&query={user_input}%20%EC%97%B0%EA%B7%B9%20%EA%B3%B5%EC%97%B0'\n",
    "chromedriver = '/home/leejiheon/workspace/crawling/chromedriver'\n",
    "\n",
    "options = webdriver.ChromeOptions()\n",
    "options.add_argument('headless')    # 웹 브라우저를 띄우지 않는 headlss chrome 옵션 적용\n",
    "options.add_argument('disable-gpu')    # GPU 사용 안함\n",
    "options.add_argument('lang=ko_KR')    # 언어 설정\n",
    "driver = webdriver.Chrome(chromedriver, options=options)\n",
    "\n",
    "driver.get(url)\n",
    "\n",
    "try:    # 정상 처리\n",
    "    element = WebDriverWait(driver, 3).until(\n",
    "        EC.presence_of_element_located((By.CLASS_NAME, 'list_title'))\n",
    "    )    # 해당 태그 존재 여부를 확인하기까지 3초 정지\n",
    "    theater_list = []\n",
    "    pageNum = int(driver.find_element_by_class_name('_totalCount').text)\n",
    "    count = 0\n",
    "    \n",
    "    for i in range(1, pageNum):\n",
    "        theater_data = driver.find_elements_by_class_name('list_title')\n",
    "        img_data = driver.find_elements_by_class_name('list_thumb')\n",
    "\n",
    "        for k in theater_data:\n",
    "            theater_list.append(k.text.split('\\n'))\n",
    "        \n",
    "        for j in img_data:  # 이미지 크롤링\n",
    "            count += 1\n",
    "            j.screenshot(f'img/{count}.png')\n",
    "        \n",
    "        driver.find_element_by_xpath(\"//a[@class='btn_page_next _btnNext on']\").click()\n",
    "        time.sleep(2) # 웹페이지를 불러오기 위해 2초 정지\n",
    "\n",
    "except TimeoutException:    # 예외 처리\n",
    "    print('해당 페이지에 연극 정보가 존재하지 않습니다.')\n",
    "\n",
    "finally:    # 정상, 예외 둘 중 하나여도 반드시 실행\n",
    "    driver.quit()\n",
    "\n",
    "for i in range(len(theater_list)):\n",
    "    theater_list[i].append(theater_list[i][1].split('~')[0])\n",
    "    theater_list[i].append(theater_list[i][1].split('~')[1])\n",
    "\n",
    "for i in range(len(theater_list)):\n",
    "    if theater_list[i][4] == '오픈런':\n",
    "        theater_list[i][4] = '50.01.01.'\n",
    "        theater_list[i].append('True')\n",
    "    else:\n",
    "        theater_list[i].append('False')\n",
    "\n",
    "theater_df = pd.DataFrame(theater_list,\n",
    "                          columns=['연극명', '기간', '장소', '개막일', '폐막일', '오픈런'])\n",
    "theater_df.index = theater_df.index + 1    # 인덱스 초기값 1로 변경\n",
    "theater_df['개막일'] = pd.to_datetime(theater_df['개막일'], format='%y.%m.%d.')\n",
    "theater_df['폐막일'] = pd.to_datetime(theater_df['폐막일'], format='%y.%m.%d.')\n",
    "theater_df.to_csv(f'theater_{_input}_df.csv', mode='w', encoding='utf-8-sig',\n",
    "                   header=True, index=True)\n",
    "\n",
    "print('웹 크롤링이 완료되었습니다.')\n"
   ]
  },
  {
   "cell_type": "code",
   "execution_count": null,
   "metadata": {},
   "outputs": [],
   "source": []
  },
  {
   "cell_type": "code",
   "execution_count": null,
   "metadata": {},
   "outputs": [],
   "source": []
  },
  {
   "cell_type": "code",
   "execution_count": null,
   "metadata": {},
   "outputs": [],
   "source": []
  },
  {
   "cell_type": "code",
   "execution_count": null,
   "metadata": {},
   "outputs": [],
   "source": [
    "검색 시\n",
    "find_element_by_id(‘id명’)\n",
    "find_element_by_class_name(‘class명’)\n",
    "find_element_by_xpath(‘xpath’)\n",
    "find_element_by_tag_name(‘tag명’)\n",
    "\n",
    "driver.text는 get_text()와 같음"
   ]
  },
  {
   "cell_type": "code",
   "execution_count": null,
   "metadata": {},
   "outputs": [],
   "source": []
  },
  {
   "cell_type": "code",
   "execution_count": null,
   "metadata": {},
   "outputs": [],
   "source": []
  }
 ],
 "metadata": {
  "kernelspec": {
   "display_name": "Python 3",
   "language": "python",
   "name": "python3"
  },
  "language_info": {
   "codemirror_mode": {
    "name": "ipython",
    "version": 3
   },
   "file_extension": ".py",
   "mimetype": "text/x-python",
   "name": "python",
   "nbconvert_exporter": "python",
   "pygments_lexer": "ipython3",
   "version": "3.8.5"
  }
 },
 "nbformat": 4,
 "nbformat_minor": 4
}
